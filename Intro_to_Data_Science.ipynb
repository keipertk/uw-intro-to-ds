{
 "cells": [
  {
   "cell_type": "markdown",
   "metadata": {},
   "source": [
    "# Introduction to Data Science\n",
    "\n",
    "The goal of data science is to discover knowledge from the data set. Data Science\n",
    "is a mix of mathematics, statistics, data analysis, and machine learning with\n",
    "a very healthy dose of visualization.\n",
    "\n",
    "Data science is increasingly becoming a key tool in research. Jim Gray, of\n",
    "Microsoft fame \"...imagined data science as the ‘fourth paradigm’ of science\".\n",
    "There is evidence of this by this increased number of new degrees in data\n",
    "science being offered, the increasing number of research papers in\n",
    "non-Machine Learning conferences. Keep in mind that Data Science is\n",
    "different from Machine Learning but they are connected.\n",
    "\n",
    "The first step in Data Science, and one that will be explored in this\n",
    "workshop, is to explore your data set and understand it. From understanding\n",
    "your data set can come the extraction of information.\n",
    "\n",
    "With this in mind, let's jump into the first data set."
   ]
  },
  {
   "cell_type": "markdown",
   "metadata": {},
   "source": [
    "---"
   ]
  },
  {
   "cell_type": "markdown",
   "metadata": {},
   "source": [
    "<a id='First Problem'></a>\n",
    "# 1. First Data Set - Predict Weight and Height based on Gender\n",
    "\n",
    "The first problem is a very simple data set that contains height, weight, and gender data\n",
    "from <a href=\"https://www.kaggle.com/mustafaali96/weight-height\">Kaggle</a>. It makes a\n",
    "good data set to begin understanding \"data science\".\n",
    "\n",
    "The Kaggle data file used in this section is located in a sub-directory in this container.\n",
    "The container is <tt>/data</tt>.\n",
    "\n",
    "Our first step is to load the data using Pandas."
   ]
  },
  {
   "cell_type": "code",
   "execution_count": 1,
   "metadata": {},
   "outputs": [],
   "source": [
    "import pandas as pd\n",
    "import numpy as np\n",
    "\n",
    "dataset = pd.read_csv(\"data/weight-height.csv\")"
   ]
  },
  {
   "cell_type": "markdown",
   "metadata": {},
   "source": [
    "<a id='Initial Examination - First'></a>\n",
    "## 1.1 Initial Examination of Data Set\n",
    "\n",
    "Once the data set is loaded, a good first step is to do a quick examination\n",
    "of the data set itself.\n",
    "\n",
    "To start, let's look at the first 5 rows of the dataset to see how the data\n",
    "is organized."
   ]
  },
  {
   "cell_type": "code",
   "execution_count": 2,
   "metadata": {},
   "outputs": [
    {
     "data": {
      "text/html": [
       "<div>\n",
       "<style scoped>\n",
       "    .dataframe tbody tr th:only-of-type {\n",
       "        vertical-align: middle;\n",
       "    }\n",
       "\n",
       "    .dataframe tbody tr th {\n",
       "        vertical-align: top;\n",
       "    }\n",
       "\n",
       "    .dataframe thead th {\n",
       "        text-align: right;\n",
       "    }\n",
       "</style>\n",
       "<table border=\"1\" class=\"dataframe\">\n",
       "  <thead>\n",
       "    <tr style=\"text-align: right;\">\n",
       "      <th></th>\n",
       "      <th>Gender</th>\n",
       "      <th>Height</th>\n",
       "      <th>Weight</th>\n",
       "    </tr>\n",
       "  </thead>\n",
       "  <tbody>\n",
       "    <tr>\n",
       "      <th>0</th>\n",
       "      <td>Male</td>\n",
       "      <td>73.847017</td>\n",
       "      <td>241.893563</td>\n",
       "    </tr>\n",
       "    <tr>\n",
       "      <th>1</th>\n",
       "      <td>Male</td>\n",
       "      <td>68.781904</td>\n",
       "      <td>162.310473</td>\n",
       "    </tr>\n",
       "    <tr>\n",
       "      <th>2</th>\n",
       "      <td>Male</td>\n",
       "      <td>74.110105</td>\n",
       "      <td>212.740856</td>\n",
       "    </tr>\n",
       "    <tr>\n",
       "      <th>3</th>\n",
       "      <td>Male</td>\n",
       "      <td>71.730978</td>\n",
       "      <td>220.042470</td>\n",
       "    </tr>\n",
       "    <tr>\n",
       "      <th>4</th>\n",
       "      <td>Male</td>\n",
       "      <td>69.881796</td>\n",
       "      <td>206.349801</td>\n",
       "    </tr>\n",
       "  </tbody>\n",
       "</table>\n",
       "</div>"
      ],
      "text/plain": [
       "  Gender     Height      Weight\n",
       "0   Male  73.847017  241.893563\n",
       "1   Male  68.781904  162.310473\n",
       "2   Male  74.110105  212.740856\n",
       "3   Male  71.730978  220.042470\n",
       "4   Male  69.881796  206.349801"
      ]
     },
     "execution_count": 2,
     "metadata": {},
     "output_type": "execute_result"
    }
   ],
   "source": [
    "dataset.head(5)"
   ]
  },
  {
   "cell_type": "markdown",
   "metadata": {},
   "source": [
    "Let's do the same thing but for the last 5 rows."
   ]
  },
  {
   "cell_type": "code",
   "execution_count": 3,
   "metadata": {},
   "outputs": [
    {
     "data": {
      "text/html": [
       "<div>\n",
       "<style scoped>\n",
       "    .dataframe tbody tr th:only-of-type {\n",
       "        vertical-align: middle;\n",
       "    }\n",
       "\n",
       "    .dataframe tbody tr th {\n",
       "        vertical-align: top;\n",
       "    }\n",
       "\n",
       "    .dataframe thead th {\n",
       "        text-align: right;\n",
       "    }\n",
       "</style>\n",
       "<table border=\"1\" class=\"dataframe\">\n",
       "  <thead>\n",
       "    <tr style=\"text-align: right;\">\n",
       "      <th></th>\n",
       "      <th>Gender</th>\n",
       "      <th>Height</th>\n",
       "      <th>Weight</th>\n",
       "    </tr>\n",
       "  </thead>\n",
       "  <tbody>\n",
       "    <tr>\n",
       "      <th>9995</th>\n",
       "      <td>Female</td>\n",
       "      <td>66.172652</td>\n",
       "      <td>136.777454</td>\n",
       "    </tr>\n",
       "    <tr>\n",
       "      <th>9996</th>\n",
       "      <td>Female</td>\n",
       "      <td>67.067155</td>\n",
       "      <td>170.867906</td>\n",
       "    </tr>\n",
       "    <tr>\n",
       "      <th>9997</th>\n",
       "      <td>Female</td>\n",
       "      <td>63.867992</td>\n",
       "      <td>128.475319</td>\n",
       "    </tr>\n",
       "    <tr>\n",
       "      <th>9998</th>\n",
       "      <td>Female</td>\n",
       "      <td>69.034243</td>\n",
       "      <td>163.852461</td>\n",
       "    </tr>\n",
       "    <tr>\n",
       "      <th>9999</th>\n",
       "      <td>Female</td>\n",
       "      <td>61.944246</td>\n",
       "      <td>113.649103</td>\n",
       "    </tr>\n",
       "  </tbody>\n",
       "</table>\n",
       "</div>"
      ],
      "text/plain": [
       "      Gender     Height      Weight\n",
       "9995  Female  66.172652  136.777454\n",
       "9996  Female  67.067155  170.867906\n",
       "9997  Female  63.867992  128.475319\n",
       "9998  Female  69.034243  163.852461\n",
       "9999  Female  61.944246  113.649103"
      ]
     },
     "execution_count": 3,
     "metadata": {},
     "output_type": "execute_result"
    }
   ],
   "source": [
    "dataset.tail(5)"
   ]
  },
  {
   "cell_type": "markdown",
   "metadata": {},
   "source": [
    "Let's get the \"shape\" of the data set. We can use this information to\n",
    "make sure we have the correct number of rows (data point) and columns\n",
    "(independent variables and dependent variables)."
   ]
  },
  {
   "cell_type": "code",
   "execution_count": 4,
   "metadata": {},
   "outputs": [
    {
     "data": {
      "text/plain": [
       "(10000, 3)"
      ]
     },
     "execution_count": 4,
     "metadata": {},
     "output_type": "execute_result"
    }
   ],
   "source": [
    "dataset.shape"
   ]
  },
  {
   "cell_type": "markdown",
   "metadata": {},
   "source": [
    "There are 10,000 data points in the data set and 3 variables (<tt>gender</tt>,\n",
    "<tt>height</tt>, and <tt>weight</tt>). \n",
    "\n",
    "Let's use some standard Pandas methods to get examine the data set.\n",
    "The first method is \"info\". This gives you some information about the\n",
    "data frame. Note that it includes the names of the columns."
   ]
  },
  {
   "cell_type": "code",
   "execution_count": 5,
   "metadata": {},
   "outputs": [
    {
     "name": "stdout",
     "output_type": "stream",
     "text": [
      "<class 'pandas.core.frame.DataFrame'>\n",
      "RangeIndex: 10000 entries, 0 to 9999\n",
      "Data columns (total 3 columns):\n",
      " #   Column  Non-Null Count  Dtype  \n",
      "---  ------  --------------  -----  \n",
      " 0   Gender  10000 non-null  object \n",
      " 1   Height  10000 non-null  float64\n",
      " 2   Weight  10000 non-null  float64\n",
      "dtypes: float64(2), object(1)\n",
      "memory usage: 234.5+ KB\n"
     ]
    }
   ],
   "source": [
    "dataset.info()"
   ]
  },
  {
   "cell_type": "markdown",
   "metadata": {},
   "source": [
    "The output from the \"info\" method gives us some information about the\n",
    "Pandas data frame. It tells us number of \"non-null\" data points (it should be\n",
    "the same as the output from the \"shape\" method). It also tells you the data\n",
    "type for each variable. Finally, it tells you the amount of memory used by the data frame.\n",
    "\n",
    "What else do you observe from the output?\n",
    "\n",
    "The output from the method refers to \"non-null\" values. It's possible for the data set to\n",
    "include non-numeric values. The next section briefly explores that."
   ]
  },
  {
   "cell_type": "markdown",
   "metadata": {},
   "source": [
    "<a id='Missing Data - First'></a>\n",
    "## 1.2 Missing Data\n",
    "\n",
    "Sometimes data sets contain missing values that need to be found and corrected.\n",
    "Generically, this is referred to as \"Missing Data\" within Pandas. \n",
    "\n",
    "Sometimes data contains non-numeric value such as NaN (\"Not a Number\"), or a \"null\".\n",
    "We need numeric data in our computations, so we need to correct these values.\n",
    "Pandas refers to these values as \"missing data\". Pandas marks values with  NaNs,\n",
    "etc, as \"null\". So we only need to focus on those values.\n",
    "\n",
    "The first step is to find out if we have any \"missing data\" in the data frame.\n",
    "We can use a couple of methods within the data frame object for this.\n",
    "\n",
    "<strong>Reference</strong>:\n",
    "<a href=\"https://pandas.pydata.org/pandas-docs/stable/user_guide/missing_data.html\">Pandas reference</a>"
   ]
  },
  {
   "cell_type": "code",
   "execution_count": 6,
   "metadata": {},
   "outputs": [
    {
     "data": {
      "text/plain": [
       "False"
      ]
     },
     "execution_count": 6,
     "metadata": {},
     "output_type": "execute_result"
    }
   ],
   "source": [
    "dataset.isnull().values.any()"
   ]
  },
  {
   "cell_type": "code",
   "execution_count": 7,
   "metadata": {},
   "outputs": [
    {
     "data": {
      "text/plain": [
       "Gender    0\n",
       "Height    0\n",
       "Weight    0\n",
       "dtype: int64"
      ]
     },
     "execution_count": 7,
     "metadata": {},
     "output_type": "execute_result"
    }
   ],
   "source": [
    "dataset.isnull().sum()"
   ]
  },
  {
   "cell_type": "markdown",
   "metadata": {},
   "source": [
    "What do you see?"
   ]
  },
  {
   "cell_type": "markdown",
   "metadata": {},
   "source": [
    "<a id='Summary Statistics - First'></a>\n",
    "## 1.3 Summary Statistics\n",
    "\n",
    "Since the data set seems OK, let's now compute the summary statistics. Pandas has a\n",
    "built-in method for computing everything, <tt>describe</tt>. The defaults for this\n",
    "method compute and print the following statistical measures.\n",
    "    \n",
    "1. count - how many rows in each column (independent variable)\n",
    "2. mean\n",
    "3. standard deviation\n",
    "4. minimum value\n",
    "5. value for 25% percentile\n",
    "6. value for 50% percentile\n",
    "7. value for 75% percentile\n",
    "8. maximum value\n",
    "    \n",
    "The percentiles can be adjusted by giving Pandas an input list of the desired values.\n",
    "For the example, let's leave everything as default.\n",
    "\n",
    "Let's look at the data for the entire population, then women, then men."
   ]
  },
  {
   "cell_type": "code",
   "execution_count": 8,
   "metadata": {},
   "outputs": [
    {
     "data": {
      "text/html": [
       "<div>\n",
       "<style scoped>\n",
       "    .dataframe tbody tr th:only-of-type {\n",
       "        vertical-align: middle;\n",
       "    }\n",
       "\n",
       "    .dataframe tbody tr th {\n",
       "        vertical-align: top;\n",
       "    }\n",
       "\n",
       "    .dataframe thead th {\n",
       "        text-align: right;\n",
       "    }\n",
       "</style>\n",
       "<table border=\"1\" class=\"dataframe\">\n",
       "  <thead>\n",
       "    <tr style=\"text-align: right;\">\n",
       "      <th></th>\n",
       "      <th>Height</th>\n",
       "      <th>Weight</th>\n",
       "    </tr>\n",
       "  </thead>\n",
       "  <tbody>\n",
       "    <tr>\n",
       "      <th>count</th>\n",
       "      <td>10000.000000</td>\n",
       "      <td>10000.000000</td>\n",
       "    </tr>\n",
       "    <tr>\n",
       "      <th>mean</th>\n",
       "      <td>66.367560</td>\n",
       "      <td>161.440357</td>\n",
       "    </tr>\n",
       "    <tr>\n",
       "      <th>std</th>\n",
       "      <td>3.847528</td>\n",
       "      <td>32.108439</td>\n",
       "    </tr>\n",
       "    <tr>\n",
       "      <th>min</th>\n",
       "      <td>54.263133</td>\n",
       "      <td>64.700127</td>\n",
       "    </tr>\n",
       "    <tr>\n",
       "      <th>25%</th>\n",
       "      <td>63.505620</td>\n",
       "      <td>135.818051</td>\n",
       "    </tr>\n",
       "    <tr>\n",
       "      <th>50%</th>\n",
       "      <td>66.318070</td>\n",
       "      <td>161.212928</td>\n",
       "    </tr>\n",
       "    <tr>\n",
       "      <th>75%</th>\n",
       "      <td>69.174262</td>\n",
       "      <td>187.169525</td>\n",
       "    </tr>\n",
       "    <tr>\n",
       "      <th>max</th>\n",
       "      <td>78.998742</td>\n",
       "      <td>269.989699</td>\n",
       "    </tr>\n",
       "  </tbody>\n",
       "</table>\n",
       "</div>"
      ],
      "text/plain": [
       "             Height        Weight\n",
       "count  10000.000000  10000.000000\n",
       "mean      66.367560    161.440357\n",
       "std        3.847528     32.108439\n",
       "min       54.263133     64.700127\n",
       "25%       63.505620    135.818051\n",
       "50%       66.318070    161.212928\n",
       "75%       69.174262    187.169525\n",
       "max       78.998742    269.989699"
      ]
     },
     "execution_count": 8,
     "metadata": {},
     "output_type": "execute_result"
    }
   ],
   "source": [
    "dataset.describe()"
   ]
  },
  {
   "cell_type": "markdown",
   "metadata": {},
   "source": [
    "<a id='Split Data Set - First'></a>\n",
    "### 1.3.1 Split Data Set into Men and Women\n",
    "\n",
    "Before continuing, let's split the data set into men and women. This makes\n",
    "it easier to examine the two dependent variables (men and women) to be examined\n",
    "independently."
   ]
  },
  {
   "cell_type": "code",
   "execution_count": 9,
   "metadata": {},
   "outputs": [],
   "source": [
    "dataset_men = pd.DataFrame()\n",
    "dataset_women = pd.DataFrame()\n",
    "\n",
    "men = dataset['Gender'] == 'Male'\n",
    "dataset_men = dataset[men]\n",
    "\n",
    "women = dataset['Gender'] == 'Female'\n",
    "dataset_women = dataset[women]"
   ]
  },
  {
   "cell_type": "markdown",
   "metadata": {},
   "source": [
    "<a id='Summary Stats for both - First'></a>\n",
    "### 1.3.2 Summary Statistics for the two data sets\n",
    "\n",
    "Let's look at the data for the entire population, then women, then men, in the next\n",
    "three cells so we can compare them."
   ]
  },
  {
   "cell_type": "code",
   "execution_count": 10,
   "metadata": {},
   "outputs": [
    {
     "name": "stdout",
     "output_type": "stream",
     "text": [
      "Overall dataset\n"
     ]
    },
    {
     "data": {
      "text/html": [
       "<div>\n",
       "<style scoped>\n",
       "    .dataframe tbody tr th:only-of-type {\n",
       "        vertical-align: middle;\n",
       "    }\n",
       "\n",
       "    .dataframe tbody tr th {\n",
       "        vertical-align: top;\n",
       "    }\n",
       "\n",
       "    .dataframe thead th {\n",
       "        text-align: right;\n",
       "    }\n",
       "</style>\n",
       "<table border=\"1\" class=\"dataframe\">\n",
       "  <thead>\n",
       "    <tr style=\"text-align: right;\">\n",
       "      <th></th>\n",
       "      <th>Height</th>\n",
       "      <th>Weight</th>\n",
       "    </tr>\n",
       "  </thead>\n",
       "  <tbody>\n",
       "    <tr>\n",
       "      <th>count</th>\n",
       "      <td>10000.000000</td>\n",
       "      <td>10000.000000</td>\n",
       "    </tr>\n",
       "    <tr>\n",
       "      <th>mean</th>\n",
       "      <td>66.367560</td>\n",
       "      <td>161.440357</td>\n",
       "    </tr>\n",
       "    <tr>\n",
       "      <th>std</th>\n",
       "      <td>3.847528</td>\n",
       "      <td>32.108439</td>\n",
       "    </tr>\n",
       "    <tr>\n",
       "      <th>min</th>\n",
       "      <td>54.263133</td>\n",
       "      <td>64.700127</td>\n",
       "    </tr>\n",
       "    <tr>\n",
       "      <th>25%</th>\n",
       "      <td>63.505620</td>\n",
       "      <td>135.818051</td>\n",
       "    </tr>\n",
       "    <tr>\n",
       "      <th>50%</th>\n",
       "      <td>66.318070</td>\n",
       "      <td>161.212928</td>\n",
       "    </tr>\n",
       "    <tr>\n",
       "      <th>75%</th>\n",
       "      <td>69.174262</td>\n",
       "      <td>187.169525</td>\n",
       "    </tr>\n",
       "    <tr>\n",
       "      <th>max</th>\n",
       "      <td>78.998742</td>\n",
       "      <td>269.989699</td>\n",
       "    </tr>\n",
       "  </tbody>\n",
       "</table>\n",
       "</div>"
      ],
      "text/plain": [
       "             Height        Weight\n",
       "count  10000.000000  10000.000000\n",
       "mean      66.367560    161.440357\n",
       "std        3.847528     32.108439\n",
       "min       54.263133     64.700127\n",
       "25%       63.505620    135.818051\n",
       "50%       66.318070    161.212928\n",
       "75%       69.174262    187.169525\n",
       "max       78.998742    269.989699"
      ]
     },
     "execution_count": 10,
     "metadata": {},
     "output_type": "execute_result"
    }
   ],
   "source": [
    "print(\"Overall dataset\")\n",
    "dataset.describe()"
   ]
  },
  {
   "cell_type": "code",
   "execution_count": 11,
   "metadata": {},
   "outputs": [
    {
     "name": "stdout",
     "output_type": "stream",
     "text": [
      "Women subset\n"
     ]
    },
    {
     "data": {
      "text/html": [
       "<div>\n",
       "<style scoped>\n",
       "    .dataframe tbody tr th:only-of-type {\n",
       "        vertical-align: middle;\n",
       "    }\n",
       "\n",
       "    .dataframe tbody tr th {\n",
       "        vertical-align: top;\n",
       "    }\n",
       "\n",
       "    .dataframe thead th {\n",
       "        text-align: right;\n",
       "    }\n",
       "</style>\n",
       "<table border=\"1\" class=\"dataframe\">\n",
       "  <thead>\n",
       "    <tr style=\"text-align: right;\">\n",
       "      <th></th>\n",
       "      <th>Height</th>\n",
       "      <th>Weight</th>\n",
       "    </tr>\n",
       "  </thead>\n",
       "  <tbody>\n",
       "    <tr>\n",
       "      <th>count</th>\n",
       "      <td>5000.000000</td>\n",
       "      <td>5000.000000</td>\n",
       "    </tr>\n",
       "    <tr>\n",
       "      <th>mean</th>\n",
       "      <td>63.708774</td>\n",
       "      <td>135.860093</td>\n",
       "    </tr>\n",
       "    <tr>\n",
       "      <th>std</th>\n",
       "      <td>2.696284</td>\n",
       "      <td>19.022468</td>\n",
       "    </tr>\n",
       "    <tr>\n",
       "      <th>min</th>\n",
       "      <td>54.263133</td>\n",
       "      <td>64.700127</td>\n",
       "    </tr>\n",
       "    <tr>\n",
       "      <th>25%</th>\n",
       "      <td>61.894441</td>\n",
       "      <td>122.934096</td>\n",
       "    </tr>\n",
       "    <tr>\n",
       "      <th>50%</th>\n",
       "      <td>63.730924</td>\n",
       "      <td>136.117583</td>\n",
       "    </tr>\n",
       "    <tr>\n",
       "      <th>75%</th>\n",
       "      <td>65.563565</td>\n",
       "      <td>148.810926</td>\n",
       "    </tr>\n",
       "    <tr>\n",
       "      <th>max</th>\n",
       "      <td>73.389586</td>\n",
       "      <td>202.237214</td>\n",
       "    </tr>\n",
       "  </tbody>\n",
       "</table>\n",
       "</div>"
      ],
      "text/plain": [
       "            Height       Weight\n",
       "count  5000.000000  5000.000000\n",
       "mean     63.708774   135.860093\n",
       "std       2.696284    19.022468\n",
       "min      54.263133    64.700127\n",
       "25%      61.894441   122.934096\n",
       "50%      63.730924   136.117583\n",
       "75%      65.563565   148.810926\n",
       "max      73.389586   202.237214"
      ]
     },
     "execution_count": 11,
     "metadata": {},
     "output_type": "execute_result"
    }
   ],
   "source": [
    "print(\"Women subset\")\n",
    "dataset_women.describe()"
   ]
  },
  {
   "cell_type": "code",
   "execution_count": 12,
   "metadata": {},
   "outputs": [
    {
     "name": "stdout",
     "output_type": "stream",
     "text": [
      "Men subset\n"
     ]
    },
    {
     "data": {
      "text/html": [
       "<div>\n",
       "<style scoped>\n",
       "    .dataframe tbody tr th:only-of-type {\n",
       "        vertical-align: middle;\n",
       "    }\n",
       "\n",
       "    .dataframe tbody tr th {\n",
       "        vertical-align: top;\n",
       "    }\n",
       "\n",
       "    .dataframe thead th {\n",
       "        text-align: right;\n",
       "    }\n",
       "</style>\n",
       "<table border=\"1\" class=\"dataframe\">\n",
       "  <thead>\n",
       "    <tr style=\"text-align: right;\">\n",
       "      <th></th>\n",
       "      <th>Height</th>\n",
       "      <th>Weight</th>\n",
       "    </tr>\n",
       "  </thead>\n",
       "  <tbody>\n",
       "    <tr>\n",
       "      <th>count</th>\n",
       "      <td>5000.000000</td>\n",
       "      <td>5000.000000</td>\n",
       "    </tr>\n",
       "    <tr>\n",
       "      <th>mean</th>\n",
       "      <td>69.026346</td>\n",
       "      <td>187.020621</td>\n",
       "    </tr>\n",
       "    <tr>\n",
       "      <th>std</th>\n",
       "      <td>2.863362</td>\n",
       "      <td>19.781155</td>\n",
       "    </tr>\n",
       "    <tr>\n",
       "      <th>min</th>\n",
       "      <td>58.406905</td>\n",
       "      <td>112.902939</td>\n",
       "    </tr>\n",
       "    <tr>\n",
       "      <th>25%</th>\n",
       "      <td>67.174679</td>\n",
       "      <td>173.887767</td>\n",
       "    </tr>\n",
       "    <tr>\n",
       "      <th>50%</th>\n",
       "      <td>69.027709</td>\n",
       "      <td>187.033546</td>\n",
       "    </tr>\n",
       "    <tr>\n",
       "      <th>75%</th>\n",
       "      <td>70.988744</td>\n",
       "      <td>200.357802</td>\n",
       "    </tr>\n",
       "    <tr>\n",
       "      <th>max</th>\n",
       "      <td>78.998742</td>\n",
       "      <td>269.989699</td>\n",
       "    </tr>\n",
       "  </tbody>\n",
       "</table>\n",
       "</div>"
      ],
      "text/plain": [
       "            Height       Weight\n",
       "count  5000.000000  5000.000000\n",
       "mean     69.026346   187.020621\n",
       "std       2.863362    19.781155\n",
       "min      58.406905   112.902939\n",
       "25%      67.174679   173.887767\n",
       "50%      69.027709   187.033546\n",
       "75%      70.988744   200.357802\n",
       "max      78.998742   269.989699"
      ]
     },
     "execution_count": 12,
     "metadata": {},
     "output_type": "execute_result"
    }
   ],
   "source": [
    "print(\"Men subset\")\n",
    "dataset_men.describe()"
   ]
  },
  {
   "cell_type": "markdown",
   "metadata": {},
   "source": [
    "If you compare the summary statistics for men and women, are there any observations\n",
    "you can make? What are they?"
   ]
  },
  {
   "cell_type": "markdown",
   "metadata": {},
   "source": [
    "<a id='Hand Statistics - First'></a>\n",
    "### 1.3.3 \"Hand\" Computed Descriptive Statistics\n",
    "\n",
    "The describe() method only gives us a few descriptive statistics. Let's compute\n",
    "some additional ones using either built-in methods or simple computations. The\n",
    "extra ones we're computing are:\n",
    "\n",
    "1. median (value in the middle of the data set)\n",
    "2. mode (most common values)\n",
    "3. Range (max - min)\n",
    "4. Variance\n",
    "5. Standard Deviation (using mean)\n",
    "\n",
    "\n",
    "\n",
    "<strong>Wikipedia References</strong>:\n",
    "\n",
    "<a href=\"https://en.wikipedia.org/wiki/Descriptive_statistics\">Wikipedia - Descriptive Statistics</a>\n",
    "\n",
    "<a href=\"https://en.wikipedia.org/wiki/Summary_statistics\">Wikipedia - Summary Statistics</a>\n",
    "\n",
    "<a href=\"https://en.wikipedia.org/wiki/Range_(statistics)\">Wikipedia - Range</a>\n",
    "\n",
    "<a href=\"https://en.wikipedia.org/wiki/Deviation_(statistics)#Unsigned_or_absolute_deviation\">Wikipedia - Deviation</a>\n",
    "\n",
    "<a href=\"https://en.wikipedia.org/wiki/Mean_absolute_difference\">Wikipedia - Mean Absolute Deviation</a>\n",
    "\n",
    "<a href=\"https://en.wikipedia.org/wiki/Distance_correlation#Distance_standard_deviation\">Wikipedia - Distance Correlaton</a>\n",
    "\n",
    "<a href=\"https://en.wikipedia.org/wiki/Pearson_correlation_coefficient\">Wikipedia - Pearson Correlation Coefficient</a>\n",
    "\n",
    "<a href=\"https://en.wikipedia.org/wiki/Skewness\">Wikipedia - Skewness</a>\n",
    "\n",
    "<a href=\"https://en.wikipedia.org/wiki/Distance_correlation\">Wikipedia - Distance Correlation</a>\n",
    "\n",
    "<a href=\"https://en.wikipedia.org/wiki/Kurtosis\">Wikipedia - Kurtosis</a>"
   ]
  },
  {
   "cell_type": "code",
   "execution_count": 13,
   "metadata": {},
   "outputs": [
    {
     "name": "stdout",
     "output_type": "stream",
     "text": [
      "Overall data set\n",
      " \n",
      "Height data\n",
      "Height mean =  66.36755975482106\n",
      "Height median =  66.31807008178465\n",
      "Height mode =  0       54.263133\n",
      "1       54.616858\n",
      "2       54.873728\n",
      "3       55.148557\n",
      "4       55.336492\n",
      "          ...    \n",
      "9995    78.095867\n",
      "9996    78.462053\n",
      "9997    78.528210\n",
      "9998    78.621374\n",
      "9999    78.998742\n",
      "Length: 10000, dtype: float64\n",
      " \n",
      "Height Max =  78.99874234638959\n",
      "Height Min =  54.2631333250971\n",
      "Height Range =  24.73560902129249\n",
      "Height Variance =  14.803472640140804\n",
      "Height Standard Deviation =  3.847528120773233\n",
      " \n",
      "Weight data\n",
      "Weight mean =  161.44035683283076\n",
      "Weight median =  161.212927699483\n",
      "Weight mode =  0        64.700127\n",
      "1        68.982530\n",
      "2        71.393749\n",
      "3        72.750145\n",
      "4        77.523774\n",
      "           ...    \n",
      "9995    253.889004\n",
      "9996    254.209073\n",
      "9997    255.690835\n",
      "9998    255.863326\n",
      "9999    269.989699\n",
      "Length: 10000, dtype: float64\n",
      " \n",
      "Weight Max =  269.989698505106\n",
      "Weight Min =  64.700126712753\n",
      "Weight Range =  205.289571792353\n",
      "Weight Variance =  1030.951855435386\n",
      "Weight Standard Deviation =  32.108439006519546\n"
     ]
    }
   ],
   "source": [
    "print(\"Overall data set\")\n",
    "print(\" \")\n",
    "print(\"Height data\")\n",
    "print(\"Height mean = \", dataset[\"Height\"].mean() )\n",
    "print(\"Height median = \", dataset[\"Height\"].median() )\n",
    "print(\"Height mode = \", dataset[\"Height\"].mode() )\n",
    "print(\" \")\n",
    "print(\"Height Max = \",dataset[\"Height\"].max() )\n",
    "print(\"Height Min = \",dataset[\"Height\"].min() )\n",
    "print(\"Height Range = \", dataset[\"Height\"].max()-dataset[\"Height\"].min() )\n",
    "print(\"Height Variance = \",dataset[\"Height\"].var() )\n",
    "print(\"Height Standard Deviation = \",dataset[\"Height\"].std() )\n",
    "print(\" \")\n",
    "print(\"Weight data\")\n",
    "print(\"Weight mean = \", dataset[\"Weight\"].mean() )\n",
    "print(\"Weight median = \", dataset[\"Weight\"].median() )\n",
    "print(\"Weight mode = \", dataset[\"Weight\"].mode() )\n",
    "print(\" \")\n",
    "print(\"Weight Max = \",dataset[\"Weight\"].max() )\n",
    "print(\"Weight Min = \",dataset[\"Weight\"].min() )\n",
    "print(\"Weight Range = \", dataset[\"Weight\"].max()-dataset[\"Weight\"].min() )\n",
    "print(\"Weight Variance = \",dataset[\"Weight\"].var() )\n",
    "print(\"Weight Standard Deviation = \",dataset[\"Weight\"].std() )"
   ]
  },
  {
   "cell_type": "markdown",
   "metadata": {},
   "source": [
    "Compute same numbers for men and for women. Women's data set first."
   ]
  },
  {
   "cell_type": "code",
   "execution_count": 14,
   "metadata": {},
   "outputs": [
    {
     "name": "stdout",
     "output_type": "stream",
     "text": [
      "Data set for women\n",
      " \n",
      "Height data\n",
      "Height mean =  63.708773603424916\n",
      "Height median =  63.7309238591475\n",
      "Height mode =  0       54.263133\n",
      "1       54.616858\n",
      "2       54.873728\n",
      "3       55.148557\n",
      "4       55.336492\n",
      "          ...    \n",
      "4995    71.991257\n",
      "4996    72.088712\n",
      "4997    72.264748\n",
      "4998    72.429771\n",
      "4999    73.389586\n",
      "Length: 5000, dtype: float64\n",
      " \n",
      "Height Max =  73.38958586606971\n",
      "Height Min =  54.2631333250971\n",
      "Height Range =  19.126452540972608\n",
      "Height Variance =  7.269947493670135\n",
      "Height Standard Deviation =  2.696284015765056\n",
      " \n",
      "Weight data\n",
      "Weight mean =  135.8600930074687\n",
      "Weight median =  136.11758297008498\n",
      "Weight mode =  0        64.700127\n",
      "1        68.982530\n",
      "2        71.393749\n",
      "3        72.750145\n",
      "4        77.523774\n",
      "           ...    \n",
      "4995    194.048809\n",
      "4996    194.240362\n",
      "4997    195.765260\n",
      "4998    196.107116\n",
      "4999    202.237214\n",
      "Length: 5000, dtype: float64\n",
      " \n",
      "Weight Max =  202.237213739559\n",
      "Weight Min =  64.700126712753\n",
      "Weight Range =  137.53708702680598\n",
      "Weight Variance =  361.8542814043981\n",
      "Weight Standard Deviation =  19.022467805319007\n"
     ]
    }
   ],
   "source": [
    "print(\"Data set for women\")\n",
    "print(\" \")\n",
    "print(\"Height data\")\n",
    "print(\"Height mean = \", dataset_women[\"Height\"].mean() )\n",
    "print(\"Height median = \", dataset_women[\"Height\"].median() )\n",
    "print(\"Height mode = \", dataset_women[\"Height\"].mode() )\n",
    "print(\" \")\n",
    "print(\"Height Max = \",dataset_women[\"Height\"].max() )\n",
    "print(\"Height Min = \",dataset_women[\"Height\"].min() )\n",
    "print(\"Height Range = \", dataset_women[\"Height\"].max()-dataset_women[\"Height\"].min() )\n",
    "print(\"Height Variance = \",dataset_women[\"Height\"].var() )\n",
    "print(\"Height Standard Deviation = \",dataset_women[\"Height\"].std() )\n",
    "print(\" \")\n",
    "print(\"Weight data\")\n",
    "print(\"Weight mean = \", dataset_women[\"Weight\"].mean() )\n",
    "print(\"Weight median = \", dataset_women[\"Weight\"].median() )\n",
    "print(\"Weight mode = \", dataset_women[\"Weight\"].mode() )\n",
    "print(\" \")\n",
    "print(\"Weight Max = \",dataset_women[\"Weight\"].max() )\n",
    "print(\"Weight Min = \",dataset_women[\"Weight\"].min() )\n",
    "print(\"Weight Range = \", dataset_women[\"Weight\"].max()-dataset_women[\"Weight\"].min() )\n",
    "print(\"Weight Variance = \",dataset_women[\"Weight\"].var() )\n",
    "print(\"Weight Standard Deviation = \",dataset_women[\"Weight\"].std() )"
   ]
  },
  {
   "cell_type": "code",
   "execution_count": 15,
   "metadata": {},
   "outputs": [
    {
     "name": "stdout",
     "output_type": "stream",
     "text": [
      "Data set for men\n",
      " \n",
      "Height data\n",
      "Height mean =  69.02634590621737\n",
      "Height median =  69.02770850939555\n",
      "Height mode =  0       58.406905\n",
      "1       59.380650\n",
      "2       59.868078\n",
      "3       59.938650\n",
      "4       59.981865\n",
      "          ...    \n",
      "4995    78.095867\n",
      "4996    78.462053\n",
      "4997    78.528210\n",
      "4998    78.621374\n",
      "4999    78.998742\n",
      "Length: 5000, dtype: float64\n",
      " \n",
      "Height Max =  78.99874234638959\n",
      "Height Min =  58.4069049317498\n",
      "Height Range =  20.59183741463979\n",
      "Height Variance =  8.198843252520494\n",
      "Height Standard Deviation =  2.8633622286606517\n",
      " \n",
      "Weight data\n",
      "Weight mean =  187.0206206581929\n",
      "Weight median =  187.033546088862\n",
      "Weight mode =  0       112.902939\n",
      "1       117.803842\n",
      "2       119.242856\n",
      "3       121.338323\n",
      "4       122.680112\n",
      "           ...    \n",
      "4995    253.889004\n",
      "4996    254.209073\n",
      "4997    255.690835\n",
      "4998    255.863326\n",
      "4999    269.989699\n",
      "Length: 5000, dtype: float64\n",
      " \n",
      "Weight Max =  269.989698505106\n",
      "Weight Min =  112.902939447818\n",
      "Weight Range =  157.086759057288\n",
      "Weight Variance =  391.2940740160854\n",
      "Weight Standard Deviation =  19.781154516763813\n"
     ]
    }
   ],
   "source": [
    "print(\"Data set for men\")\n",
    "print(\" \")\n",
    "print(\"Height data\")\n",
    "print(\"Height mean = \", dataset_men[\"Height\"].mean() )\n",
    "print(\"Height median = \", dataset_men[\"Height\"].median() )\n",
    "print(\"Height mode = \", dataset_men[\"Height\"].mode() )\n",
    "print(\" \")\n",
    "print(\"Height Max = \",dataset_men[\"Height\"].max() )\n",
    "print(\"Height Min = \",dataset_men[\"Height\"].min() )\n",
    "print(\"Height Range = \", dataset_men[\"Height\"].max()-dataset_men[\"Height\"].min() )\n",
    "print(\"Height Variance = \",dataset_men[\"Height\"].var() )\n",
    "print(\"Height Standard Deviation = \",dataset_men[\"Height\"].std() )\n",
    "print(\" \")\n",
    "print(\"Weight data\")\n",
    "print(\"Weight mean = \", dataset_men[\"Weight\"].mean() )\n",
    "print(\"Weight median = \", dataset_men[\"Weight\"].median() )\n",
    "print(\"Weight mode = \", dataset_men[\"Weight\"].mode() )\n",
    "print(\" \")\n",
    "print(\"Weight Max = \",dataset_men[\"Weight\"].max() )\n",
    "print(\"Weight Min = \",dataset_men[\"Weight\"].min() )\n",
    "print(\"Weight Range = \", dataset_men[\"Weight\"].max()-dataset_men[\"Weight\"].min() )\n",
    "print(\"Weight Variance = \",dataset_men[\"Weight\"].var() )\n",
    "print(\"Weight Standard Deviation = \",dataset_men[\"Weight\"].std() )"
   ]
  },
  {
   "cell_type": "markdown",
   "metadata": {},
   "source": [
    "Do these \"extra\" statistics help you in better understanding your data set?\n",
    "Are there any additional observations you can make about the dataset?\n",
    "\n",
    "To make a little easier, let's put all of these statistics in a single Pandas\n",
    "data frame and print the data frame to stdout."
   ]
  },
  {
   "cell_type": "code",
   "execution_count": 16,
   "metadata": {},
   "outputs": [
    {
     "data": {
      "text/html": [
       "<div>\n",
       "<style scoped>\n",
       "    .dataframe tbody tr th:only-of-type {\n",
       "        vertical-align: middle;\n",
       "    }\n",
       "\n",
       "    .dataframe tbody tr th {\n",
       "        vertical-align: top;\n",
       "    }\n",
       "\n",
       "    .dataframe thead th {\n",
       "        text-align: right;\n",
       "    }\n",
       "</style>\n",
       "<table border=\"1\" class=\"dataframe\">\n",
       "  <thead>\n",
       "    <tr style=\"text-align: right;\">\n",
       "      <th></th>\n",
       "      <th>Measure</th>\n",
       "      <th>All</th>\n",
       "      <th>Women</th>\n",
       "      <th>Men</th>\n",
       "    </tr>\n",
       "  </thead>\n",
       "  <tbody>\n",
       "    <tr>\n",
       "      <th>0</th>\n",
       "      <td>mean</td>\n",
       "      <td>66.367560</td>\n",
       "      <td>63.708774</td>\n",
       "      <td>69.026346</td>\n",
       "    </tr>\n",
       "    <tr>\n",
       "      <th>1</th>\n",
       "      <td>median</td>\n",
       "      <td>66.318070</td>\n",
       "      <td>63.730924</td>\n",
       "      <td>69.027709</td>\n",
       "    </tr>\n",
       "    <tr>\n",
       "      <th>2</th>\n",
       "      <td>min</td>\n",
       "      <td>54.263133</td>\n",
       "      <td>54.263133</td>\n",
       "      <td>58.406905</td>\n",
       "    </tr>\n",
       "    <tr>\n",
       "      <th>3</th>\n",
       "      <td>max</td>\n",
       "      <td>78.998742</td>\n",
       "      <td>73.389586</td>\n",
       "      <td>78.998742</td>\n",
       "    </tr>\n",
       "    <tr>\n",
       "      <th>4</th>\n",
       "      <td>range</td>\n",
       "      <td>24.735609</td>\n",
       "      <td>19.126453</td>\n",
       "      <td>20.591837</td>\n",
       "    </tr>\n",
       "    <tr>\n",
       "      <th>5</th>\n",
       "      <td>variance</td>\n",
       "      <td>14.803473</td>\n",
       "      <td>7.269947</td>\n",
       "      <td>8.198843</td>\n",
       "    </tr>\n",
       "    <tr>\n",
       "      <th>6</th>\n",
       "      <td>std dev</td>\n",
       "      <td>3.847528</td>\n",
       "      <td>2.696284</td>\n",
       "      <td>2.863362</td>\n",
       "    </tr>\n",
       "    <tr>\n",
       "      <th>7</th>\n",
       "      <td>25%</td>\n",
       "      <td>63.505620</td>\n",
       "      <td>61.894441</td>\n",
       "      <td>67.174679</td>\n",
       "    </tr>\n",
       "    <tr>\n",
       "      <th>8</th>\n",
       "      <td>50%</td>\n",
       "      <td>66.318070</td>\n",
       "      <td>63.730924</td>\n",
       "      <td>69.027709</td>\n",
       "    </tr>\n",
       "    <tr>\n",
       "      <th>9</th>\n",
       "      <td>75%</td>\n",
       "      <td>69.174262</td>\n",
       "      <td>65.563565</td>\n",
       "      <td>70.988744</td>\n",
       "    </tr>\n",
       "  </tbody>\n",
       "</table>\n",
       "</div>"
      ],
      "text/plain": [
       "    Measure        All      Women        Men\n",
       "0      mean  66.367560  63.708774  69.026346\n",
       "1    median  66.318070  63.730924  69.027709\n",
       "2       min  54.263133  54.263133  58.406905\n",
       "3       max  78.998742  73.389586  78.998742\n",
       "4     range  24.735609  19.126453  20.591837\n",
       "5  variance  14.803473   7.269947   8.198843\n",
       "6   std dev   3.847528   2.696284   2.863362\n",
       "7       25%  63.505620  61.894441  67.174679\n",
       "8       50%  66.318070  63.730924  69.027709\n",
       "9       75%  69.174262  65.563565  70.988744"
      ]
     },
     "execution_count": 16,
     "metadata": {},
     "output_type": "execute_result"
    }
   ],
   "source": [
    "dataset_desc = dataset[\"Height\"].describe()\n",
    "dataset_women_desc = dataset_women[\"Height\"].describe()\n",
    "dataset_men_desc = dataset_men[\"Height\"].describe()\n",
    "\n",
    "\n",
    "raw_data = {'Measure': ['mean', 'median', 'min', 'max', 'range', 'variance', 'std dev', '25%', \"50%\", \"75%\"],\n",
    "        'All': [dataset[\"Height\"].mean(), dataset[\"Height\"].median(), dataset[\"Height\"].min(), \n",
    "                dataset[\"Height\"].max(), dataset[\"Height\"].max()-dataset[\"Height\"].min(),\n",
    "                dataset[\"Height\"].var(), dataset[\"Height\"].std(),\n",
    "                dataset_desc[4], dataset_desc[5], dataset_desc[6] ],\n",
    "        'Women': [dataset_women[\"Height\"].mean(), dataset_women[\"Height\"].median(), dataset_women[\"Height\"].min(),\n",
    "                  dataset_women[\"Height\"].max(), dataset_women[\"Height\"].max()-dataset_women[\"Height\"].min(),\n",
    "                  dataset_women[\"Height\"].var(), dataset_women[\"Height\"].std(),\n",
    "                  dataset_women_desc[4], dataset_women_desc[5], dataset_women_desc[6] ],\n",
    "        'Men': [dataset_men[\"Height\"].mean(), dataset_men[\"Height\"].median(), dataset_men[\"Height\"].min(),\n",
    "                dataset_men[\"Height\"].max(), dataset_men[\"Height\"].max()-dataset_men[\"Height\"].min(),\n",
    "                dataset_men[\"Height\"].var(), dataset_men[\"Height\"].std(), \n",
    "                dataset_men_desc[4], dataset_men_desc[5], dataset_men_desc[6] ]\n",
    "}\n",
    "\n",
    "dataset_out = pd.DataFrame(raw_data, columns = ['Measure', 'All', 'Women', 'Men'])\n",
    "dataset_out"
   ]
  },
  {
   "cell_type": "markdown",
   "metadata": {},
   "source": [
    "What did you notice in the comparison table?"
   ]
  },
  {
   "cell_type": "markdown",
   "metadata": {},
   "source": [
    "<a id='Plot the Data - First'></a>\n",
    "## 1.5 Plot the data\n",
    "\n",
    "The combination of the human brain and eyes makes for a great pattern\n",
    "recognition capability. Let's use that capability to better understand the\n",
    "data and to look for patterns.\n",
    "\n",
    "Since this dataset only has two independent variables, weight and height, it's\n",
    "simple to plot the data."
   ]
  },
  {
   "cell_type": "code",
   "execution_count": 17,
   "metadata": {},
   "outputs": [
    {
     "data": {
      "image/png": "[encoded data removed]",
      "text/plain": [
       "<Figure size 432x288 with 1 Axes>"
      ]
     },
     "metadata": {
      "needs_background": "light"
     },
     "output_type": "display_data"
    }
   ],
   "source": [
    "%matplotlib inline\n",
    "\n",
    "import matplotlib.pyplot as plt\n",
    "\n",
    "xwomen = dataset_women['Height']\n",
    "ywomen = dataset_women['Weight']\n",
    "xmen = dataset_men['Height']\n",
    "ymen = dataset_men['Weight']\n",
    "\n",
    "fig = plt.figure()\n",
    "ax1 = fig.add_subplot(111)\n",
    "\n",
    "ax1.scatter(xwomen, ywomen, c='b', marker=\"s\", label='women')\n",
    "ax1.scatter(xmen, ymen, c='r', marker=\"o\", label='men')\n",
    "plt.legend(loc='upper left');\n",
    "plt.xlabel('Height (inches)')\n",
    "plt.ylabel('Weight (lbs)')\n",
    "plt.title('Height vs. Weight')\n",
    "plt.show()"
   ]
  },
  {
   "cell_type": "markdown",
   "metadata": {},
   "source": [
    "Any observations? "
   ]
  },
  {
   "cell_type": "markdown",
   "metadata": {},
   "source": [
    "<a id='Cluster by Gender - First'></a>\n",
    "## 1.6 Cluster the data for each gender - Kmeans\n",
    "\n",
    "One quick and easy data analysis we can use that goes beyond data exploration\n",
    "is clustering (https://en.wikipedia.org/wiki/Cluster_analysis). This technique\n",
    "seeks to collect the data into clusters where the data in each cluster is similar\n",
    "to one another. This can help us discover underlying patterns in the data.\n",
    "\n",
    "Clustering can tell us something about the data set such as where \"groups\" of\n",
    "data are located. Clustering can also serve to \"label\" the data (recall that\n",
    "many Machine Learning and Deep Learning techniques need labeled data).\n",
    "\n",
    "The K-means algorithm is fairly simple. It starts with a group of <strong><tt>k</tt></strong>\n",
    "randomly selected centroids where <tt>k</tt> is an arbitrary number of clusters chosen\n",
    "by the user). Then the algorithm computes the mean of the data in a specific\n",
    "cluster to the centroid. It will move the centroids in an effort to minimize\n",
    "the mean distance. Once the movement in the centroid slows, it will stop\n",
    "and tell you the clustering was successful. Alternatively, if the centroid\n",
    "movement is still moving while hitting some iteration limit, it will stop\n",
    "and return the current centroids.\n",
    "\n",
    "Below are some images from [an article] (https://towardsdatascience.com/understanding-k-means-clustering-in-machine-learning-6a6e67336aa1), illustrating a data set with two variables (two columns\n",
    "of data), and a simple two cluster set of data. The first image is of the raw data."
   ]
  },
  {
   "attachments": {
    "0_AYHo5J8MUmngdjxa.png": {
     "image/png": "[encoded data removed]"
    }
   },
   "cell_type": "markdown",
   "metadata": {},
   "source": [
    "![0_AYHo5J8MUmngdjxa.png](attachment:0_AYHo5J8MUmngdjxa.png)"
   ]
  },
  {
   "cell_type": "markdown",
   "metadata": {},
   "source": [
    "The second image illustrates the result of clustering with k=2. Each cluster is\n",
    "plotted with it's own color. The centroids are also plotted."
   ]
  },
  {
   "attachments": {
    "0_vf08X44o0XgHVXvv.png": {
     "image/png": "[encoded data removed]"
    }
   },
   "cell_type": "markdown",
   "metadata": {},
   "source": [
    "![0_vf08X44o0XgHVXvv.png](attachment:0_vf08X44o0XgHVXvv.png)"
   ]
  },
  {
   "cell_type": "markdown",
   "metadata": {},
   "source": [
    "We're going to apply the K-means algorithm from Scikit-learn. We'll also\n",
    "plot the clusters wit different colors and also plot the centroids.\n",
    "\n",
    "For the example, <strong><tt>k</tt></strong> has been arbitrarily chose to be 3 in\n",
    "the cell below. This is for the women's data set.\n",
    "\n",
    "<strong>Notes</strong>:\n",
    "\n",
    "1. <a href=\"https://stackabuse.com/k-means-clustering-with-scikit-learn/\">Kmeans article 1</a>\n",
    "\n",
    "2. <a href=\"https://dev.to/nexttech/k-means-clustering-with-scikit-learn-14kk\">Kmeans article 2</a>"
   ]
  },
  {
   "cell_type": "code",
   "execution_count": 18,
   "metadata": {},
   "outputs": [
    {
     "data": {
      "image/png": "[encoded data removed]",
      "text/plain": [
       "<Figure size 432x288 with 1 Axes>"
      ]
     },
     "metadata": {
      "needs_background": "light"
     },
     "output_type": "display_data"
    }
   ],
   "source": [
    "# K-means clustering and plotting for women\n",
    "#\n",
    "from sklearn.cluster import KMeans\n",
    "import matplotlib.pyplot as plt\n",
    "\n",
    "%matplotlib inline\n",
    "\n",
    "temp = dataset_women.values[:,1:]\n",
    "\n",
    "# Specify the number of clusters (3) and fit the data X\n",
    "kmeans = KMeans(n_clusters=3, random_state=0).fit(temp)\n",
    "\n",
    "plt.scatter(temp[:,0], temp[:,1], c=kmeans.labels_, cmap='rainbow')\n",
    "plt.scatter(kmeans.cluster_centers_[:, 0], kmeans.cluster_centers_[:, 1], c='black', marker='x')\n",
    "\n",
    "plt.title('Women Dataset - Data points and cluster centroids, k=3')\n",
    "plt.show()"
   ]
  },
  {
   "cell_type": "markdown",
   "metadata": {},
   "source": [
    "<a id='Cluster for male - First'></a>\n",
    "### 1.6.1 K-means for Men data set\n",
    "\n",
    "Let's apply K-means just to the male data set. With the same number of\n",
    "clusters (3)."
   ]
  },
  {
   "cell_type": "code",
   "execution_count": 19,
   "metadata": {},
   "outputs": [
    {
     "data": {
      "image/png": "[encoded data removed]",
      "text/plain": [
       "<Figure size 432x288 with 1 Axes>"
      ]
     },
     "metadata": {
      "needs_background": "light"
     },
     "output_type": "display_data"
    }
   ],
   "source": [
    "# K-emans clustering and plotting for men\n",
    "#\n",
    "from sklearn.cluster import KMeans\n",
    "\n",
    "temp = dataset_men.values[:,1:]\n",
    "\n",
    "# Specify the number of clusters (3) and fit the data X\n",
    "kmeans = KMeans(n_clusters=3, random_state=0).fit(temp)\n",
    "\n",
    "plt.scatter(temp[:,0], temp[:,1], c=kmeans.labels_, cmap='rainbow')\n",
    "plt.scatter(kmeans.cluster_centers_[:, 0], kmeans.cluster_centers_[:, 1], c='black', marker='x')\n",
    "\n",
    "plt.title('Men Dataset - Data points and cluster centroids, k=3')\n",
    "plt.show()"
   ]
  },
  {
   "cell_type": "markdown",
   "metadata": {},
   "source": [
    "Observations?"
   ]
  },
  {
   "cell_type": "markdown",
   "metadata": {},
   "source": [
    "One of the issues of k-means is that you have to pick k before starting\n",
    "the algorithm. Selecting this value can be difficult. More over, how do you\n",
    "know if you selected a good value?"
   ]
  },
  {
   "cell_type": "markdown",
   "metadata": {},
   "source": [
    "<a id='Kmeans Elbow - First'></a>\n",
    "### 1.6.2 Kmeans - Elbow method\n",
    "\n",
    "One way around the problem if selecting the best value of k, is called the\n",
    "\"elbow method\". It's a graphical technique to estimate the optimal number of\n",
    "clusters. We use a measure called the within-cluster SSE (\"Distortion\"). This\n",
    "is a pretty simple computation for a cluster c_i, the within-cluster sum of\n",
    "squared error. This formula is below:"
   ]
  },
  {
   "attachments": {
    "main-qimg-ebbed10139d890ebc9f5e2c55cc0ab04.png": {
     "image/png": "[encoded data removed]"
    }
   },
   "cell_type": "markdown",
   "metadata": {},
   "source": [
    "![main-qimg-ebbed10139d890ebc9f5e2c55cc0ab04.png](attachment:main-qimg-ebbed10139d890ebc9f5e2c55cc0ab04.png)"
   ]
  },
  {
   "cell_type": "markdown",
   "metadata": {},
   "source": [
    "The elbow method varies the value of k and plots the distortion. The optimal\n",
    "value of <tt>k</tt> is when the distorition is at a minimum (i.e. the value of distortion\n",
    "starts increasing after it decreases). Howver, you don't have to choose the\n",
    "optimal value of <tt>k</tt>, which coule be large value. You can choose any value of <tt>k</tt>.\n",
    "The elbow plot helps you look at small values of <tt>k</tt>.\n",
    "\n",
    "Let's apply the elbow method to our data set looking at <tt>k=1</tt> to <tt>k=16</tt>.\n",
    "\n",
    "The woman's data set will be used for this example.\n",
    "\n",
    "<strong>Notes</strong>:\n",
    "\n",
    "<a href=\"https://dev.to/nexttech/k-means-clustering-with-scikit-learn-14kk\">Elbow and Kmeans Illustration</a>"
   ]
  },
  {
   "cell_type": "code",
   "execution_count": 20,
   "metadata": {},
   "outputs": [
    {
     "data": {
      "image/png": "[encoded data removed]",
      "text/plain": [
       "<Figure size 432x288 with 1 Axes>"
      ]
     },
     "metadata": {
      "needs_background": "light"
     },
     "output_type": "display_data"
    }
   ],
   "source": [
    "from sklearn.cluster import KMeans\n",
    "\n",
    "# Calculate distortion for a range of number of cluster\n",
    "distortions = []\n",
    "for i in range(1, 16):\n",
    "    km = KMeans(n_clusters=i,\n",
    "                n_init=10, max_iter=300,\n",
    "                tol=1e-04, random_state=0 )\n",
    "    km.fit(temp)\n",
    "    distortions.append(km.inertia_)\n",
    "\n",
    "# plot\n",
    "plt.plot(range(1, 16), distortions, marker='o')\n",
    "plt.xlabel('Number of clusters')\n",
    "plt.ylabel('Distortion')\n",
    "plt.show()"
   ]
  },
  {
   "cell_type": "markdown",
   "metadata": {},
   "source": [
    "Which value of <tt>k</tt> would you select? Why?\n",
    "\n",
    "1. Decrease in distortion as a function of <tt>k</tt> drops off starting with <tt>k=5</tt>.\n",
    "\n",
    "Is the distortion at <tt>k=15</tt> that much lower than <tt>k=8</tt>? How could you check?"
   ]
  },
  {
   "cell_type": "markdown",
   "metadata": {},
   "source": [
    "---"
   ]
  },
  {
   "cell_type": "markdown",
   "metadata": {},
   "source": [
    "<a id='Second Problem'></a>\n",
    "# 2. Second Data Set - Wine Data Set\n",
    "\n",
    "This data set is a very popular one from UCI. The <a href=\"https://archive.ics.uci.edu/ml/datasets/Wine+Quality\">Wine Quality</a>\n",
    "data set has only one independent variable, wine quality, but has more independent variables.\n",
    "It has fewer points than the previous data set but the increase in independent variables\n",
    "makes data analysis a bit more difficult - hence it's use as a second example."
   ]
  },
  {
   "cell_type": "code",
   "execution_count": 21,
   "metadata": {},
   "outputs": [],
   "source": [
    "import numpy as np\n",
    "import pandas as pd\n",
    "from time import time\n",
    "\n",
    "import matplotlib.pyplot as plt\n",
    "import seaborn as sns\n",
    "\n",
    "%matplotlib inline"
   ]
  },
  {
   "cell_type": "markdown",
   "metadata": {},
   "source": [
    "First, let's load the data set."
   ]
  },
  {
   "cell_type": "code",
   "execution_count": 22,
   "metadata": {},
   "outputs": [],
   "source": [
    "wine_set = pd.read_csv(\"data/winequality-red.csv\", sep=';')"
   ]
  },
  {
   "cell_type": "markdown",
   "metadata": {},
   "source": [
    "<a id='Initial Examination - Second'></a>\n",
    "## 2.1 Initial Examination of Data Set\n",
    "\n",
    "Now that the data is loaded, we can take a quick look at the data set using\n",
    "a few simple commands and methods.\n",
    "\n",
    "Let's look at first 5 rows (always a good first step)."
   ]
  },
  {
   "cell_type": "code",
   "execution_count": 23,
   "metadata": {},
   "outputs": [
    {
     "data": {
      "text/html": [
       "<div>\n",
       "<style scoped>\n",
       "    .dataframe tbody tr th:only-of-type {\n",
       "        vertical-align: middle;\n",
       "    }\n",
       "\n",
       "    .dataframe tbody tr th {\n",
       "        vertical-align: top;\n",
       "    }\n",
       "\n",
       "    .dataframe thead th {\n",
       "        text-align: right;\n",
       "    }\n",
       "</style>\n",
       "<table border=\"1\" class=\"dataframe\">\n",
       "  <thead>\n",
       "    <tr style=\"text-align: right;\">\n",
       "      <th></th>\n",
       "      <th>fixed acidity</th>\n",
       "      <th>volatile acidity</th>\n",
       "      <th>citric acid</th>\n",
       "      <th>residual sugar</th>\n",
       "      <th>chlorides</th>\n",
       "      <th>free sulfur dioxide</th>\n",
       "      <th>total sulfur dioxide</th>\n",
       "      <th>density</th>\n",
       "      <th>pH</th>\n",
       "      <th>sulphates</th>\n",
       "      <th>alcohol</th>\n",
       "      <th>quality</th>\n",
       "    </tr>\n",
       "  </thead>\n",
       "  <tbody>\n",
       "    <tr>\n",
       "      <th>0</th>\n",
       "      <td>7.4</td>\n",
       "      <td>0.70</td>\n",
       "      <td>0.00</td>\n",
       "      <td>1.9</td>\n",
       "      <td>0.076</td>\n",
       "      <td>11.0</td>\n",
       "      <td>34.0</td>\n",
       "      <td>0.9978</td>\n",
       "      <td>3.51</td>\n",
       "      <td>0.56</td>\n",
       "      <td>9.4</td>\n",
       "      <td>5</td>\n",
       "    </tr>\n",
       "    <tr>\n",
       "      <th>1</th>\n",
       "      <td>7.8</td>\n",
       "      <td>0.88</td>\n",
       "      <td>0.00</td>\n",
       "      <td>2.6</td>\n",
       "      <td>0.098</td>\n",
       "      <td>25.0</td>\n",
       "      <td>67.0</td>\n",
       "      <td>0.9968</td>\n",
       "      <td>3.20</td>\n",
       "      <td>0.68</td>\n",
       "      <td>9.8</td>\n",
       "      <td>5</td>\n",
       "    </tr>\n",
       "    <tr>\n",
       "      <th>2</th>\n",
       "      <td>7.8</td>\n",
       "      <td>0.76</td>\n",
       "      <td>0.04</td>\n",
       "      <td>2.3</td>\n",
       "      <td>0.092</td>\n",
       "      <td>15.0</td>\n",
       "      <td>54.0</td>\n",
       "      <td>0.9970</td>\n",
       "      <td>3.26</td>\n",
       "      <td>0.65</td>\n",
       "      <td>9.8</td>\n",
       "      <td>5</td>\n",
       "    </tr>\n",
       "    <tr>\n",
       "      <th>3</th>\n",
       "      <td>11.2</td>\n",
       "      <td>0.28</td>\n",
       "      <td>0.56</td>\n",
       "      <td>1.9</td>\n",
       "      <td>0.075</td>\n",
       "      <td>17.0</td>\n",
       "      <td>60.0</td>\n",
       "      <td>0.9980</td>\n",
       "      <td>3.16</td>\n",
       "      <td>0.58</td>\n",
       "      <td>9.8</td>\n",
       "      <td>6</td>\n",
       "    </tr>\n",
       "    <tr>\n",
       "      <th>4</th>\n",
       "      <td>7.4</td>\n",
       "      <td>0.70</td>\n",
       "      <td>0.00</td>\n",
       "      <td>1.9</td>\n",
       "      <td>0.076</td>\n",
       "      <td>11.0</td>\n",
       "      <td>34.0</td>\n",
       "      <td>0.9978</td>\n",
       "      <td>3.51</td>\n",
       "      <td>0.56</td>\n",
       "      <td>9.4</td>\n",
       "      <td>5</td>\n",
       "    </tr>\n",
       "  </tbody>\n",
       "</table>\n",
       "</div>"
      ],
      "text/plain": [
       "   fixed acidity  volatile acidity  citric acid  residual sugar  chlorides  \\\n",
       "0            7.4              0.70         0.00             1.9      0.076   \n",
       "1            7.8              0.88         0.00             2.6      0.098   \n",
       "2            7.8              0.76         0.04             2.3      0.092   \n",
       "3           11.2              0.28         0.56             1.9      0.075   \n",
       "4            7.4              0.70         0.00             1.9      0.076   \n",
       "\n",
       "   free sulfur dioxide  total sulfur dioxide  density    pH  sulphates  \\\n",
       "0                 11.0                  34.0   0.9978  3.51       0.56   \n",
       "1                 25.0                  67.0   0.9968  3.20       0.68   \n",
       "2                 15.0                  54.0   0.9970  3.26       0.65   \n",
       "3                 17.0                  60.0   0.9980  3.16       0.58   \n",
       "4                 11.0                  34.0   0.9978  3.51       0.56   \n",
       "\n",
       "   alcohol  quality  \n",
       "0      9.4        5  \n",
       "1      9.8        5  \n",
       "2      9.8        5  \n",
       "3      9.8        6  \n",
       "4      9.4        5  "
      ]
     },
     "execution_count": 23,
     "metadata": {},
     "output_type": "execute_result"
    }
   ],
   "source": [
    "wine_set.head(n=5)"
   ]
  },
  {
   "cell_type": "markdown",
   "metadata": {},
   "source": [
    "Pay attention to the column names (variable names). Also start looking at the\n",
    "variable values.\n",
    "\n",
    "We can do the same thing on the last 5 rows of the data set."
   ]
  },
  {
   "cell_type": "code",
   "execution_count": 24,
   "metadata": {},
   "outputs": [
    {
     "data": {
      "text/html": [
       "<div>\n",
       "<style scoped>\n",
       "    .dataframe tbody tr th:only-of-type {\n",
       "        vertical-align: middle;\n",
       "    }\n",
       "\n",
       "    .dataframe tbody tr th {\n",
       "        vertical-align: top;\n",
       "    }\n",
       "\n",
       "    .dataframe thead th {\n",
       "        text-align: right;\n",
       "    }\n",
       "</style>\n",
       "<table border=\"1\" class=\"dataframe\">\n",
       "  <thead>\n",
       "    <tr style=\"text-align: right;\">\n",
       "      <th></th>\n",
       "      <th>fixed acidity</th>\n",
       "      <th>volatile acidity</th>\n",
       "      <th>citric acid</th>\n",
       "      <th>residual sugar</th>\n",
       "      <th>chlorides</th>\n",
       "      <th>free sulfur dioxide</th>\n",
       "      <th>total sulfur dioxide</th>\n",
       "      <th>density</th>\n",
       "      <th>pH</th>\n",
       "      <th>sulphates</th>\n",
       "      <th>alcohol</th>\n",
       "      <th>quality</th>\n",
       "    </tr>\n",
       "  </thead>\n",
       "  <tbody>\n",
       "    <tr>\n",
       "      <th>1594</th>\n",
       "      <td>6.2</td>\n",
       "      <td>0.600</td>\n",
       "      <td>0.08</td>\n",
       "      <td>2.0</td>\n",
       "      <td>0.090</td>\n",
       "      <td>32.0</td>\n",
       "      <td>44.0</td>\n",
       "      <td>0.99490</td>\n",
       "      <td>3.45</td>\n",
       "      <td>0.58</td>\n",
       "      <td>10.5</td>\n",
       "      <td>5</td>\n",
       "    </tr>\n",
       "    <tr>\n",
       "      <th>1595</th>\n",
       "      <td>5.9</td>\n",
       "      <td>0.550</td>\n",
       "      <td>0.10</td>\n",
       "      <td>2.2</td>\n",
       "      <td>0.062</td>\n",
       "      <td>39.0</td>\n",
       "      <td>51.0</td>\n",
       "      <td>0.99512</td>\n",
       "      <td>3.52</td>\n",
       "      <td>0.76</td>\n",
       "      <td>11.2</td>\n",
       "      <td>6</td>\n",
       "    </tr>\n",
       "    <tr>\n",
       "      <th>1596</th>\n",
       "      <td>6.3</td>\n",
       "      <td>0.510</td>\n",
       "      <td>0.13</td>\n",
       "      <td>2.3</td>\n",
       "      <td>0.076</td>\n",
       "      <td>29.0</td>\n",
       "      <td>40.0</td>\n",
       "      <td>0.99574</td>\n",
       "      <td>3.42</td>\n",
       "      <td>0.75</td>\n",
       "      <td>11.0</td>\n",
       "      <td>6</td>\n",
       "    </tr>\n",
       "    <tr>\n",
       "      <th>1597</th>\n",
       "      <td>5.9</td>\n",
       "      <td>0.645</td>\n",
       "      <td>0.12</td>\n",
       "      <td>2.0</td>\n",
       "      <td>0.075</td>\n",
       "      <td>32.0</td>\n",
       "      <td>44.0</td>\n",
       "      <td>0.99547</td>\n",
       "      <td>3.57</td>\n",
       "      <td>0.71</td>\n",
       "      <td>10.2</td>\n",
       "      <td>5</td>\n",
       "    </tr>\n",
       "    <tr>\n",
       "      <th>1598</th>\n",
       "      <td>6.0</td>\n",
       "      <td>0.310</td>\n",
       "      <td>0.47</td>\n",
       "      <td>3.6</td>\n",
       "      <td>0.067</td>\n",
       "      <td>18.0</td>\n",
       "      <td>42.0</td>\n",
       "      <td>0.99549</td>\n",
       "      <td>3.39</td>\n",
       "      <td>0.66</td>\n",
       "      <td>11.0</td>\n",
       "      <td>6</td>\n",
       "    </tr>\n",
       "  </tbody>\n",
       "</table>\n",
       "</div>"
      ],
      "text/plain": [
       "      fixed acidity  volatile acidity  citric acid  residual sugar  chlorides  \\\n",
       "1594            6.2             0.600         0.08             2.0      0.090   \n",
       "1595            5.9             0.550         0.10             2.2      0.062   \n",
       "1596            6.3             0.510         0.13             2.3      0.076   \n",
       "1597            5.9             0.645         0.12             2.0      0.075   \n",
       "1598            6.0             0.310         0.47             3.6      0.067   \n",
       "\n",
       "      free sulfur dioxide  total sulfur dioxide  density    pH  sulphates  \\\n",
       "1594                 32.0                  44.0  0.99490  3.45       0.58   \n",
       "1595                 39.0                  51.0  0.99512  3.52       0.76   \n",
       "1596                 29.0                  40.0  0.99574  3.42       0.75   \n",
       "1597                 32.0                  44.0  0.99547  3.57       0.71   \n",
       "1598                 18.0                  42.0  0.99549  3.39       0.66   \n",
       "\n",
       "      alcohol  quality  \n",
       "1594     10.5        5  \n",
       "1595     11.2        6  \n",
       "1596     11.0        6  \n",
       "1597     10.2        5  \n",
       "1598     11.0        6  "
      ]
     },
     "execution_count": 24,
     "metadata": {},
     "output_type": "execute_result"
    }
   ],
   "source": [
    "wine_set.tail(n=5)"
   ]
  },
  {
   "cell_type": "markdown",
   "metadata": {},
   "source": [
    "How many rows does the data set contain?"
   ]
  },
  {
   "cell_type": "code",
   "execution_count": 25,
   "metadata": {},
   "outputs": [
    {
     "data": {
      "text/plain": [
       "(1599, 12)"
      ]
     },
     "execution_count": 25,
     "metadata": {},
     "output_type": "execute_result"
    }
   ],
   "source": [
    "wine_set.shape"
   ]
  },
  {
   "cell_type": "markdown",
   "metadata": {},
   "source": [
    "We can get some general information about the data set using the \"info()\" method\n",
    "from Pandas. This information is focused on how the data set is represented."
   ]
  },
  {
   "cell_type": "code",
   "execution_count": 26,
   "metadata": {},
   "outputs": [
    {
     "name": "stdout",
     "output_type": "stream",
     "text": [
      "<class 'pandas.core.frame.DataFrame'>\n",
      "RangeIndex: 1599 entries, 0 to 1598\n",
      "Data columns (total 12 columns):\n",
      " #   Column                Non-Null Count  Dtype  \n",
      "---  ------                --------------  -----  \n",
      " 0   fixed acidity         1599 non-null   float64\n",
      " 1   volatile acidity      1599 non-null   float64\n",
      " 2   citric acid           1599 non-null   float64\n",
      " 3   residual sugar        1599 non-null   float64\n",
      " 4   chlorides             1599 non-null   float64\n",
      " 5   free sulfur dioxide   1599 non-null   float64\n",
      " 6   total sulfur dioxide  1599 non-null   float64\n",
      " 7   density               1599 non-null   float64\n",
      " 8   pH                    1599 non-null   float64\n",
      " 9   sulphates             1599 non-null   float64\n",
      " 10  alcohol               1599 non-null   float64\n",
      " 11  quality               1599 non-null   int64  \n",
      "dtypes: float64(11), int64(1)\n",
      "memory usage: 150.0 KB\n"
     ]
    }
   ],
   "source": [
    "wine_set.info()"
   ]
  },
  {
   "cell_type": "markdown",
   "metadata": {},
   "source": [
    "Notice that there are 1,599 rows in the Data Frame. All of the variables have\n",
    "the same number of rows (good starting point).\n",
    "\n",
    "It also shows that the data set is only using 150 KB of memory (pretty small)."
   ]
  },
  {
   "cell_type": "markdown",
   "metadata": {},
   "source": [
    "<a id='Missing Data - Second'></a>\n",
    "## 2.2 Missing Data\n",
    "\n",
    "Before proceeding further we should check the data set for \"odd\" values\n",
    "such as NaN's, nulls, etc. This process is not as simple as it seems.\n",
    "When you encounter these off values what do you do? Do you pull out that\n",
    "data point (it might have other useful data)? One approach is to\n",
    "replace these values with a mean, median, or mode.\n",
    "\n",
    "The first step is to look for null values."
   ]
  },
  {
   "cell_type": "code",
   "execution_count": 27,
   "metadata": {},
   "outputs": [
    {
     "data": {
      "text/plain": [
       "False"
      ]
     },
     "execution_count": 27,
     "metadata": {},
     "output_type": "execute_result"
    }
   ],
   "source": [
    "wine_set.isnull().values.any()"
   ]
  },
  {
   "cell_type": "code",
   "execution_count": 28,
   "metadata": {},
   "outputs": [
    {
     "data": {
      "text/plain": [
       "fixed acidity           False\n",
       "volatile acidity        False\n",
       "citric acid             False\n",
       "residual sugar          False\n",
       "chlorides               False\n",
       "free sulfur dioxide     False\n",
       "total sulfur dioxide    False\n",
       "density                 False\n",
       "pH                      False\n",
       "sulphates               False\n",
       "alcohol                 False\n",
       "quality                 False\n",
       "dtype: bool"
      ]
     },
     "execution_count": 28,
     "metadata": {},
     "output_type": "execute_result"
    }
   ],
   "source": [
    "wine_set.isnull().any()"
   ]
  },
  {
   "cell_type": "markdown",
   "metadata": {},
   "source": [
    "There are other steps that you can take to \"fix\" up the data, if needed."
   ]
  },
  {
   "cell_type": "markdown",
   "metadata": {},
   "source": [
    "<a id='Summary Statistics - Second'></a>\n",
    "## 2.3 Summary Statistics\n",
    "\n",
    "Since the data set seems fine, let's now compute the summary statistics using the\n",
    "Pandas method <tt>describe</tt>. As a reminder, these are:\n",
    "\n",
    "1. mean\n",
    "2. standard deviation\n",
    "3. minimum\n",
    "4. 25%, 50%, 75% percentiles\n",
    "5. maximum value\n",
    "\n",
    "and can be computed using a single method from Pandas."
   ]
  },
  {
   "cell_type": "code",
   "execution_count": 29,
   "metadata": {
    "scrolled": true
   },
   "outputs": [
    {
     "data": {
      "text/html": [
       "<div>\n",
       "<style scoped>\n",
       "    .dataframe tbody tr th:only-of-type {\n",
       "        vertical-align: middle;\n",
       "    }\n",
       "\n",
       "    .dataframe tbody tr th {\n",
       "        vertical-align: top;\n",
       "    }\n",
       "\n",
       "    .dataframe thead th {\n",
       "        text-align: right;\n",
       "    }\n",
       "</style>\n",
       "<table border=\"1\" class=\"dataframe\">\n",
       "  <thead>\n",
       "    <tr style=\"text-align: right;\">\n",
       "      <th></th>\n",
       "      <th>fixed acidity</th>\n",
       "      <th>volatile acidity</th>\n",
       "      <th>citric acid</th>\n",
       "      <th>residual sugar</th>\n",
       "      <th>chlorides</th>\n",
       "      <th>free sulfur dioxide</th>\n",
       "      <th>total sulfur dioxide</th>\n",
       "      <th>density</th>\n",
       "      <th>pH</th>\n",
       "      <th>sulphates</th>\n",
       "      <th>alcohol</th>\n",
       "      <th>quality</th>\n",
       "    </tr>\n",
       "  </thead>\n",
       "  <tbody>\n",
       "    <tr>\n",
       "      <th>count</th>\n",
       "      <td>1599.000000</td>\n",
       "      <td>1599.000000</td>\n",
       "      <td>1599.000000</td>\n",
       "      <td>1599.000000</td>\n",
       "      <td>1599.000000</td>\n",
       "      <td>1599.000000</td>\n",
       "      <td>1599.000000</td>\n",
       "      <td>1599.000000</td>\n",
       "      <td>1599.000000</td>\n",
       "      <td>1599.000000</td>\n",
       "      <td>1599.000000</td>\n",
       "      <td>1599.000000</td>\n",
       "    </tr>\n",
       "    <tr>\n",
       "      <th>mean</th>\n",
       "      <td>8.319637</td>\n",
       "      <td>0.527821</td>\n",
       "      <td>0.270976</td>\n",
       "      <td>2.538806</td>\n",
       "      <td>0.087467</td>\n",
       "      <td>15.874922</td>\n",
       "      <td>46.467792</td>\n",
       "      <td>0.996747</td>\n",
       "      <td>3.311113</td>\n",
       "      <td>0.658149</td>\n",
       "      <td>10.422983</td>\n",
       "      <td>5.636023</td>\n",
       "    </tr>\n",
       "    <tr>\n",
       "      <th>std</th>\n",
       "      <td>1.741096</td>\n",
       "      <td>0.179060</td>\n",
       "      <td>0.194801</td>\n",
       "      <td>1.409928</td>\n",
       "      <td>0.047065</td>\n",
       "      <td>10.460157</td>\n",
       "      <td>32.895324</td>\n",
       "      <td>0.001887</td>\n",
       "      <td>0.154386</td>\n",
       "      <td>0.169507</td>\n",
       "      <td>1.065668</td>\n",
       "      <td>0.807569</td>\n",
       "    </tr>\n",
       "    <tr>\n",
       "      <th>min</th>\n",
       "      <td>4.600000</td>\n",
       "      <td>0.120000</td>\n",
       "      <td>0.000000</td>\n",
       "      <td>0.900000</td>\n",
       "      <td>0.012000</td>\n",
       "      <td>1.000000</td>\n",
       "      <td>6.000000</td>\n",
       "      <td>0.990070</td>\n",
       "      <td>2.740000</td>\n",
       "      <td>0.330000</td>\n",
       "      <td>8.400000</td>\n",
       "      <td>3.000000</td>\n",
       "    </tr>\n",
       "    <tr>\n",
       "      <th>25%</th>\n",
       "      <td>7.100000</td>\n",
       "      <td>0.390000</td>\n",
       "      <td>0.090000</td>\n",
       "      <td>1.900000</td>\n",
       "      <td>0.070000</td>\n",
       "      <td>7.000000</td>\n",
       "      <td>22.000000</td>\n",
       "      <td>0.995600</td>\n",
       "      <td>3.210000</td>\n",
       "      <td>0.550000</td>\n",
       "      <td>9.500000</td>\n",
       "      <td>5.000000</td>\n",
       "    </tr>\n",
       "    <tr>\n",
       "      <th>50%</th>\n",
       "      <td>7.900000</td>\n",
       "      <td>0.520000</td>\n",
       "      <td>0.260000</td>\n",
       "      <td>2.200000</td>\n",
       "      <td>0.079000</td>\n",
       "      <td>14.000000</td>\n",
       "      <td>38.000000</td>\n",
       "      <td>0.996750</td>\n",
       "      <td>3.310000</td>\n",
       "      <td>0.620000</td>\n",
       "      <td>10.200000</td>\n",
       "      <td>6.000000</td>\n",
       "    </tr>\n",
       "    <tr>\n",
       "      <th>75%</th>\n",
       "      <td>9.200000</td>\n",
       "      <td>0.640000</td>\n",
       "      <td>0.420000</td>\n",
       "      <td>2.600000</td>\n",
       "      <td>0.090000</td>\n",
       "      <td>21.000000</td>\n",
       "      <td>62.000000</td>\n",
       "      <td>0.997835</td>\n",
       "      <td>3.400000</td>\n",
       "      <td>0.730000</td>\n",
       "      <td>11.100000</td>\n",
       "      <td>6.000000</td>\n",
       "    </tr>\n",
       "    <tr>\n",
       "      <th>max</th>\n",
       "      <td>15.900000</td>\n",
       "      <td>1.580000</td>\n",
       "      <td>1.000000</td>\n",
       "      <td>15.500000</td>\n",
       "      <td>0.611000</td>\n",
       "      <td>72.000000</td>\n",
       "      <td>289.000000</td>\n",
       "      <td>1.003690</td>\n",
       "      <td>4.010000</td>\n",
       "      <td>2.000000</td>\n",
       "      <td>14.900000</td>\n",
       "      <td>8.000000</td>\n",
       "    </tr>\n",
       "  </tbody>\n",
       "</table>\n",
       "</div>"
      ],
      "text/plain": [
       "       fixed acidity  volatile acidity  citric acid  residual sugar  \\\n",
       "count    1599.000000       1599.000000  1599.000000     1599.000000   \n",
       "mean        8.319637          0.527821     0.270976        2.538806   \n",
       "std         1.741096          0.179060     0.194801        1.409928   \n",
       "min         4.600000          0.120000     0.000000        0.900000   \n",
       "25%         7.100000          0.390000     0.090000        1.900000   \n",
       "50%         7.900000          0.520000     0.260000        2.200000   \n",
       "75%         9.200000          0.640000     0.420000        2.600000   \n",
       "max        15.900000          1.580000     1.000000       15.500000   \n",
       "\n",
       "         chlorides  free sulfur dioxide  total sulfur dioxide      density  \\\n",
       "count  1599.000000          1599.000000           1599.000000  1599.000000   \n",
       "mean      0.087467            15.874922             46.467792     0.996747   \n",
       "std       0.047065            10.460157             32.895324     0.001887   \n",
       "min       0.012000             1.000000              6.000000     0.990070   \n",
       "25%       0.070000             7.000000             22.000000     0.995600   \n",
       "50%       0.079000            14.000000             38.000000     0.996750   \n",
       "75%       0.090000            21.000000             62.000000     0.997835   \n",
       "max       0.611000            72.000000            289.000000     1.003690   \n",
       "\n",
       "                pH    sulphates      alcohol      quality  \n",
       "count  1599.000000  1599.000000  1599.000000  1599.000000  \n",
       "mean      3.311113     0.658149    10.422983     5.636023  \n",
       "std       0.154386     0.169507     1.065668     0.807569  \n",
       "min       2.740000     0.330000     8.400000     3.000000  \n",
       "25%       3.210000     0.550000     9.500000     5.000000  \n",
       "50%       3.310000     0.620000    10.200000     6.000000  \n",
       "75%       3.400000     0.730000    11.100000     6.000000  \n",
       "max       4.010000     2.000000    14.900000     8.000000  "
      ]
     },
     "execution_count": 29,
     "metadata": {},
     "output_type": "execute_result"
    }
   ],
   "source": [
    "wine_set.describe()"
   ]
  },
  {
   "cell_type": "markdown",
   "metadata": {},
   "source": [
    "<a id='Hand Statistics - Second'></a>\n",
    "### 2.3.1 \"Hand\" Computed Descriptive Statistics\n",
    "\n",
    "We can look at more detailed stats for each column using our additional\n",
    "summary statistics. These are additional stats:\n",
    "\n",
    "1. mean\n",
    "2. median\n",
    "3. minimum\n",
    "4. maximum\n",
    "5. range\n",
    "6. variance\n",
    "7. standard deviation\n",
    "8. 25%, 50%, 75% percentiles\n",
    "\n",
    "The table should just about fit on your browser. More variables and\n",
    "we would have to break up the table.\n",
    "\n",
    "Take you time looking at these statistics and ask yourself what they are\n",
    "telling you and how you could them to describe the data to someone else."
   ]
  },
  {
   "cell_type": "code",
   "execution_count": 30,
   "metadata": {},
   "outputs": [
    {
     "data": {
      "text/html": [
       "<div>\n",
       "<style scoped>\n",
       "    .dataframe tbody tr th:only-of-type {\n",
       "        vertical-align: middle;\n",
       "    }\n",
       "\n",
       "    .dataframe tbody tr th {\n",
       "        vertical-align: top;\n",
       "    }\n",
       "\n",
       "    .dataframe thead th {\n",
       "        text-align: right;\n",
       "    }\n",
       "</style>\n",
       "<table border=\"1\" class=\"dataframe\">\n",
       "  <thead>\n",
       "    <tr style=\"text-align: right;\">\n",
       "      <th></th>\n",
       "      <th>Measure</th>\n",
       "      <th>fixed acidity</th>\n",
       "      <th>volatile acidity</th>\n",
       "      <th>citric acid</th>\n",
       "      <th>residual sugar</th>\n",
       "      <th>chlorides</th>\n",
       "      <th>free sulfur dioxide</th>\n",
       "      <th>total sulfur dioxide</th>\n",
       "      <th>density</th>\n",
       "      <th>pH</th>\n",
       "      <th>sulphates</th>\n",
       "      <th>alcohol</th>\n",
       "      <th>quality</th>\n",
       "    </tr>\n",
       "  </thead>\n",
       "  <tbody>\n",
       "    <tr>\n",
       "      <th>0</th>\n",
       "      <td>mean</td>\n",
       "      <td>8.319637</td>\n",
       "      <td>0.527821</td>\n",
       "      <td>0.270976</td>\n",
       "      <td>2.538806</td>\n",
       "      <td>0.087467</td>\n",
       "      <td>15.874922</td>\n",
       "      <td>46.467792</td>\n",
       "      <td>0.996747</td>\n",
       "      <td>3.311113</td>\n",
       "      <td>0.658149</td>\n",
       "      <td>10.422983</td>\n",
       "      <td>5.636023</td>\n",
       "    </tr>\n",
       "    <tr>\n",
       "      <th>1</th>\n",
       "      <td>median</td>\n",
       "      <td>7.900000</td>\n",
       "      <td>0.520000</td>\n",
       "      <td>0.260000</td>\n",
       "      <td>2.200000</td>\n",
       "      <td>0.079000</td>\n",
       "      <td>14.000000</td>\n",
       "      <td>38.000000</td>\n",
       "      <td>0.996750</td>\n",
       "      <td>3.310000</td>\n",
       "      <td>0.620000</td>\n",
       "      <td>10.200000</td>\n",
       "      <td>6.000000</td>\n",
       "    </tr>\n",
       "    <tr>\n",
       "      <th>2</th>\n",
       "      <td>min</td>\n",
       "      <td>4.600000</td>\n",
       "      <td>0.120000</td>\n",
       "      <td>0.000000</td>\n",
       "      <td>0.900000</td>\n",
       "      <td>0.012000</td>\n",
       "      <td>1.000000</td>\n",
       "      <td>6.000000</td>\n",
       "      <td>0.990070</td>\n",
       "      <td>2.740000</td>\n",
       "      <td>0.330000</td>\n",
       "      <td>8.400000</td>\n",
       "      <td>3.000000</td>\n",
       "    </tr>\n",
       "    <tr>\n",
       "      <th>3</th>\n",
       "      <td>max</td>\n",
       "      <td>15.900000</td>\n",
       "      <td>1.580000</td>\n",
       "      <td>1.000000</td>\n",
       "      <td>15.500000</td>\n",
       "      <td>0.611000</td>\n",
       "      <td>72.000000</td>\n",
       "      <td>289.000000</td>\n",
       "      <td>1.003690</td>\n",
       "      <td>4.010000</td>\n",
       "      <td>2.000000</td>\n",
       "      <td>14.900000</td>\n",
       "      <td>8.000000</td>\n",
       "    </tr>\n",
       "    <tr>\n",
       "      <th>4</th>\n",
       "      <td>range</td>\n",
       "      <td>11.300000</td>\n",
       "      <td>1.460000</td>\n",
       "      <td>1.000000</td>\n",
       "      <td>14.600000</td>\n",
       "      <td>0.599000</td>\n",
       "      <td>71.000000</td>\n",
       "      <td>283.000000</td>\n",
       "      <td>0.013620</td>\n",
       "      <td>1.270000</td>\n",
       "      <td>1.670000</td>\n",
       "      <td>6.500000</td>\n",
       "      <td>5.000000</td>\n",
       "    </tr>\n",
       "    <tr>\n",
       "      <th>5</th>\n",
       "      <td>variance</td>\n",
       "      <td>3.031416</td>\n",
       "      <td>0.032062</td>\n",
       "      <td>0.037947</td>\n",
       "      <td>1.987897</td>\n",
       "      <td>0.002215</td>\n",
       "      <td>109.414884</td>\n",
       "      <td>1082.102373</td>\n",
       "      <td>0.000004</td>\n",
       "      <td>0.023835</td>\n",
       "      <td>0.028733</td>\n",
       "      <td>1.135647</td>\n",
       "      <td>0.652168</td>\n",
       "    </tr>\n",
       "    <tr>\n",
       "      <th>6</th>\n",
       "      <td>std dev</td>\n",
       "      <td>1.741096</td>\n",
       "      <td>0.179060</td>\n",
       "      <td>0.194801</td>\n",
       "      <td>1.409928</td>\n",
       "      <td>0.047065</td>\n",
       "      <td>10.460157</td>\n",
       "      <td>32.895324</td>\n",
       "      <td>0.001887</td>\n",
       "      <td>0.154386</td>\n",
       "      <td>0.169507</td>\n",
       "      <td>1.065668</td>\n",
       "      <td>0.807569</td>\n",
       "    </tr>\n",
       "    <tr>\n",
       "      <th>7</th>\n",
       "      <td>25%</td>\n",
       "      <td>7.100000</td>\n",
       "      <td>0.390000</td>\n",
       "      <td>0.090000</td>\n",
       "      <td>1.900000</td>\n",
       "      <td>0.070000</td>\n",
       "      <td>7.000000</td>\n",
       "      <td>22.000000</td>\n",
       "      <td>0.995600</td>\n",
       "      <td>3.210000</td>\n",
       "      <td>0.550000</td>\n",
       "      <td>9.500000</td>\n",
       "      <td>5.000000</td>\n",
       "    </tr>\n",
       "    <tr>\n",
       "      <th>8</th>\n",
       "      <td>50%</td>\n",
       "      <td>7.900000</td>\n",
       "      <td>0.520000</td>\n",
       "      <td>0.260000</td>\n",
       "      <td>2.200000</td>\n",
       "      <td>0.079000</td>\n",
       "      <td>14.000000</td>\n",
       "      <td>38.000000</td>\n",
       "      <td>0.996750</td>\n",
       "      <td>3.310000</td>\n",
       "      <td>0.620000</td>\n",
       "      <td>10.200000</td>\n",
       "      <td>6.000000</td>\n",
       "    </tr>\n",
       "    <tr>\n",
       "      <th>9</th>\n",
       "      <td>75%</td>\n",
       "      <td>9.200000</td>\n",
       "      <td>0.640000</td>\n",
       "      <td>0.420000</td>\n",
       "      <td>2.600000</td>\n",
       "      <td>0.090000</td>\n",
       "      <td>21.000000</td>\n",
       "      <td>62.000000</td>\n",
       "      <td>0.997835</td>\n",
       "      <td>3.400000</td>\n",
       "      <td>0.730000</td>\n",
       "      <td>11.100000</td>\n",
       "      <td>6.000000</td>\n",
       "    </tr>\n",
       "  </tbody>\n",
       "</table>\n",
       "</div>"
      ],
      "text/plain": [
       "    Measure  fixed acidity  volatile acidity  citric acid  residual sugar  \\\n",
       "0      mean       8.319637          0.527821     0.270976        2.538806   \n",
       "1    median       7.900000          0.520000     0.260000        2.200000   \n",
       "2       min       4.600000          0.120000     0.000000        0.900000   \n",
       "3       max      15.900000          1.580000     1.000000       15.500000   \n",
       "4     range      11.300000          1.460000     1.000000       14.600000   \n",
       "5  variance       3.031416          0.032062     0.037947        1.987897   \n",
       "6   std dev       1.741096          0.179060     0.194801        1.409928   \n",
       "7       25%       7.100000          0.390000     0.090000        1.900000   \n",
       "8       50%       7.900000          0.520000     0.260000        2.200000   \n",
       "9       75%       9.200000          0.640000     0.420000        2.600000   \n",
       "\n",
       "   chlorides  free sulfur dioxide  total sulfur dioxide   density        pH  \\\n",
       "0   0.087467            15.874922             46.467792  0.996747  3.311113   \n",
       "1   0.079000            14.000000             38.000000  0.996750  3.310000   \n",
       "2   0.012000             1.000000              6.000000  0.990070  2.740000   \n",
       "3   0.611000            72.000000            289.000000  1.003690  4.010000   \n",
       "4   0.599000            71.000000            283.000000  0.013620  1.270000   \n",
       "5   0.002215           109.414884           1082.102373  0.000004  0.023835   \n",
       "6   0.047065            10.460157             32.895324  0.001887  0.154386   \n",
       "7   0.070000             7.000000             22.000000  0.995600  3.210000   \n",
       "8   0.079000            14.000000             38.000000  0.996750  3.310000   \n",
       "9   0.090000            21.000000             62.000000  0.997835  3.400000   \n",
       "\n",
       "   sulphates    alcohol   quality  \n",
       "0   0.658149  10.422983  5.636023  \n",
       "1   0.620000  10.200000  6.000000  \n",
       "2   0.330000   8.400000  3.000000  \n",
       "3   2.000000  14.900000  8.000000  \n",
       "4   1.670000   6.500000  5.000000  \n",
       "5   0.028733   1.135647  0.652168  \n",
       "6   0.169507   1.065668  0.807569  \n",
       "7   0.550000   9.500000  5.000000  \n",
       "8   0.620000  10.200000  6.000000  \n",
       "9   0.730000  11.100000  6.000000  "
      ]
     },
     "execution_count": 30,
     "metadata": {},
     "output_type": "execute_result"
    }
   ],
   "source": [
    "wine_set1 = wine_set[\"fixed acidity\"].describe() \n",
    "wine_set2 = wine_set[\"volatile acidity\"].describe()\n",
    "wine_set3 = wine_set[\"citric acid\"].describe()\n",
    "wine_set4 = wine_set[\"residual sugar\"].describe()\n",
    "wine_set5 = wine_set[\"chlorides\"].describe()\n",
    "wine_set6 = wine_set[\"free sulfur dioxide\"].describe()\n",
    "wine_set7 = wine_set[\"total sulfur dioxide\"].describe()\n",
    "wine_set8 = wine_set[\"density\"].describe()\n",
    "wine_set9 = wine_set[\"pH\"].describe()\n",
    "wine_set10 = wine_set[\"sulphates\"].describe()\n",
    "wine_set11 = wine_set[\"alcohol\"].describe()\n",
    "wine_set12 = wine_set[\"quality\"].describe()\n",
    "\n",
    "\n",
    "\n",
    "raw_data = {'Measure': ['mean', 'median', 'min', 'max', 'range', 'variance', 'std dev', '25%', \"50%\", \"75%\"],\n",
    "        'fixed acidity': [wine_set[\"fixed acidity\"].mean(), wine_set[\"fixed acidity\"].median(), wine_set[\"fixed acidity\"].min(), \n",
    "                          wine_set[\"fixed acidity\"].max(), \n",
    "                          wine_set[\"fixed acidity\"].max()-wine_set[\"fixed acidity\"].min(),\n",
    "                          wine_set[\"fixed acidity\"].var(), wine_set[\"fixed acidity\"].std(),\n",
    "                          wine_set1[4], wine_set1[5], wine_set1[6] ],\n",
    "        'volatile acidity': [wine_set[\"volatile acidity\"].mean(), wine_set[\"volatile acidity\"].median(), wine_set[\"volatile acidity\"].min(),\n",
    "                            wine_set[\"volatile acidity\"].max(), \n",
    "                            wine_set[\"volatile acidity\"].max()-wine_set[\"volatile acidity\"].min(),\n",
    "                            wine_set[\"volatile acidity\"].var(), wine_set[\"volatile acidity\"].std(),\n",
    "                            wine_set2[4], wine_set2[5], wine_set2[6] ],\n",
    "        'citric acid': [wine_set[\"citric acid\"].mean(), wine_set[\"citric acid\"].median(), wine_set[\"citric acid\"].min(),\n",
    "                        wine_set[\"citric acid\"].max(),\n",
    "                        wine_set[\"citric acid\"].max()-wine_set[\"citric acid\"].min(),\n",
    "                        wine_set[\"citric acid\"].var(), wine_set[\"citric acid\"].std(), \n",
    "                        wine_set3[4], wine_set3[5], wine_set3[6] ],\n",
    "        'residual sugar': [wine_set[\"residual sugar\"].mean(), wine_set[\"residual sugar\"].median(), wine_set[\"residual sugar\"].min(),\n",
    "                           wine_set[\"residual sugar\"].max(), \n",
    "                           wine_set[\"residual sugar\"].max()-wine_set[\"residual sugar\"].min(),\n",
    "                           wine_set[\"residual sugar\"].var(), wine_set[\"residual sugar\"].std(), \n",
    "                           wine_set4[4], wine_set4[5], wine_set4[6] ],\n",
    "        'chlorides': [wine_set[\"chlorides\"].mean(), wine_set[\"chlorides\"].median(), wine_set[\"chlorides\"].min(),\n",
    "                      wine_set[\"chlorides\"].max(), wine_set[\"chlorides\"].max()-wine_set[\"chlorides\"].min(),\n",
    "                      wine_set[\"chlorides\"].var(), wine_set[\"chlorides\"].std(), \n",
    "                      wine_set5[4], wine_set5[5], wine_set5[6] ],\n",
    "        'free sulfur dioxide': [wine_set[\"free sulfur dioxide\"].mean(), wine_set[\"free sulfur dioxide\"].median(), wine_set[\"free sulfur dioxide\"].min(),\n",
    "                                wine_set[\"free sulfur dioxide\"].max(), \n",
    "                                wine_set[\"free sulfur dioxide\"].max()-wine_set[\"free sulfur dioxide\"].min(),\n",
    "                                wine_set[\"free sulfur dioxide\"].var(), wine_set[\"free sulfur dioxide\"].std(), \n",
    "                                wine_set6[4], wine_set6[5], wine_set6[6] ],\n",
    "        'total sulfur dioxide': [wine_set[\"total sulfur dioxide\"].mean(), wine_set[\"total sulfur dioxide\"].median(), \n",
    "                                 wine_set[\"total sulfur dioxide\"].min(),\n",
    "                                 wine_set[\"total sulfur dioxide\"].max(), \n",
    "                                 wine_set[\"total sulfur dioxide\"].max()-wine_set[\"total sulfur dioxide\"].min(),\n",
    "                                 wine_set[\"total sulfur dioxide\"].var(), wine_set[\"total sulfur dioxide\"].std(), \n",
    "                                 wine_set7[4], wine_set7[5], wine_set7[6] ],                               \n",
    "        'density': [wine_set[\"density\"].mean(), wine_set[\"density\"].median(), wine_set[\"density\"].min(),\n",
    "                    wine_set[\"density\"].max(), wine_set[\"density\"].max()-wine_set[\"density\"].min(),\n",
    "                    wine_set[\"density\"].var(), wine_set[\"density\"].std(), \n",
    "                    wine_set8[4], wine_set8[5], wine_set8[6] ],\n",
    "        'pH': [wine_set[\"pH\"].mean(), wine_set[\"pH\"].median(), wine_set[\"pH\"].min(),\n",
    "               wine_set[\"pH\"].max(), wine_set[\"pH\"].max()-wine_set[\"pH\"].min(),\n",
    "               wine_set[\"pH\"].var(), wine_set[\"pH\"].std(), \n",
    "               wine_set9[4], wine_set9[5], wine_set9[6] ],                                \n",
    "        'sulphates': [wine_set[\"sulphates\"].mean(), wine_set[\"sulphates\"].median(), wine_set[\"sulphates\"].min(),\n",
    "                      wine_set[\"sulphates\"].max(), wine_set[\"sulphates\"].max()-wine_set[\"sulphates\"].min(),\n",
    "                      wine_set[\"sulphates\"].var(), wine_set[\"sulphates\"].std(), \n",
    "                      wine_set10[4], wine_set10[5], wine_set10[6] ],                                \n",
    "        'alcohol': [wine_set[\"alcohol\"].mean(), wine_set[\"alcohol\"].median(), wine_set[\"alcohol\"].min(),\n",
    "                    wine_set[\"alcohol\"].max(), wine_set[\"alcohol\"].max()-wine_set[\"alcohol\"].min(),\n",
    "                    wine_set[\"alcohol\"].var(), wine_set[\"alcohol\"].std(), \n",
    "                    wine_set11[4], wine_set11[5], wine_set11[6] ],  \n",
    "        'quality': [wine_set[\"quality\"].mean(), wine_set[\"quality\"].median(), wine_set[\"quality\"].min(),\n",
    "                    wine_set[\"quality\"].max(), wine_set[\"quality\"].max()-wine_set[\"quality\"].min(),\n",
    "                    wine_set[\"quality\"].var(), wine_set[\"quality\"].std(), \n",
    "                    wine_set12[4], wine_set12[5], wine_set12[6] ]\n",
    "}\n",
    "\n",
    "data_out = pd.DataFrame(raw_data, columns = ['Measure', 'fixed acidity', 'volatile acidity', 'citric acid',\n",
    "                                             'residual sugar', 'chlorides', 'free sulfur dioxide',\n",
    "                                             'total sulfur dioxide', 'density', 'pH', 'sulphates',\n",
    "                                             'alcohol', 'quality'])\n",
    "data_out"
   ]
  },
  {
   "cell_type": "markdown",
   "metadata": {},
   "source": [
    "What do you notice in the data set?"
   ]
  },
  {
   "cell_type": "markdown",
   "metadata": {},
   "source": [
    "<a id='Plot Data - Second'></a>\n",
    "## 2.5 Plot the Data\n",
    "\n",
    "The usual next step for me is to start plotting the data. For the previous\n",
    "data set this was simple since there were only two independent variables\n",
    "and we could split the data set so that there was only one dependent data set\n",
    "for each part of the original data set.\n",
    "\n",
    "The wine data set has more independent variables but only one dependent variable\n",
    "(wine quality). A good idea is to start plotting the wine quality versus the\n",
    "dependent variables. This can help us better understand how these variables impact\n",
    "the wine quality (dependent variable). \n",
    "\n",
    "The first plot is of the wine quality but the qualities are grouped into\n",
    "three \"buckets\"."
   ]
  },
  {
   "cell_type": "markdown",
   "metadata": {},
   "source": [
    "<a id='Categorizing Wine - Second'></a>\n",
    "### 2.5.1 Categorizing Wine Quality (Dependent Variable as a Function of Independent Variable)\n",
    "\n",
    "The wine quality is a measure of \"performance\" of the particular wine.\n",
    "It is the dependent variable in the data set and the other columns\n",
    "are independent variables. If we wanted to do \"projections\" we would need\n",
    "to develop a model of the data to estimate the quality of wine based on\n",
    "the other properties. This notebook doesn't cover creating these models,\n",
    "but to get ready for such a task (machine learning or deep learning), \n",
    "we should understand a little more about the \"quality\" of th wines in\n",
    "this data set.\n",
    "\n",
    "The wine quality has a minimum of 3 and a maximum of 8 (sorry - no 10's).\n",
    "While we can \"bin\" plot the wine quality, let's make three groups of\n",
    "wine and look at the number of wines that fall into these groups (recall\n",
    "that we have 1,599 wines in total).\n",
    "\n",
    "Lets consider all wines with ratings 7 and above to be of very good quality,\n",
    "wines with 5 and 6 to be of average quality, and wines less than 5 to be\n",
    "of worse quality. We compute these using the Pandas Data Frame and simply\n",
    "output the results in text.\n",
    "\n",
    "While we're at it, let's print out the summary stats for the data set but\n",
    "round the values (makes it a little easier to examine)."
   ]
  },
  {
   "cell_type": "code",
   "execution_count": 31,
   "metadata": {},
   "outputs": [
    {
     "name": "stdout",
     "output_type": "stream",
     "text": [
      "Total number of wine data: 1599\n",
      "Wines with rating 7 and above: 217\n",
      "Wines with rating less than 5: 63\n",
      "Wines with rating 5 and 6: 1319\n",
      "Percentage of wines with quality 7 and above: 13.57%\n"
     ]
    },
    {
     "data": {
      "text/html": [
       "<div>\n",
       "<style scoped>\n",
       "    .dataframe tbody tr th:only-of-type {\n",
       "        vertical-align: middle;\n",
       "    }\n",
       "\n",
       "    .dataframe tbody tr th {\n",
       "        vertical-align: top;\n",
       "    }\n",
       "\n",
       "    .dataframe thead th {\n",
       "        text-align: right;\n",
       "    }\n",
       "</style>\n",
       "<table border=\"1\" class=\"dataframe\">\n",
       "  <thead>\n",
       "    <tr style=\"text-align: right;\">\n",
       "      <th></th>\n",
       "      <th>fixed acidity</th>\n",
       "      <th>volatile acidity</th>\n",
       "      <th>citric acid</th>\n",
       "      <th>residual sugar</th>\n",
       "      <th>chlorides</th>\n",
       "      <th>free sulfur dioxide</th>\n",
       "      <th>total sulfur dioxide</th>\n",
       "      <th>density</th>\n",
       "      <th>pH</th>\n",
       "      <th>sulphates</th>\n",
       "      <th>alcohol</th>\n",
       "      <th>quality</th>\n",
       "    </tr>\n",
       "  </thead>\n",
       "  <tbody>\n",
       "    <tr>\n",
       "      <th>count</th>\n",
       "      <td>1599.0</td>\n",
       "      <td>1599.0</td>\n",
       "      <td>1599.0</td>\n",
       "      <td>1599.0</td>\n",
       "      <td>1599.0</td>\n",
       "      <td>1599.0</td>\n",
       "      <td>1599.0</td>\n",
       "      <td>1599.0</td>\n",
       "      <td>1599.0</td>\n",
       "      <td>1599.0</td>\n",
       "      <td>1599.0</td>\n",
       "      <td>1599.0</td>\n",
       "    </tr>\n",
       "    <tr>\n",
       "      <th>mean</th>\n",
       "      <td>8.0</td>\n",
       "      <td>1.0</td>\n",
       "      <td>0.0</td>\n",
       "      <td>3.0</td>\n",
       "      <td>0.0</td>\n",
       "      <td>16.0</td>\n",
       "      <td>46.0</td>\n",
       "      <td>1.0</td>\n",
       "      <td>3.0</td>\n",
       "      <td>1.0</td>\n",
       "      <td>10.0</td>\n",
       "      <td>6.0</td>\n",
       "    </tr>\n",
       "    <tr>\n",
       "      <th>std</th>\n",
       "      <td>2.0</td>\n",
       "      <td>0.0</td>\n",
       "      <td>0.0</td>\n",
       "      <td>1.0</td>\n",
       "      <td>0.0</td>\n",
       "      <td>10.0</td>\n",
       "      <td>33.0</td>\n",
       "      <td>0.0</td>\n",
       "      <td>0.0</td>\n",
       "      <td>0.0</td>\n",
       "      <td>1.0</td>\n",
       "      <td>1.0</td>\n",
       "    </tr>\n",
       "    <tr>\n",
       "      <th>min</th>\n",
       "      <td>5.0</td>\n",
       "      <td>0.0</td>\n",
       "      <td>0.0</td>\n",
       "      <td>1.0</td>\n",
       "      <td>0.0</td>\n",
       "      <td>1.0</td>\n",
       "      <td>6.0</td>\n",
       "      <td>1.0</td>\n",
       "      <td>3.0</td>\n",
       "      <td>0.0</td>\n",
       "      <td>8.0</td>\n",
       "      <td>3.0</td>\n",
       "    </tr>\n",
       "    <tr>\n",
       "      <th>25%</th>\n",
       "      <td>7.0</td>\n",
       "      <td>0.0</td>\n",
       "      <td>0.0</td>\n",
       "      <td>2.0</td>\n",
       "      <td>0.0</td>\n",
       "      <td>7.0</td>\n",
       "      <td>22.0</td>\n",
       "      <td>1.0</td>\n",
       "      <td>3.0</td>\n",
       "      <td>1.0</td>\n",
       "      <td>10.0</td>\n",
       "      <td>5.0</td>\n",
       "    </tr>\n",
       "    <tr>\n",
       "      <th>50%</th>\n",
       "      <td>8.0</td>\n",
       "      <td>1.0</td>\n",
       "      <td>0.0</td>\n",
       "      <td>2.0</td>\n",
       "      <td>0.0</td>\n",
       "      <td>14.0</td>\n",
       "      <td>38.0</td>\n",
       "      <td>1.0</td>\n",
       "      <td>3.0</td>\n",
       "      <td>1.0</td>\n",
       "      <td>10.0</td>\n",
       "      <td>6.0</td>\n",
       "    </tr>\n",
       "    <tr>\n",
       "      <th>75%</th>\n",
       "      <td>9.0</td>\n",
       "      <td>1.0</td>\n",
       "      <td>0.0</td>\n",
       "      <td>3.0</td>\n",
       "      <td>0.0</td>\n",
       "      <td>21.0</td>\n",
       "      <td>62.0</td>\n",
       "      <td>1.0</td>\n",
       "      <td>3.0</td>\n",
       "      <td>1.0</td>\n",
       "      <td>11.0</td>\n",
       "      <td>6.0</td>\n",
       "    </tr>\n",
       "    <tr>\n",
       "      <th>max</th>\n",
       "      <td>16.0</td>\n",
       "      <td>2.0</td>\n",
       "      <td>1.0</td>\n",
       "      <td>16.0</td>\n",
       "      <td>1.0</td>\n",
       "      <td>72.0</td>\n",
       "      <td>289.0</td>\n",
       "      <td>1.0</td>\n",
       "      <td>4.0</td>\n",
       "      <td>2.0</td>\n",
       "      <td>15.0</td>\n",
       "      <td>8.0</td>\n",
       "    </tr>\n",
       "  </tbody>\n",
       "</table>\n",
       "</div>"
      ],
      "text/plain": [
       "       fixed acidity  volatile acidity  citric acid  residual sugar  \\\n",
       "count         1599.0            1599.0       1599.0          1599.0   \n",
       "mean             8.0               1.0          0.0             3.0   \n",
       "std              2.0               0.0          0.0             1.0   \n",
       "min              5.0               0.0          0.0             1.0   \n",
       "25%              7.0               0.0          0.0             2.0   \n",
       "50%              8.0               1.0          0.0             2.0   \n",
       "75%              9.0               1.0          0.0             3.0   \n",
       "max             16.0               2.0          1.0            16.0   \n",
       "\n",
       "       chlorides  free sulfur dioxide  total sulfur dioxide  density      pH  \\\n",
       "count     1599.0               1599.0                1599.0   1599.0  1599.0   \n",
       "mean         0.0                 16.0                  46.0      1.0     3.0   \n",
       "std          0.0                 10.0                  33.0      0.0     0.0   \n",
       "min          0.0                  1.0                   6.0      1.0     3.0   \n",
       "25%          0.0                  7.0                  22.0      1.0     3.0   \n",
       "50%          0.0                 14.0                  38.0      1.0     3.0   \n",
       "75%          0.0                 21.0                  62.0      1.0     3.0   \n",
       "max          1.0                 72.0                 289.0      1.0     4.0   \n",
       "\n",
       "       sulphates  alcohol  quality  \n",
       "count     1599.0   1599.0   1599.0  \n",
       "mean         1.0     10.0      6.0  \n",
       "std          0.0      1.0      1.0  \n",
       "min          0.0      8.0      3.0  \n",
       "25%          1.0     10.0      5.0  \n",
       "50%          1.0     10.0      6.0  \n",
       "75%          1.0     11.0      6.0  \n",
       "max          2.0     15.0      8.0  "
      ]
     },
     "execution_count": 31,
     "metadata": {},
     "output_type": "execute_result"
    }
   ],
   "source": [
    "n_wines = wine_set.shape[0]\n",
    "\n",
    "# Number of wines with quality rating above 6\n",
    "quality_above_6 = wine_set.loc[(wine_set['quality'] > 6)]\n",
    "n_above_6 = quality_above_6.shape[0]\n",
    "\n",
    "# Number of wines with quality rating below 5\n",
    "quality_below_5 = wine_set.loc[(wine_set['quality'] < 5)]\n",
    "n_below_5 = quality_below_5.shape[0]\n",
    "\n",
    "# Number of wines with quality rating between 5 to 6\n",
    "quality_between_5 = wine_set.loc[(wine_set['quality'] >= 5) & (wine_set['quality'] <= 6)]\n",
    "n_between_5 = quality_between_5.shape[0]\n",
    "\n",
    "# Percentage of wines with quality rating above 6\n",
    "greater_percent = n_above_6*100/n_wines\n",
    "\n",
    "# Print the results\n",
    "print(\"Total number of wine data: {}\".format(n_wines))\n",
    "print(\"Wines with rating 7 and above: {}\".format(n_above_6))\n",
    "print(\"Wines with rating less than 5: {}\".format(n_below_5))\n",
    "print(\"Wines with rating 5 and 6: {}\".format(n_between_5))\n",
    "print(\"Percentage of wines with quality 7 and above: {:.2f}%\".format(greater_percent))\n",
    "\n",
    "# Some more additional data analysis\n",
    "np.round(wine_set.describe())"
   ]
  },
  {
   "cell_type": "markdown",
   "metadata": {},
   "source": [
    "It looks like the vast majority (82.5%) have quality ratings of 5 or 6 (right\n",
    "in the middle of the possible rating).\n",
    "\n",
    "There aren't too many wines, only 63, that have a worse quality. That's (3.9%).\n",
    "\n",
    "There are 217 wines of very good quality (7 or greater). There are 217 of these\n",
    "wines, accounting for 13.57% of the total number of wines.\n",
    "\n",
    "From these numbers, we can make the observation that the distribution of wines\n",
    "scores is heavily concentrated in the middle (6 or 7), and not so much at the lower\n",
    "or higher end of the scores. If we want to create a model of the wine scoring, we\n",
    "will have to be cautious since we may end up modeling the middle range (5 and 6)\n",
    "pretty well since there are so many wines there, and maybe not modeling the\n",
    "wines at the lower or higher end so well since there aren't many of them.\n"
   ]
  },
  {
   "cell_type": "markdown",
   "metadata": {},
   "source": [
    "<a id='Plot Wine Quality - Second'></a>\n",
    "### 2.5.2 Plot Wine Quality (Dependent Variable)\n",
    "\n",
    "The analysis we just completed is good because we can take data sets with a large\n",
    "range of possible \"measures\", which we might try to model and condense them into\n",
    "a few measures for better visibility.\n",
    "\n",
    "This data set has a dependent variable, \"quality\" that is the \"measure\" of the data\n",
    "set. Let's start looking at the win qualities beginning with counting how many\n",
    "data points belong in each quality measure."
   ]
  },
  {
   "cell_type": "code",
   "execution_count": 32,
   "metadata": {},
   "outputs": [
    {
     "data": {
      "text/plain": [
       "quality\n",
       "3     10\n",
       "4     53\n",
       "5    681\n",
       "6    638\n",
       "7    199\n",
       "8     18\n",
       "dtype: int64"
      ]
     },
     "execution_count": 32,
     "metadata": {},
     "output_type": "execute_result"
    }
   ],
   "source": [
    "wine_set.groupby('quality').size()"
   ]
  },
  {
   "cell_type": "markdown",
   "metadata": {},
   "source": [
    "Wine quality has values that run from 0 to 10. However, only 6 values\n",
    "have been used. Using Seaborn we can plot the, using a histogram\n",
    "(also known as a \"countplot\" in Seaborn language)."
   ]
  },
  {
   "cell_type": "code",
   "execution_count": 33,
   "metadata": {},
   "outputs": [
    {
     "data": {
      "image/png": "[encoded data removed]",
      "text/plain": [
       "<Figure size 432x288 with 1 Axes>"
      ]
     },
     "metadata": {
      "needs_background": "light"
     },
     "output_type": "display_data"
    }
   ],
   "source": [
    "import seaborn as sns\n",
    "\n",
    "sns.countplot(x=\"quality\", data=wine_set)\n",
    "plt.xlabel(\"Quality level of wine (0-10 scale)\")\n",
    "plt.show()"
   ]
  },
  {
   "cell_type": "markdown",
   "metadata": {},
   "source": [
    "This plots supports our observation that most of the wines are ranked as 5 or 6.\n",
    "There are very few wines rated 3 (not so good) or 8 (much better"
   ]
  },
  {
   "cell_type": "markdown",
   "metadata": {},
   "source": [
    "<a id='Scatter Wine Quality - Second'></a>\n",
    "### 2.5.3 Scatter Plot of Wine Quality - Dependent Variable vs. Independent Variables\n",
    "\n",
    "The next step that I like to take is plotting the dependent variable as a function\n",
    "of the independent variables (I'm assuming there is only one independent variable\n",
    "in the data set). This translates to a scatter plot of one of the\n",
    "independent variables versus another one, using the wine quality as a color map\n",
    "for the data points (each wine quality is a different color).\n",
    "\n",
    "In the cell below, two variables were chosen, \"pH\" and \"density\". You can chose\n",
    "any two variables you like."
   ]
  },
  {
   "cell_type": "code",
   "execution_count": 34,
   "metadata": {},
   "outputs": [
    {
     "data": {
      "image/png": "[encoded data removed]",
      "text/plain": [
       "<Figure size 402.375x360 with 1 Axes>"
      ]
     },
     "metadata": {},
     "output_type": "display_data"
    }
   ],
   "source": [
    "# As a reminder, the variable names are:\n",
    "# ['fixed acidity', 'volatile acidity', 'citric acid',\n",
    "# 'residual sugar', 'chlorides', 'free sulfur dioxide',\n",
    "# 'total sulfur dioxide', 'density', 'pH', 'sulphates',\n",
    "# 'alcohol']\n",
    "\n",
    "sns.set_style('whitegrid');\n",
    "sns.FacetGrid(wine_set,hue='quality',height=5).map(plt.scatter, 'pH','density').add_legend();\n",
    "plt.show();"
   ]
  },
  {
   "cell_type": "markdown",
   "metadata": {},
   "source": [
    "What kind of information can you gather from this particular plot?\n",
    "\n",
    "Try rotating through the variables to see what the plots look like.\n",
    "Is there anything important to find? (trust me - there are important\n",
    "things to \"find\")"
   ]
  },
  {
   "cell_type": "markdown",
   "metadata": {},
   "source": [
    "<a id='Pairplots - Second'></a>\n",
    "### 2.5.4 Pairplots (Matrix of plots of Dependent Variable vs. Independent Variables)\n",
    "\n",
    "A \"pair plot\" allows us to see both the distribution of single variables and relationships\n",
    "between two variables. You end up with a matrix of scatter plots as every independent variable\n",
    "is plotted against all others. The dependent variable, wine quality, is included as in the\n",
    "previous plot. That is, different wine qualities are assigned a different color.\n",
    "\n",
    "For this data set, we end up with 121 scatter plots (11 x 11). For the case when the two\n",
    "independent variables are the same, a plot on the diagonal, is a\n",
    "<a href=\"https://en.wikipedia.org/wiki/Kernel_density_estimation\">Kernel density estimation</a> (KDE)\n",
    "is plotted by default (Note - this can be changed to a histogram simply by using the option\n",
    "<tt>diag_kind='hist'</tt> in the sns function call. \n",
    "\n",
    "While we haven't talked about KDE and probably won't, it is closely related to histograms.\n",
    "A KDE can be endowed with properties such as smoothness or continuity by using a suitable kernel.\n",
    "That's why we get curves instead of bar charts.\n",
    "\n",
    "For either a Kernel Density Estimation or a Histogram, a plot of the \"bins\" of the particular variable\n",
    "versus the variable value can be created. The wine quality (dependent variable) is included\n",
    "as a change in color.\n",
    "\n",
    "The scatter plots on the upper and lower triangles of the matrix, show the relationship\n",
    "(or lack thereof) between two variables\n",
    "\n",
    "In general, pair plots are a great method to identify trends for follow-up analysis and,\n",
    "fortunately, are easily implemented in Python thanks to the Seaborn library. I find the\n",
    "plots on the diagonal to be very useful. Study them carefully. The plots on the off-diagonal\n",
    "are also very useful although there are more of them relative to the diagonal plots. I tend\n",
    "to look for significant things on the \"off-diagonal\" plots."
   ]
  },
  {
   "cell_type": "code",
   "execution_count": null,
   "metadata": {},
   "outputs": [],
   "source": [
    "sns.set_style('whitegrid')\n",
    "sns.pairplot(wine_set, hue='quality', height=3)\n",
    "plt.show()"
   ]
  },
  {
   "cell_type": "markdown",
   "metadata": {},
   "source": [
    "For this data set, what are these pair plots telling you? There are some observations\n",
    "you can make about the relationship between pairs of data. "
   ]
  },
  {
   "cell_type": "markdown",
   "metadata": {},
   "source": [
    "<a id='Pairplots diagonal - Second'></a>\n",
    "#### 2.5.4.1 Reproduce On-Diagonal Pairplot\n",
    "\n",
    "You can \"re-produce\" the diagonal plots in the pairplot a few ways."
   ]
  },
  {
   "cell_type": "markdown",
   "metadata": {},
   "source": [
    "The first way is to use the <tt>pairplot</tt> method and only specify\n",
    "the specific variable you want to use in your plot. For example, the\n",
    "pairplot function call could be:\n",
    "\n",
    "<tt>sns.pairplot(wine_set, hue='quality', vars=['pH'], height=3)</tt>\n",
    "\n",
    "This will create the diagonal plot when the variable is pH. It will create the\n",
    "plot using all of the wine qualities with one color per wine quality."
   ]
  },
  {
   "cell_type": "code",
   "execution_count": null,
   "metadata": {},
   "outputs": [],
   "source": [
    "sns.set_style('whitegrid')\n",
    "sns.pairplot(wine_set, hue='quality', vars=['pH'], height=3)\n",
    "plt.show()"
   ]
  },
  {
   "cell_type": "markdown",
   "metadata": {},
   "source": [
    "There are some interesting observations to be made from this plot. What do you see?"
   ]
  },
  {
   "cell_type": "markdown",
   "metadata": {},
   "source": [
    "The next cell allow you to create an alternative KDE plot for a specific\n",
    "variable. The down-side to the plot is that it is for all values of wine\n",
    "quality (dependent variable).\n",
    "\n",
    "To start, you will have to pick a specific variable you want to examine. Take\n",
    "note that all of the wine qualities will be used in the plot, so you\n",
    "get a \"smeared\" wine quality.\n",
    "\n",
    "As a reminder, the independent variables are,\n",
    "\n",
    "'fixed acidity', 'volatile acidity', 'citric acid',\n",
    "'residual sugar', 'chlorides', 'free sulfur dioxide',\n",
    "'total sulfur dioxide', 'density', 'pH', 'sulphates',\n",
    "'alcohol'"
   ]
  },
  {
   "cell_type": "code",
   "execution_count": null,
   "metadata": {},
   "outputs": [],
   "source": [
    "sns.kdeplot(wine_set['citric acid'], label='citric acid', shade=True)"
   ]
  },
  {
   "cell_type": "markdown",
   "metadata": {},
   "source": [
    "If you want to create a KDE using all of the wine qualities you can use\n",
    "the code below."
   ]
  },
  {
   "cell_type": "code",
   "execution_count": null,
   "metadata": {},
   "outputs": [],
   "source": [
    "fig = plt.figure(figsize=(10,8))\n",
    "title = fig.suptitle(\"Sulphates Content in Wine\", fontsize=14)\n",
    "fig.subplots_adjust(top=0.93, wspace=0.3)\n",
    "\n",
    "ax = fig.add_subplot(1,1,1)\n",
    "ax.set_xlabel(\"Sulphates\")\n",
    "ax.set_ylabel(\"Frequency\") \n",
    "\n",
    "g = sns.FacetGrid(data=wine_set, hue='quality') \n",
    "\n",
    "g.map(sns.kdeplot, 'sulphates', ax=ax, shade=True)\n",
    "\n",
    "ax.legend(title='Wine Type')\n",
    "plt.close(2)"
   ]
  },
  {
   "cell_type": "markdown",
   "metadata": {},
   "source": [
    "You can also use a \"distplot\" instead of a KDE plot using the previous code.\n",
    "This type of plot will create both a histogram and a KDE plot. It also does\n",
    "it for each wine quality (dependent variable).\n",
    "\n",
    "Below is an example of the plot using <tt>sulphates</tt> as the independent\n",
    "variable."
   ]
  },
  {
   "cell_type": "code",
   "execution_count": null,
   "metadata": {},
   "outputs": [],
   "source": [
    "fig = plt.figure(figsize=(10,8))\n",
    "title = fig.suptitle(\"Sulphates Content in Wine\", fontsize=14)\n",
    "fig.subplots_adjust(top=0.93, wspace=0.3)\n",
    "\n",
    "ax = fig.add_subplot(1,1,1)\n",
    "ax.set_xlabel(\"Sulphates\")\n",
    "ax.set_ylabel(\"Frequency\") \n",
    "\n",
    "g = sns.FacetGrid(data=wine_set, hue='quality',) \n",
    "\n",
    "g.map(sns.distplot, 'sulphates', ax=ax)\n",
    "\n",
    "ax.legend(title='Wine Type')\n",
    "plt.close(2)"
   ]
  },
  {
   "cell_type": "markdown",
   "metadata": {},
   "source": [
    "<a id='Pairplots off-diagonal - Second'></a>\n",
    "#### 2.5.4.2 Reproducing On-Diagonal Pairplot\n",
    "\n",
    "You can also reproduce an \"off-diagonal\" plot using a couple of\n",
    "options."
   ]
  },
  {
   "cell_type": "markdown",
   "metadata": {},
   "source": [
    "The first approach just uses the <tt>pairplot</tt> method again\n",
    "but specifies the two variables to be used.\n",
    "\n",
    "When using this method, you would normally get 4 plots, 2 for the\n",
    "diagonals and 2 for the off-diagonals. However, the matrix of\n",
    "plot is symmetric so to make it easier to read we can tell <tt>pairplo</tt>\n",
    "to only use the lower diagonal. This eliminates the \"upper\"\n",
    "diagonal plot (it can make the plots easier to read).\n",
    "\n",
    "An example using <tt>pH</tt> and <tt>alcohol</tt> would be:\n",
    "\n",
    "<tt>sns.pairplot(wine_set, hue='quality', vars=['pH', 'alcohol'], corner=True, height=3)</tt>\n",
    "\n",
    "The cell below creates the plot."
   ]
  },
  {
   "cell_type": "code",
   "execution_count": null,
   "metadata": {},
   "outputs": [],
   "source": [
    "sns.set_style('whitegrid')\n",
    "sns.pairplot(wine_set, hue='quality', vars=['pH', 'alcohol'], corner=True, height=3)\n",
    "plt.show()"
   ]
  },
  {
   "cell_type": "markdown",
   "metadata": {},
   "source": [
    "What information can you gather from the plots particularly\n",
    "the off-diagonal plot?"
   ]
  },
  {
   "cell_type": "markdown",
   "metadata": {},
   "source": [
    "Another option for re-producing the off-diagonal plot is to just\n",
    "use a scatterplot() method. In Seaborn, we can use <tt>facetgrid</tt>\n",
    "along with the Matplotlib's <tt>scatter</tt> method. Overall this\n",
    "produces a nicer plot than just using matplotlib."
   ]
  },
  {
   "cell_type": "code",
   "execution_count": null,
   "metadata": {},
   "outputs": [],
   "source": [
    "# As a reminder, the variable names are:\n",
    "# ['fixed acidity', 'volatile acidity', 'citric acid',\n",
    "# 'residual sugar', 'chlorides', 'free sulfur dioxide',\n",
    "# 'total sulfur dioxide', 'density', 'pH', 'sulphates',\n",
    "# 'alcohol']\n",
    "\n",
    "sns.set_style('whitegrid');\n",
    "sns.FacetGrid(wine_set,hue='quality',height=5).map(plt.scatter, 'pH','alcohol').add_legend();\n",
    "plt.show();"
   ]
  },
  {
   "cell_type": "markdown",
   "metadata": {},
   "source": [
    "<a id='Factorplots - Second'></a>\n",
    "### 2.5.5 Factorplots (Dependent Variable vs. Independent Variables)\n",
    "\n",
    "At a high-level, factorplots make it easy to separate plots by categorical classes.\n",
    "\n",
    "The graphics/statistics library, Seaborn has the ability to easily build conditional\n",
    "plots of which factor plots are one. This lets us see what the data looks like when\n",
    "segmented by one or more variables. The easiest way to do this is\n",
    "through a method named, \"factorplot\".\n",
    "\n",
    "As an example, let's plot the alcohol percent on the y-axis and the wine\n",
    "quality on the x-axis.\n",
    "\n",
    "Notice that the function has been renamed to \"catplot\". I have no idea why (factorplot\n",
    "was much more understandable)"
   ]
  },
  {
   "cell_type": "code",
   "execution_count": null,
   "metadata": {},
   "outputs": [],
   "source": [
    "# As a reminder, the variable names are:\n",
    "# ['fixed acidity', 'volatile acidity', 'citric acid',\n",
    "# 'residual sugar', 'chlorides', 'free sulfur dioxide',\n",
    "# 'total sulfur dioxide', 'density', 'pH', 'sulphates',\n",
    "# 'alcohol']\n",
    "import seaborn as sns\n",
    "\n",
    "sns.catplot(x=\"quality\", y=\"alcohol\", data=wine_set, kind=\"strip\")\n",
    "plt.xlabel(\"Quality level of wine, 0-10 scale\")\n",
    "plt.ylabel(\"Alcohol level in wine, % ABV\")\n",
    "\n",
    "plt.title(\"Alcohol percent in each level of red wine's quality\")\n",
    "plt.show()"
   ]
  },
  {
   "cell_type": "markdown",
   "metadata": {},
   "source": [
    "In the cell below, try some other simple 2D factorplots. Just be careful\n",
    "of the x-axis. Using wine quality on the x-axis produces some good information.\n",
    "Remember the independent variables you can use are:\n",
    "\n",
    "1. fixed acidity\n",
    "2. volatile acidity\n",
    "3. citric acid\n",
    "4. residual sugar\n",
    "5. chlorides\n",
    "6. free sulfur dioxide\n",
    "7. total sulfur dioxide\n",
    "8. density\n",
    "9. pH\n",
    "10. sulphates\n",
    "11. alcohol\n",
    "\n",
    "Be sure you leave spaces in the appropriate names :)"
   ]
  },
  {
   "cell_type": "code",
   "execution_count": null,
   "metadata": {},
   "outputs": [],
   "source": [
    "import seaborn as sns\n",
    "\n",
    "sns.catplot(x=\"quality\", y=\"residual sugar\", data=wine_set, kind=\"strip\")\n",
    "plt.xlabel(\"quality\")\n",
    "plt.ylabel(\"residual sugar\")\n",
    "\n",
    "plt.title(\"Residual sugar in each level of red wine's quality\")\n",
    "plt.show()"
   ]
  },
  {
   "cell_type": "markdown",
   "metadata": {},
   "source": [
    "Notice the \"scatter\" for a specific wine quality (dependent variable) as a\n",
    "function of reduced sugar (independent variable). \n",
    "\n",
    "Try some other independent variables (you will be surprised at what you will\n",
    "find)."
   ]
  },
  {
   "cell_type": "markdown",
   "metadata": {},
   "source": [
    "<a id='Correlation - Second'></a>\n",
    "## 2.6 Correlation of Features\n",
    "\n",
    "In general, <a href=\"https://en.wikipedia.org/wiki/Correlation_and_dependence\">correlation</a>\n",
    "is any statistical relationship between two variables (it can be causal or not). Most commonly,\n",
    "it refers to the degree to which a pair of variables are <strong>linearly</strong> related.\n",
    "They can be very useful because they can indicate a <em>predictive relationship</em> that can\n",
    "be used in practice.\n",
    "\n",
    "Just remember that correlation is not sufficient to infer a causal relationship\n",
    "(i.e. \"correlation doesn't mean causation\").\n",
    "\n",
    "Classically, the correlation coefficient used most often is the\n",
    "<a href=\"https://en.wikipedia.org/wiki/Pearson_correlation_coefficient\">the Pearson Product-Moment Correlation Coefficient</a> (PPMCC), or \"Pearson's correlation coefficient\".\n",
    "It is sensitive to linear relationships between two variables. \n",
    "\n",
    "The Pearson Coefficient has values starting with -1 and going to +1. A value of +1 means\n",
    "the variables have total positive linear correlation (as one variable increases in values,\n",
    "the other variable increases in value). A value of -1 means there is total negative linear\n",
    "correlation (as one variable increases, the other variable decreases). A value of 0\n",
    "indicates there is no linear correlation between the two variables. \n",
    "\n",
    "The previous plots are created using a method in Pandas, <tt>plotting.scatter_matrix</tt>,\n",
    "to look for patterns in the data. As you have probably noticed, a large number of plots were\n",
    "created using this approach. For an even a larger number of variables, it becomes very, very\n",
    "difficult to find patterns using this technique. \n",
    "\n",
    "Correlation plots provide a simpler visualization representation of how the variables are\n",
    "related (or not). The Seaborn library can easily compute and create correlation plots.\n",
    "\n",
    "\n",
    "<strong>References</strong>:\n",
    "\n",
    "1. <a href=\"https://pandas.pydata.org/pandas-docs/stable/reference/api/pandas.DataFrame.corr.html\">PANDAS correlation</a>"
   ]
  },
  {
   "cell_type": "markdown",
   "metadata": {},
   "source": [
    "<a id='Heatmap - Second'></a>\n",
    "### 2.6.1 HeatMap\n",
    "\n",
    "A good way to look correlations is to use a <a href=\"https://en.wikipedia.org/wiki/Heat_map\">heatmap</a>.\n",
    "A heatmap is a plot where the colors in the matrix correspond to the values. In our case, the color of\n",
    "the cells in the matrix are colored to match the correlation. Compare this to the pairplots in the previous\n",
    "section which were a matrix of plots. Heatmaps are much easier to read and interpret.\n",
    "\n",
    "For this chart, the correlations are first computed using a Pandas method (<tt>wine_set.corr()</tt>).\n",
    "These are then plotted in a heatmap using Seaborn. Seaborn uses the method\n",
    "<a href=\"https://seaborn.pydata.org/generated/seaborn.heatmap.html\"><tt>heatmap()<tt></a>\n",
    "for the plot."
   ]
  },
  {
   "cell_type": "code",
   "execution_count": null,
   "metadata": {},
   "outputs": [],
   "source": [
    "import seaborn as sns\n",
    "\n",
    "correlation = wine_set.corr()\n",
    "plt.figure(figsize=(14, 12))\n",
    "heatmap = sns.heatmap(correlation, annot=True, linewidths=0, vmin=-1, cmap=\"RdBu_r\")"
   ]
  },
  {
   "cell_type": "markdown",
   "metadata": {},
   "source": [
    "The heatmap plots the correlation between two variables over the range of variables,\n",
    "independent and dependent. Since there are 12 variables, you will get 144 squares\n",
    "(12 x 12). These include 11 independent variables and 1 dependent variable\n",
    "\n",
    "The the squares with positive values show direct linear correlation between\n",
    "features. That is, if one feature increases, the other one increases. The larger the\n",
    "value, the stronger the relationship. These squares will be more reddish and tend\n",
    "toward a value of 1.0\n",
    "\n",
    "The diagonal squares will always appear as dark red with a correlation of 1. This is\n",
    "expected since the two variables are the same.\n",
    "\n",
    "You can use the color map that is a vertical bar to the right of the heatmap. This can\n",
    "help you identify interesting values of correlation.\n",
    "\n",
    "The squares that have negative values show strong linear correlation but the\n",
    "relationship is the inverse. That is, as the value of one feature increases, the\n",
    "value of the other one reduces. These squares appear more blue.\n",
    "\n",
    "Finally, squares with a close to zero value appear as white. These indicate that there\n",
    "is almost no correlation between those two variables.\n",
    "\n",
    "Notice that the matrix is symmetric. This means it is independent of the order of the\n",
    "two variables. Therefore you can look at the lower section of the matrix (below the\n",
    "diagonal) or he upper part of the matrix (above the diagonal). \n",
    "\n",
    "A great way to understand your data is to look for large positive correlations,\n",
    "large negative correlations, and correlations that are close to zero. Noting\n",
    "these trends can greatly help in understanding your data set.\n",
    "\n",
    "It can also help when you develop predictive models of the data set. You can use these\n",
    "general trends to understand the models. If you change one independent variable do\n",
    "see a trend from the model that matches the trend from the heatmap.\n",
    "\n",
    "One last comment - if you have a very large number of variables, the heatmap may be\n",
    "difficult to visualize. You may have to use the values computed by Pandas to look\n",
    "for the correlation values of interest."
   ]
  },
  {
   "cell_type": "markdown",
   "metadata": {},
   "source": [
    "Looking at the heatmap there are several correlation values that might be\n",
    "interesting. We can take a closer look at these in the next sub-section."
   ]
  },
  {
   "cell_type": "markdown",
   "metadata": {},
   "source": [
    "<a id='Detailed Correlation - Second'></a>\n",
    "### 2.7 Detailed Examination of Correlations\n",
    "\n",
    "This sub-section builds on the previous section but focuses on a particular pair of\n",
    "variables. This allows you to get a more detailed examination of the data. It\n",
    "can also help with identifying correlations that may be of interest.\n",
    "\n",
    "For the examination let's use a nice plotting routine in Seaborn called,\n",
    "<a href=\"https://seaborn.pydata.org/generated/seaborn.regplot.html\"><tt>regplot</tt></a>.\n",
    "It does a couple of really nice things for us:\n",
    "\n",
    "1. It creates a scatter plot of the two variables for all of the wine qualities\n",
    "(dependent variable).\n",
    "\n",
    "2. It will perform a linear regression using the two variables. This can be\n",
    "extremely advantageous since it shows the correlation relation. Using this\n",
    "with the scatter plot can give us an idea of what portions of the data are\n",
    "driving the correlation.\n"
   ]
  },
  {
   "cell_type": "markdown",
   "metadata": {},
   "source": [
    "<a id='Examination One - Second'></a>\n",
    "#### 2.7.1 pH and Fixed Acidity\n",
    "\n",
    "The first variable combination is pH and fixed acidity. In the heatmap it had\n",
    "a value of -0.68 (fairly large negative linear correlation). This should give\n",
    "us a plot that is down and to the right (increase in one variable decreases\n",
    "the other variable value).\n",
    "\n",
    "Note that this plot is actually a Seaborn <tt>regplot</tt> and a <tt>distplot</tt>\n",
    "put together. The method <tt>regplot</tt> is the central scatter plot with the\n",
    "regression line. The method <tt>distplot</tt> creates a histogram with a line\n",
    "over the bars that is the KDE (Kernel Density Estimation) for each dependent\n",
    "variable. The top histogram will be for the x-axis variable, and the histogram\n",
    "on the right will be for the y-axis variable."
   ]
  },
  {
   "cell_type": "code",
   "execution_count": null,
   "metadata": {},
   "outputs": [],
   "source": [
    "import seaborn as sns\n",
    "\n",
    "# Visualize the co-relation between pH and fixed Acidity\n",
    "\n",
    "# Create a new dataframe containing only pH and fixed acidity columns to visualize their co-relations\n",
    "fixedAcidity_pH = wine_set[['pH', 'fixed acidity']]\n",
    "\n",
    "# Initialize a joint-grid with the dataframe, using seaborn library\n",
    "gridA = sns.JointGrid(x=\"fixed acidity\", y=\"pH\", data=fixedAcidity_pH, height=6)\n",
    "\n",
    "# Draws a regression plot in the grid \n",
    "gridA = gridA.plot_joint(sns.regplot, scatter_kws={\"s\": 10})\n",
    "\n",
    "# Draws a distribution plot in the same grid\n",
    "gridA = gridA.plot_marginals(sns.distplot)"
   ]
  },
  {
   "cell_type": "markdown",
   "metadata": {},
   "source": [
    "It's probably difficult to see in the plot, but the function <tt><u>regplot</u></tt> creates\n",
    "the scatter plot and the linear regression fit. This includes all wine qualities, and\n",
    "also a 95% confidence interval (it may be difficult to see). It's a very small \"shadow\"\n",
    "around the regression line.\n",
    "\n",
    "Use the histograms to compare to the location of the largest concentration of data points.\n",
    "Do the histograms capture this concentration?\n",
    "\n",
    "What sort of things can you observe from this plot?\n",
    "\n",
    "If you want to get rid of the histograms, you can use the \n",
    "<a href=\"https://seaborn.pydata.org/generated/seaborn.lmplot.html\"><tt>lmplot</u></tt> command\n",
    "instead of <tt>regplot</tt>."
   ]
  },
  {
   "cell_type": "code",
   "execution_count": null,
   "metadata": {},
   "outputs": [],
   "source": [
    "sns.lmplot(x=\"fixed acidity\", y=\"pH\", data=wine_set)"
   ]
  },
  {
   "cell_type": "markdown",
   "metadata": {},
   "source": [
    "You can also use <tt>lmplot</tt> to plot a linear regression for every\n",
    "wine quality. You just add the <tt>hue</tt> option as below."
   ]
  },
  {
   "cell_type": "code",
   "execution_count": null,
   "metadata": {},
   "outputs": [],
   "source": [
    "sns.lmplot(x=\"fixed acidity\", y=\"pH\", data=wine_set, hue=\"quality\")"
   ]
  },
  {
   "cell_type": "markdown",
   "metadata": {},
   "source": [
    "I find this type of plot to be useful when the dependent variables is an\n",
    "integer. You can compare the regressions to see if a certain wine quality\n",
    "is driving the overall regression in the previous plot. "
   ]
  },
  {
   "cell_type": "markdown",
   "metadata": {},
   "source": [
    "<a id='Examination Two - Second'></a>\n",
    "#### 2.7.2 Fixed Acidity and Citric Acid</strong>\n",
    "\n",
    "The next plot is of fixed acidity and Citric Acid. In the heatmap it had a\n",
    "positive value, but not a really dark color of red. The relationship between\n",
    "these variables should be up and to the right."
   ]
  },
  {
   "cell_type": "code",
   "execution_count": null,
   "metadata": {},
   "outputs": [],
   "source": [
    "import seaborn as sns\n",
    "\n",
    "fixedAcidity_citricAcid = wine_set[['citric acid', 'fixed acidity']]\n",
    "g = sns.JointGrid(x=\"fixed acidity\", y=\"citric acid\", data=fixedAcidity_citricAcid, height=6)\n",
    "g = g.plot_joint(sns.regplot, scatter_kws={\"s\": 10})\n",
    "g = g.plot_marginals(sns.distplot)"
   ]
  },
  {
   "cell_type": "markdown",
   "metadata": {},
   "source": [
    "The next plot focuses on the scatter plot with the regression curve."
   ]
  },
  {
   "cell_type": "code",
   "execution_count": null,
   "metadata": {},
   "outputs": [],
   "source": [
    "sns.lmplot(x=\"citric acid\", y=\"fixed acidity\", data=wine_set)"
   ]
  },
  {
   "cell_type": "markdown",
   "metadata": {},
   "source": [
    "There seems to be a lot of dispersion in the data although the confidence\n",
    "interval is fairly small. Remember that the regression line is for all\n",
    "values of wine quality.\n",
    "\n",
    "Let's also do a plot with a regression for each wine quality (each one\n",
    "is a different color)."
   ]
  },
  {
   "cell_type": "code",
   "execution_count": null,
   "metadata": {},
   "outputs": [],
   "source": [
    "sns.lmplot(x=\"citric acid\", y=\"fixed acidity\", data=wine_set, hue=\"quality\")"
   ]
  },
  {
   "cell_type": "markdown",
   "metadata": {},
   "source": [
    "It's advisable to examine the data using the same set of correlation\n",
    "plots. Remember the variables you can use are:\n",
    "\n",
    "1. fixed acidity\n",
    "2. volatile acidity\n",
    "3. citric acid\n",
    "4. residual sugar\n",
    "5. chlorides\n",
    "6. free sulfur dioxide\n",
    "7. total sulfur dioxide\n",
    "8. density\n",
    "9. pH\n",
    "10. sulphates\n",
    "11. alcohol\n",
    "\n",
    "Be sure you leave spaces in the appropriate names :)\n",
    "    \n",
    "You probably can't do this for all variable combinations but examine the\n",
    "seemingly dominant variables. "
   ]
  },
  {
   "cell_type": "markdown",
   "metadata": {},
   "source": [
    "<strong>Important:</strong> It helps to remember that co-relation does not always\n",
    "imply causation. Sometimes when you plot graphs for two features, it might show you \n",
    "a pattern which might just be a co-incidence. "
   ]
  },
  {
   "cell_type": "markdown",
   "metadata": {},
   "source": [
    "<a id='Outlier - Second'></a>\n",
    "## 2.8 Outlier Detection\n",
    "\n",
    "Anomaly detection, also called outlier detection, is the identification of rare items,\n",
    "events or observations which raise suspicions by significantly differing from the majority\n",
    "of the data. A simple example is below."
   ]
  },
  {
   "attachments": {
    "1_J-ds9KYQBheiBaIJn78seg.gif": {
     "image/gif": "[encoded data removed]"
    }
   },
   "cell_type": "markdown",
   "metadata": {},
   "source": [
    "![1_J-ds9KYQBheiBaIJn78seg.gif](attachment:1_J-ds9KYQBheiBaIJn78seg.gif)"
   ]
  },
  {
   "cell_type": "markdown",
   "metadata": {},
   "source": [
    "We look for possible outliers in our data so that any data analysis won't be skewed by\n",
    "these outliers.\n",
    "\n",
    "An outlier analysis wasn't done for the previous data set (it was designed to get the\n",
    "basics done) even though that data set had more data points. This data set, the wine\n",
    "quality data set, has more independent variables so finding outliers may be a more\n",
    "difficult process, hence this topic is relevant."
   ]
  },
  {
   "cell_type": "markdown",
   "metadata": {},
   "source": [
    "<a id='Outlier Visualization - Second'></a>\n",
    "### 2.8.1 Visualization Methods\n",
    "\n",
    "Probably the simplest way to look for outliers is to create scatter plots and\n",
    "look for data points that seem to not belong to the data set as you can see in\n",
    "the previous plot. This is simple for 2D data.\n",
    "\n",
    "<strong>Ref</strong>:\n",
    "    \n",
    "1. <a href=\"https://medium.com/datadriveninvestor/finding-outliers-in-dataset-using-python-efc3fce6ce32\">Finding Outliers</a>\n",
    "\n",
    "2. <a href=\"https://github.com/arshren/MachineLearning/blob/master/Identifying%20outliers.ipynb\">Identifying Outliers</a>"
   ]
  },
  {
   "cell_type": "markdown",
   "metadata": {},
   "source": [
    "<a id='Outlier Visualization Scatter - Second'></a>\n",
    "#### 2.8.1.1 Scatter Plot\n",
    "\n",
    "A very simple and easy visualization chart to use is a simeple scatter plot. We've\n",
    "done these before but let's recreate the scatter plot for a pair of indepedent variables\n",
    "with an eye toward looking for data points that may be \"outliers\".\n",
    "\n",
    "This time let's use Seaborn to create the plot. Let's also set the \"hue\" of the wine\n",
    "qualities. \n",
    "\n",
    "<strong>Reference</strong>:\n",
    "<a href=\"https://towardsdatascience.com/ways-to-detect-and-remove-the-outliers-404d16608dba\">Scatter Plot</a>"
   ]
  },
  {
   "cell_type": "code",
   "execution_count": null,
   "metadata": {},
   "outputs": [],
   "source": [
    "# As a reminder, the variable names are:\n",
    "# ['fixed acidity', 'volatile acidity', 'citric acid',\n",
    "# 'residual sugar', 'chlorides', 'free sulfur dioxide',\n",
    "# 'total sulfur dioxide', 'density', 'pH', 'sulphates',\n",
    "# 'alcohol']\n",
    "\n",
    "# Use Seaborn to make scatter plot\n",
    "import seaborn as sns\n",
    "\n",
    "sns.scatterplot(x='fixed acidity', y='alcohol', hue='quality', palette=\"deep\", data=wine_set)"
   ]
  },
  {
   "cell_type": "markdown",
   "metadata": {},
   "source": [
    "Do you see any possible outliers with respect to these two variables?\n",
    "\n",
    "Try some other variables and see if you can detect any outliers You should\n",
    "see a number of points that might be outliers."
   ]
  },
  {
   "cell_type": "markdown",
   "metadata": {},
   "source": [
    "<a id='Outlier Visualization Box - Second'></a>\n",
    "#### 2.8.1.2 Box plot\n",
    "\n",
    "Another visual tool for finding outliers is called a <a href=\"https://en.wikipedia.org/wiki/Box_plot\">Box plot</a>\n",
    "These plots graphically depict groups of numerical data through their quartiles (e.g. 25%,\n",
    "50%, 75%). A box plot can be used to find outliers by simply plotting them as individual points.\n",
    "\n",
    "A sample box plot is shown below\n",
    "(<a href=\"https://towardsdatascience.com/understanding-boxplots-5e2df7bcbd51\">reference</a>)."
   ]
  },
  {
   "attachments": {
    "1_2c21SkzJMf3frPXPAR_gZA.png": {
     "image/png": "[encoded data removed]"
    }
   },
   "cell_type": "markdown",
   "metadata": {},
   "source": [
    "![1_2c21SkzJMf3frPXPAR_gZA.png](attachment:1_2c21SkzJMf3frPXPAR_gZA.png)"
   ]
  },
  {
   "cell_type": "markdown",
   "metadata": {},
   "source": [
    "There are a few pieces to this box plot. The box is centered on the median. The\n",
    "width of the box is from the Q1 (25% quartile) to Q3 (75% quartile). Then two lines are drawn from\n",
    "the box leading to the \"maximum\" which is <tt>Q3 + 1.5*IQR</tt>, and from the \"minimum\"\n",
    "which is <tt>Q1 - 1.5*IQR</tt>. Any points greater than the \"maximum\" or less than the\n",
    "minimum are considered \"outliers\" in this method.\n",
    "\n",
    "Box plots can be drawn either horizontally or vertically. The example above is drawn\n",
    "horizontally (the default with the Seaborn library)\n",
    "\n",
    "Box plots are non-parametric: they display variations in samples of a statistical\n",
    "population without making any assumptions of the underlying statistical distribution.\n",
    "The spacings between the different parts of the box indicate the degree of dispersion\n",
    "(spread), and skewness in the data, and show outliers.\n",
    "\n",
    "<strong>Refs</strong>:\n",
    "    \n",
    "1. <a href=\"https://towardsdatascience.com/ways-to-detect-and-remove-the-outliers-404d16608dba\">Ways to Detect and Remove the Outliers</a>\n",
    "\n",
    "2. <a href=\"https://cmdlinetips.com/2019/03/how-to-make-grouped-boxplots-in-python-with-seaborn\">How To Make Grouped Boxplots in Python with Seaborn?</a>\n",
    "\n",
    "3. <a href=\"https://en.wikipedia.org/wiki/Box_plot\">Box plots</a>\n",
    "\n",
    "\n",
    "Let's do a box plot for a single variable first - sulphates."
   ]
  },
  {
   "cell_type": "code",
   "execution_count": null,
   "metadata": {},
   "outputs": [],
   "source": [
    "# As a reminder, the variable names are:\n",
    "# ['fixed acidity', 'volatile acidity', 'citric acid',\n",
    "# 'residual sugar', 'chlorides', 'free sulfur dioxide',\n",
    "# 'total sulfur dioxide', 'density', 'pH', 'sulphates',\n",
    "# 'alcohol'])\n",
    "\n",
    "import seaborn as sns\n",
    "\n",
    "# Box plot \n",
    "sns.boxplot(y='sulphates', data=wine_set)"
   ]
  },
  {
   "cell_type": "markdown",
   "metadata": {},
   "source": [
    "In the plot, you can see the median line, Q3 and Q1, and\n",
    "the minimum and maximum lines. You can see that are a few variables outside\n",
    "the expected range (beyond the \"maximum\"). Some of them are fairly far away\n",
    "from the median value.\n",
    "\n",
    "For this case, the boxplot is for all values of wine quality (dependent variable).\n",
    "\n",
    "You can split out the wine qualitites into their own boxplot as below."
   ]
  },
  {
   "cell_type": "code",
   "execution_count": null,
   "metadata": {},
   "outputs": [],
   "source": [
    "# As a reminder, the variable names are:\n",
    "# ['fixed acidity', 'volatile acidity', 'citric acid',\n",
    "# 'residual sugar', 'chlorides', 'free sulfur dioxide',\n",
    "# 'total sulfur dioxide', 'density', 'pH', 'sulphates',\n",
    "# 'alcohol']\n",
    "\n",
    "import seaborn as sns\n",
    "\n",
    "# Box plot \n",
    "sns.boxplot(x='quality', y='sulphates', data=wine_set)"
   ]
  },
  {
   "cell_type": "markdown",
   "metadata": {},
   "source": [
    "This a set of box plots, one for each quality, plotting the y-axis with sulphates.\n",
    "What do you notice right away?"
   ]
  },
  {
   "cell_type": "markdown",
   "metadata": {},
   "source": [
    "<a id='Outlier Visualization Histogram - Second'></a>\n",
    "#### 2.8.1.3 Histogram\n",
    "\n",
    "Another visualization technique for finding outliers is simply creating a\n",
    "<a href=\"https://en.wikipedia.org/wiki/Histogram\">histogram</a>.\n",
    "\n",
    "A histogram is an accurate representation of the distribution of numerical data.\n",
    "To create one, the range of values are divided into a number of \"bins\". Then you\n",
    "count how many data set values fall into each bin. In general, the bins are\n",
    "consecutive and no overlapping.\n",
    "\n",
    "Let's try creating a simple histogram using the Seaborn method \n",
    "<a href=\"https://seaborn.pydata.org/generated/seaborn.distplot.html\">distplot</a>\n",
    "from the wine data set for \"citric acid\". Note that the Kernel Kernel Estimation\n",
    "(KDE) plot is dropped in this plot. Note that the plot uses all values of wine\n",
    "quality (dependent variable)."
   ]
  },
  {
   "cell_type": "code",
   "execution_count": null,
   "metadata": {},
   "outputs": [],
   "source": [
    "# As a reminder, the variable names are:\n",
    "# ['fixed acidity', 'volatile acidity', 'citric acid',\n",
    "# 'residual sugar', 'chlorides', 'free sulfur dioxide',\n",
    "# 'total sulfur dioxide', 'density', 'pH', 'sulphates',\n",
    "# 'alcohol'])\n",
    "\n",
    "# Use Seaborn to make scater plot\n",
    "import seaborn as sns\n",
    "\n",
    "sns.distplot(wine_set['citric acid'], bins=10, kde=False)"
   ]
  },
  {
   "cell_type": "markdown",
   "metadata": {},
   "source": [
    "The way to use histograms to look for outliers is to look for \"bins\" is to look\n",
    "for bins that are isolated from the other bins. An example of this, from\n",
    "<a href=\"https://statisticsbyjim.com/basics/outliers/\">this refererence</a>,\n",
    "illustrates how one could identify outliers using a histogram.\n",
    "\n",
    "Assume our histogram looks like the following.\n"
   ]
  },
  {
   "attachments": {
    "outlier_histogram.png": {
     "image/png": "[encoded data removed]"
    }
   },
   "cell_type": "markdown",
   "metadata": {},
   "source": [
    "![outlier_histogram.png](attachment:outlier_histogram.png)"
   ]
  },
  {
   "cell_type": "markdown",
   "metadata": {},
   "source": [
    "Notice the bin way out at 11.2 from the rest of the bins is \"isolated\". The bins\n",
    "immediately next to it are virtually zero. This could indicate that there are outlier\n",
    "values at a height of 11.2.\n",
    "\n",
    "To find isolated bins, we might have to use more \"bins\" to get a better idea of where the\n",
    "outliers are located (independent value). \n",
    "\n",
    "Let's try increasing the number of bins for the wine data set to 50."
   ]
  },
  {
   "cell_type": "code",
   "execution_count": null,
   "metadata": {},
   "outputs": [],
   "source": [
    "# As a reminder, the variable names are:\n",
    "# ['fixed acidity', 'volatile acidity', 'citric acid',\n",
    "# 'residual sugar', 'chlorides', 'free sulfur dioxide',\n",
    "# 'total sulfur dioxide', 'density', 'pH', 'sulphates',\n",
    "# 'alcohol']\n",
    "\n",
    "# Use Seaborn to make scater plot\n",
    "import seaborn as sns\n",
    "\n",
    "sns.distplot(wine_set['citric acid'], bins=50, kde=False)"
   ]
  },
  {
   "cell_type": "markdown",
   "metadata": {},
   "source": [
    "Observations?\n",
    "\n",
    "You should examine all of the independent variables (there are only 11). This\n",
    "can be done by creating the plots in a loop. In the cell below <tt>matplotlib</tt>\n",
    "was used to accomplish this task."
   ]
  },
  {
   "cell_type": "code",
   "execution_count": null,
   "metadata": {},
   "outputs": [],
   "source": [
    "import matplotlib.pyplot as plt\n",
    "\n",
    "%matplotlib inline\n",
    "variables = ['fixed acidity', 'volatile acidity', 'citric acid',\n",
    "'residual sugar', 'chlorides', 'free sulfur dioxide',\n",
    "'total sulfur dioxide', 'density', 'pH', 'sulphates',\n",
    "'alcohol']\n",
    "\n",
    "for var in variables:\n",
    "    junk = plt.hist(wine_set[var], bins=50);\n",
    "    plt.xlabel(var)\n",
    "    plt.ylabel('Frequency')\n",
    "    str1 = \"Histogram for \" + var\n",
    "    plt.title(str1)\n",
    "    plt.show()\n",
    "# end for\n"
   ]
  },
  {
   "cell_type": "markdown",
   "metadata": {},
   "source": [
    "Do you see any isolated bins for any variable?\n",
    "\n",
    "By the way, a good way to look for isolated bins if they have a small frequency,\n",
    "is to look for the range of values on the x-axis. If you see very small and very\n",
    "large values that don't appear to have bins, then there is likely to be an\n",
    "isolated bin there."
   ]
  },
  {
   "cell_type": "markdown",
   "metadata": {},
   "source": [
    "<a id='Outlier Visualization Summary - Second'></a>\n",
    "#### 2.8.2 Visualization Summary\n",
    "\n",
    "Visualization techniques for finding outliers utilizes your eyes and brain to\n",
    "find the existence of outliers if not the approximate values. However, \"finding\"\n",
    "them is only half the battle. You job is determine if they are truly outliers\n",
    "or not. More importantly, <strong>an outlier for one variable may be not be an outlier\n",
    "for another variable</strong>. Handing these situations is why people get paid the big\n",
    "bucks.\n",
    "\n",
    "Outlier techniques, even simple ones like creating a scatter-plot, can point out data\n",
    "points that are not necessarily outliers depending upon your perspective. The data\n",
    "scientist and the domain specialist working with the data, have to agree that the\n",
    "indicated data point(s) are actually outliers.\n",
    "\n",
    "Visualization is one of many techniques for outlier detection. Some of these\n",
    "techniques are heuristic (rule of thumb). But even these techniques produce\n",
    "outlier points that are subject to interpretation.\n",
    "\n",
    "Using visualization techniques is great for which independent variables might\n",
    "have outliers. If you have a reasonably large number of independent variables\n",
    "then it can be difficult to scan so many charts. For these situations, you\n",
    "will have to use some sort of computational method.\n"
   ]
  },
  {
   "cell_type": "markdown",
   "metadata": {},
   "source": [
    "<a id='Outlier Statistical - Second'></a>\n",
    "### 2.8.3 Statistical Methods\n",
    "\n",
    "The computation method we're going to use is a <em>statistical method</em>.\n",
    "We are going to focus on two techniques. The first is called <strong>Z-score</strong>\n",
    "because it uses a statistical measure called a Z-score to find outliers.\n",
    "\n",
    "The second technique, called <strong>Inter-Quartile Range</strong> or <strong>IQR</strong>,\n",
    "uses the quartile estimates (e.g. 25% quartile, 50%, 75%, etc.) to estimate when\n",
    "data points fall outside of an expected range. You saw it used in the box plots in a\n",
    "previous section."
   ]
  },
  {
   "cell_type": "markdown",
   "metadata": {},
   "source": [
    "<a id='Outlier Statistical Z-score - Second'></a>\n",
    "#### 2.8.3.1 Z-score\n",
    "\n",
    "An easy statistical method to first try is called the\n",
    "<a href=\"https://en.wikipedia.org/wiki/Standard_score\">Z-score</a>.\n",
    "The Z-score is a signed fractional number of standard deviations that a point is\n",
    "away from the mean value for each data point. If the data point is above the\n",
    "mean, then the Z-score will be positive. If the Z-score is below the mean, then\n",
    "it's negative.\n",
    "\n",
    "The equation below defines the Z scores."
   ]
  },
  {
   "attachments": {
    "z-score_equ.png": {
     "image/png": "[encoded data removed]"
    }
   },
   "cell_type": "markdown",
   "metadata": {},
   "source": [
    "![z-score_equ.png](attachment:z-score_equ.png)"
   ]
  },
  {
   "cell_type": "markdown",
   "metadata": {},
   "source": [
    "In this equation, \"X\" is the data point, \"mu\" is the mean, and \"sigma\" is \n",
    "the standard deviation. Note that the Z-score is dimensionless.\n",
    "\n",
    "The larger the value of the Z-score, the further the data point is from\n",
    "the more unusual it is. This could indicate that it is an outlier. At the\n",
    "very least the data point should be checked before discarding the data point.\n",
    "\n",
    "Z-scores sound great but as with any statistically measure there can be\n",
    "issues or limitations. Z-scores can be misleading for small data sets because\n",
    "the maximum Z-score is limited to (n−1) / √ n.\n",
    "<a href=\"https://statisticsbyjim.com/basics/outliers/\">reference</a>.\n",
    "For example, when n=2, the maximum possible Z-score is 0.707. When n=10, the\n",
    "maximum possible Z-score is 2.846. When n=10,000 the maximum Z-score is\n",
    "99.99.\n",
    "\n",
    "To find outliers, you compute the Z-Score for all data points in the\n",
    "data set are candidate outliers Computing the Z-scores is done for each\n",
    "variable (i.e. 5 variables, 5 Z-scores per data point).\n",
    "\n",
    "Next you can search through the Z-scores looking for possible outliers.\n",
    "You can set a \"limit\" to an acceptable Z-score and then collect all data\n",
    "points that \"violate\" this score for any of the independent variables.\n",
    "Don't forget that the Z-score can be negative so you could just search for\n",
    "the absolute value of the Z-score.\n",
    "\n",
    "With this list of data points you can start to make decisions about keeping\n",
    "data points or not. Visualization of these data points could prove to be\n",
    "useful (perhaps plot each variable, one at a time?)\n",
    "                                         \n",
    "To get started, let's compute the Z-scores for all the points in the Wine\n",
    "Data set for \"pH\" (the independent variable)."
   ]
  },
  {
   "cell_type": "code",
   "execution_count": null,
   "metadata": {},
   "outputs": [],
   "source": [
    "# As a reminder, the variable names are:\n",
    "# ['fixed acidity', 'volatile acidity', 'citric acid',\n",
    "# 'residual sugar', 'chlorides', 'free sulfur dioxide',\n",
    "# 'total sulfur dioxide', 'density', 'pH', 'sulphates',\n",
    "# 'alcohol']\n",
    "\n",
    "# Define variable and storage mean and standar deviation.\n",
    "test_set = wine_set[\"pH\"]\n",
    "test_mean = test_set.mean()\n",
    "test_std_dev = test_set.std()\n",
    "\n",
    "bounds = 3;  # Number of standard deviations to define an outlier\n",
    "             # You can vary this parameter. Smaller means more\n",
    "             # outlier points, larger means fewer outlier points.\n",
    "\n",
    "# Loop over data set, compute the Z-scores and ad Outliers to\n",
    "# a list\n",
    "outliers = []\n",
    "for x in test_set:\n",
    "    z_score=(x - test_mean)/test_std_dev\n",
    "    if (np.abs(z_score) > bounds):\n",
    "        outliers.append(x)\n",
    "    #end if\n",
    "# end for\n",
    "\n",
    "print(\"Mean = \",test_mean)\n",
    "print(\"Standard Deviation = \",test_std_dev)\n",
    "print(\" \")\n",
    "print(\"Number of outliers = \",len(outliers))\n",
    "print(outliers)"
   ]
  },
  {
   "cell_type": "markdown",
   "metadata": {},
   "source": [
    "The cell computes the mean for that variable for all wine qualities\n",
    "(dependent variable). It also computes the standard deviation.\n",
    "\n",
    "Then it loops over all data points, computes the Z-score, and then\n",
    "determines if the data point is an outlier by comparing the absolute\n",
    "value to a Z-score bounds (variable=\"bounds\"). The cell stores the\n",
    "possible outlier Z-scores in a list.\n",
    "\n",
    "In this simple example, the value of pH and the wine quality was\n",
    "not stored. This can be easily corrected with a little coding.\n",
    "\n",
    "In addition, an abs(Z-score) of 3 was arbitrarily chosen as the cutoff\n",
    "for an outlier. You can whatever you like (or need). You might even\n",
    "experiment with various values to see how many outliers are found.\n",
    "\n",
    "As a reference, for standard distributions, the following percentiles are true:\n",
    "\n",
    "1x Standard Deviation from the Mean: 68%\n",
    "2x Standard Deviations from the Mean: 95%\n",
    "3x Standard Deviations from the Mean: 99.7%\n",
    "\n",
    "So one standard deviation (Z-score = 1) will contain 68% of the data. Two standard\n",
    "deviations (Z-score = 2), 95%. And three stand deviations (Z-score = 3), 99.7%.\n",
    "Arbitrarily picking these scores means that we are trying to container 99.7% of the data.\n",
    "\n",
    "A difficult aspect of Z-scores is to to select a Z-score where the data point is\n",
    "considered an outlier. Is it abs(3 * sigma) as it is in this example? Is it\n",
    "abs(5 * sigma)?\n",
    "\n",
    "Another difficulty is how do you determine a data point to be an outlier\n",
    "when it is an outlier for only one independent variable? What if it is\n",
    "not an outlier with respect to all of the other independent variables?\n",
    "Is it still an outlier? Should it be dropped from the data set?\n",
    "\n",
    "Similarly, what do you if it's an outlier for two independent variables?\n",
    "Should it be excluded then? What is the \"best\" number of variables is a\n",
    "data point an outlier before it should be excluded, if it is to be excluded?\n",
    "\n",
    "Let's explore some of these ideas. Let's modify the code to look for outlier\n",
    "points for two independent variables. That is, the data point is considered an\n",
    "outlier if it is an outlier for <strong>both</strong> variables. For the\n",
    "sake of argument let's continue to say that a Z-score greater than 3 will\n",
    "indicate that the data point is an outlier. This will be true for both variables.\n",
    "\n",
    "To give a little extra information, a plot of the outlier points is laid on top\n",
    "of a scatter plots of the two independent variables for all wine qualities."
   ]
  },
  {
   "cell_type": "code",
   "execution_count": null,
   "metadata": {},
   "outputs": [],
   "source": [
    "# variable names\n",
    "# [fixed acidity', 'volatile acidity', 'citric acid',\n",
    "# 'residual sugar', 'chlorides', 'free sulfur dioxide',\n",
    "# 'total sulfur dioxide', 'density', 'pH', 'sulphates',\n",
    "# 'alcohol']\n",
    "import matplotlib.pyplot as plt\n",
    "\n",
    "\n",
    "%matplotlib inline\n",
    "x_set = wine_set[\"residual sugar\"]\n",
    "y_set = wine_set['pH']\n",
    "x_mean = x_set.mean()\n",
    "x_std = x_set.std()\n",
    "y_mean = y_set.mean()\n",
    "y_std = y_set.std()\n",
    "\n",
    "bounds = 3;  # Number of standard deviations to define an outlier\n",
    "             # You can vary this parameter. Smaller means more\n",
    "             # outlier points, larger means fewer outlier points.\n",
    "\n",
    "outliers_x = []\n",
    "outliers_y = []\n",
    "for x in x_set:\n",
    "    z_score1=(x - x_mean)/x_std\n",
    "    for y in y_set:\n",
    "        z_score2=(y - y_mean)/y_std\n",
    "        if (np.abs(z_score2) > bounds) and (np.abs(z_score1 > bounds ) ):\n",
    "            outliers_x.append(x)\n",
    "            outliers_y.append(y)\n",
    "        #end if\n",
    "    # end for\n",
    "# end for\n",
    "\n",
    "print(\"Number of outliers = \",len(outliers_x))\n",
    "\n",
    "plt.scatter(x=x_set, y=y_set, c= 'yellow')\n",
    "plt.scatter(x=outliers_x, y=outliers_y, c='black', marker='x' )\n",
    "plt.xlabel('Residual Sugar')\n",
    "plt.ylabel('pH')\n",
    "plt.title('Possible outliers for Residual Sugar and pH')\n",
    "plt.show()"
   ]
  },
  {
   "cell_type": "markdown",
   "metadata": {},
   "source": [
    "The code is a bit crude in that it's just a set of nested loops but you get\n",
    "the idea. \n",
    "\n",
    "Do you think these points are outliers for both variables?\n",
    "\n",
    "In this example, the data point was considered an outlier if it was an outlier\n",
    "for both measures. But we have 11 variables in the data set (much more than two).\n",
    "We could write 11 nested loops to find the data points that are outliers for\n",
    "the data set using a specified Z-score bounds, but this takes work and time. \n",
    "\n",
    "It is difficult to find outliers for multi-variable data sets, isn't it?\n",
    "Is it easy to find data points that is an outlier for every variable? If you cannot,\n",
    "do you exclude the data point if it is only an outlier for a <em>subset</em> of\n",
    "the variables? Which subset?\n",
    "\n",
    "Furthermore, if you find data point(s) that appear to be outliers, how can you be\n",
    "sure they are really outliers and not actual data? The outlier data points may\n",
    "represent real data points, especially in areas where there aren't that many data\n",
    "points.\n",
    "\n",
    "For our wine data set, we found that the majority of the data points were\n",
    "clustered together around a quality rating of 4 and 5. There weren't\n",
    "many data points with qualities above these ratings or below. An outlier\n",
    "analysis may flag wines with low quality and high quality as being\n",
    "outliers, but they are not really outliers. There just isn't that much\n",
    "data in that range of wine qualities."
   ]
  },
  {
   "cell_type": "markdown",
   "metadata": {},
   "source": [
    "<a id='Outlier Statistical IQR - Second'></a>\n",
    "#### 2.8.3.2 IQR method for outliers\n",
    "\n",
    "This method, also called the \"Turkey method\", named after John Turkey (not the\n",
    "turkeys from the WKRP Thanksgiving special).  It uses a metric called \n",
    "<a href=\"https://en.wikipedia.org/wiki/Interquartile_range\">IQR (Interquartile Range)</a>.\n",
    "IQR is Q1 subtracted from Q3. Q1 is the first quartile or 25%, and Q3 is the\n",
    "third quartile or 75%. \n",
    "\n",
    "\n",
    "Interquartile Range = Q3 -Q1\n",
    "\n",
    "\n",
    "The 25th percentile is the value (or score) below which 25% of the observations\n",
    "(data points) may be found. The same thing is true for the 75% percentile except\n",
    "that it's for the 75% percentile.\n",
    "\n",
    "The IQR covers the middle 50% of the data. It can be used as a measure of variability\n",
    "in the data by looking outside of the IQR range.\n",
    "\n",
    "The IQR outlier method extends the \"main\" region beyond the 50% middle region\n",
    "to include an estimate of the \"acceptable\" range. Any data outside the fences\n",
    "is considered an outlier. In this regard it is similiar to Z-score. Any data\n",
    "outside of the bounds is considered an outlier. A difference is that the factors\n",
    "that go into defining the bounds is a fixed number whereas for Z-score it is up to\n",
    "you to define that factor.\n",
    "\n",
    "The bounds are computed using the following equations.\n",
    "\n",
    "<strong>Lower bound: Q1</strong> − 1.5 * IQR\n",
    "\n",
    "\n",
    "<strong>Upper bound: Q3</strong> + 1.5 * IQR\n",
    "        \n",
    "Any data point that falls below the lower bound is considered an outlier or\n",
    "any data point falls above the upper bound is considered an outlier.\n",
    "\n",
    "\n",
    "\n",
    "<strong>References</strong>:\n",
    "\n",
    "1. <a href=\"https://en.wikipedia.org/wiki/Interquartile_range\">Wikipedia</a>\n",
    "    \n",
    "2. <a href=\"https://statisticsbyjim.com/basics/outliers/\">5 Ways to Find Outliers in Your Data</a>\n",
    "\n",
    "3. <a href=\"https://medium.com/@davidnh8/outlier-detection-101-median-and-interquartile-range-cc9dde94c0ac\">Outlier detection 101: Median and Interquartile range</a>\n",
    "\n",
    "4. <a href=\"http://sphweb.bumc.bu.edu/otlt/MPH-Modules/BS/BS704_SummarizingData/BS704_SummarizingData7.html:>InterQuartile Range (IQR)</a>"
   ]
  },
  {
   "cell_type": "markdown",
   "metadata": {},
   "source": [
    "The code below computes the outliers using the IQR method. It loops over the data set\n",
    "variables computing the lower and upper bounds. It then finds data points that outside\n",
    "of these bounds and displays them.\n",
    "\n",
    "You can collect the candidate outlier data points for each variable with some simple additional\n",
    "code (not included in this version). With this information you can start examining these\n",
    "points with respect to the data set and the goals.\n"
   ]
  },
  {
   "cell_type": "code",
   "execution_count": null,
   "metadata": {},
   "outputs": [],
   "source": [
    "# variable names:\n",
    "# [fixed acidity', 'volatile acidity', 'citric acid',\n",
    "# 'residual sugar', 'chlorides', 'free sulfur dioxide',\n",
    "# 'total sulfur dioxide', 'density', 'pH', 'sulphates',\n",
    "# 'alcohol']\n",
    "\n",
    "import numpy as np\n",
    "\n",
    "# For each variable find the data points with extreme high or low values\n",
    "for variable in wine_set.keys():\n",
    "    # TODO: Calculate Q1 (25th percentile of the data) for the given feature\n",
    "    Q1 = np.percentile(wine_set[variable], q=25)\n",
    "    \n",
    "    # TODO: Calculate Q3 (75th percentile of the data) for the given feature\n",
    "    Q3 = np.percentile(wine_set[variable], q=75)\n",
    "    \n",
    "    # TODO: Use the interquartile range to calculate an outlier step (1.5 times the interquartile range)\n",
    "    interquartile_range = Q3 - Q1\n",
    "    step = 1.5 * interquartile_range\n",
    "    \n",
    "    # Display the outliers\n",
    "    print(\"Data points considered outliers for the variable '{}':\".format(variable))\n",
    "    display(wine_set[~((wine_set[variable] >= Q1 - step) & (wine_set[variable] <= Q3 + step))])\n",
    "    \n",
    "    # OPTIONAL: Select the indices for data points you wish to remove\n",
    "    #outliers = []\n",
    "    # Remove the outliers, if any were specified\n",
    "    #good_data = wine_set.drop(wine_set.index[outliers]).reset_index(drop = True)\n",
    "# end for\n"
   ]
  },
  {
   "cell_type": "markdown",
   "metadata": {},
   "source": [
    "This method seems to find a large number of candidate outlier points. My suggestion\n",
    "is to look through them, critically examining them. Remember - these are just\n",
    "candidate points. You don't need to remove them.\n",
    "\n",
    "To better examine these points, it would be good to create a box plot for\n",
    "each feature. Then you can check the candidate outlier points from the IQR method\n",
    "against these plots by including them in the boxplot. It would also be good to \n",
    "plot these candidate points on a scatter plot."
   ]
  },
  {
   "cell_type": "markdown",
   "metadata": {},
   "source": [
    "<a id='Outlier Summary - Second'></a>\n",
    "### 2.8.4 Outlier Summary\n",
    "\n",
    "You always want to check for outliers in your data set. You should\n",
    "spend time to examine candidate outlier points using any (really, all) of the\n",
    "previously mentioned techniques.\n",
    "\n",
    "A good approach is to begin with a data analysis of the original data set, computing all\n",
    "the statistics, plotting the data, etc. Then you repeat the same analysis as you remove\n",
    "candidate outliers. Ideally, you should remove the outliers one at a time. As they\n",
    "are removed, recompute the statistics for the new subset without the outlier, and compare\n",
    "it to the original statistics. Did things appreciably change as the outliers were removed?\n",
    "Were the changes appropriate? Appropriate means that they help achieve your goals\n",
    "\n",
    "On the one hand, you <strong>don't</strong> want the fundamental statistics to change\n",
    "as you remove outliers. If they change too much then the \"reduced\" data set no longer\n",
    "represents the original data set.\n",
    "\n",
    "Using the wine data set in this notebook as an example, we found that a number of outliers\n",
    "had low wine qualities, 2 or 3, or high wine qualities, 6-8. Given that they are flagged as\n",
    "outliers, we might be tempted to remove them from the data set. However, if you do that,\n",
    "you have removed real information about poor wine quality and much better quality wines.\n",
    "If we are interested in creating models across the entire range of wine qualities, or\n",
    "understanding the data across that range, then, as much as possible, we need to maintain\n",
    "the statistics of the initial data set since it includes the range of wine qualities.\n",
    "\n",
    "On the other hand, maybe you do want to allow the fundamental statistics to change.\n",
    "The changes may have to happen because of the data set itself (data points that don't\n",
    "belong). Moreover, you may want to remove outliers with corresponding change in the\n",
    "statistics because of what the data set will be used for.\n",
    "\n",
    "Using our wine data set again as an example, a majority of the data points measured using quality\n",
    "are in the \"middle\" of the quality scores - that is a 4 or 5 quality rating. The outlier\n",
    "analysis found most candidate outliers that have much poorer quality ratings, 2 or 3,\n",
    "or much higher quality ratings, 7 and 8. If we want to focus on wine of a 4 or 5 quality\n",
    "rating, then we can remove some of the outliers with other wine quality values.\n",
    "\n",
    "Identifying and perhaps removing outliers isn't a simple exercise of computing numbers\n",
    "and removing data points. You need to always keep an eye on the ultimate goal of the\n",
    "data analysis."
   ]
  },
  {
   "cell_type": "markdown",
   "metadata": {},
   "source": [
    "<a id='Clustering - Second'></a>\n",
    "## 2.9 Clustering through Kmeans\n",
    "\n",
    "Recall that clustering is the task of grouping a set of objects so that the objects\n",
    "in the same group, called a cluster, are more similar (in some sense) to each other\n",
    "than to those in other clusters.\n",
    "\n",
    "Cluster Analysis is an extremely common function in data analysis. It gives\n",
    "you some insight into how the variables group and how they might be related.\n",
    "You can also do clustering to help located outliers (look for points that are way\n",
    "outside of a group, yet are still considered part of that group).\n",
    "\n",
    "As part of the outlier process, if you remove data points, you should perform a\n",
    "cluster analysis after the removal to look for changes in the clustering.\n",
    "\n",
    "Moreover, cluster analysis is a good way to label data for both machine learning and\n",
    "deep learning. It's an automated way of labeling data.\n",
    "\n",
    "As you will learn, the number of clusters is an input variable for the particular\n",
    "clustering method we will use (Kmeans). That is, you have to pick a number of clusters\n",
    "before you actually compute them. This can put pressure on the data analyst and require\n",
    "more computations."
   ]
  },
  {
   "cell_type": "markdown",
   "metadata": {},
   "source": [
    "The first step we're going to take in clustering the wine quality data is to split\n",
    "the data into two subsets. The training data set, which is the data set we're going to use\n",
    "to create the clusters, is 70% of the data points, approximately 1,119 points. The\n",
    "remaining 30% of the data set is used for\"testing\", approximately 480). That is,\n",
    "testing the clusters to determine if the new data points fall into the correct cluster.\n",
    "\n",
    "The code snippet below uses a  <a href=\"https://scikit-learn.org/stable/\"Scikit Learn</a>\n",
    "method to first scale the variables so that the center of the scaled data set is the mean\n",
    "and the variance is set to 1.\n"
   ]
  },
  {
   "cell_type": "code",
   "execution_count": null,
   "metadata": {},
   "outputs": [],
   "source": [
    "from sklearn import preprocessing\n",
    "from sklearn.model_selection import train_test_split\n",
    "\n",
    "# standardize predictors to have mean=0 and sd=1\n",
    "pred = wine_set[['density', 'alcohol', 'sulphates', 'pH', 'volatile acidity', 'chlorides', 'fixed acidity',\n",
    "                 'citric acid', 'residual sugar', 'free sulfur dioxide', 'total sulfur dioxide']]\n",
    "clustervar = pred.copy()\n",
    "\n",
    "clustervar = pd.DataFrame(preprocessing.scale(clustervar))\n",
    "clustervar.columns = pred.columns\n",
    "\n",
    "# split into training and testing sets\n",
    "clus_train, clus_test = train_test_split(clustervar, test_size=0.3, random_state=123)\n",
    "print(clus_train.shape)"
   ]
  },
  {
   "cell_type": "markdown",
   "metadata": {},
   "source": [
    "The output should be (1119, 11). This indicates that the training set has 1,119 rows\n",
    "(number of data points) but still has all 11 original independent variables."
   ]
  },
  {
   "cell_type": "markdown",
   "metadata": {},
   "source": [
    "<a id='Clustering Elbow Plots - Second'></a>\n",
    "### 2.9.1 Cluster and Elbow Plots\n",
    "\n",
    "After splitting the data into a training subset and a testing subset we can create an\n",
    "\"Elbow Plot\" just as we did with the first, really simple data set. We're going to loop\n",
    "over a range of cluster sizes, from 1 to 9, and create the Kmeans clustering. For each\n",
    "value of cluster size, the average spatial distance from the points to their centroids\n",
    "is computed and plotted.\n",
    "\n",
    "For a \"good\" cluster, the average spatial distance should be as small as possible. The\n",
    "elbow plot allows you to see how this varies with the number of clusters.\n",
    "\n",
    "Note: The upper limit of 9 clusters was chosen arbitrarily. Feel free to choose whatever\n",
    "upper limit you like. Just be warned that as the number of clusters goes, the computation\n",
    "work more rapidly."
   ]
  },
  {
   "cell_type": "code",
   "execution_count": null,
   "metadata": {},
   "outputs": [],
   "source": [
    "from sklearn.cluster import KMeans\n",
    "from scipy.spatial.distance import cdist\n",
    "import matplotlib.pyplot as plt\n",
    "\n",
    "%matplotlib inline\n",
    "\n",
    "#Loop over 1-9 clusters\n",
    "clusters = range(1, 10)\n",
    "meandist = []\n",
    "\n",
    "for k in clusters:\n",
    "    # print(k)\n",
    "    model = KMeans(n_clusters=k)\n",
    "    model.fit(clus_train)\n",
    "    # clusassign = model.predict(clus_train)\n",
    "    meandist.append(sum(np.min(cdist(clus_train, model.cluster_centers_, 'euclidean'), axis=1))/clus_train.shape[0])\n",
    "# end if\n",
    "\n",
    "print('Average distance from observations to the cluster centroids for 1-9 clusters:')\n",
    "print(meandist)\n",
    "\n",
    "fig = plt.figure()\n",
    "ax1 = fig.add_subplot(111)\n",
    "\n",
    "ax1.scatter(clusters, meandist, c='b', marker=\"s\", label='mean dist')\n",
    "plt.xlabel('Number of Clusters')\n",
    "plt.ylabel('Average dist')\n",
    "plt.title('Selecting k with the Elbow method)')\n",
    "plt.show()"
   ]
  },
  {
   "cell_type": "markdown",
   "metadata": {},
   "source": [
    "At first glance it looks like <tt>k=9</tt> is the \"optimal\" but the curve appears to be still\n",
    "be decreasing. You could keep increasing the value of <tt>k</tt> until you find a minimum\n",
    "but notice that the as <tt>k</tt> increases, the improvement in the average distance is getting\n",
    "smaller and smaller. Therefore, increasing <tt>k</tt> might not substantially. \n",
    "\n",
    "Staying with <tt>k=9</tt>, let's say it's optimal because it's the minimum average distance\n",
    "for the range of <tt>k</tt> covered. We can dive into more detail by plot the clusters for\n",
    "each value of <tt>k</tt> to see clustering.\n",
    "\n",
    "To create these plots, the <tt>x-axis</tt> and <tt>y-axis</tt> values are the top two Principal\n",
    "Component Analysis values (PCA). PCA is covered in th next section.\n"
   ]
  },
  {
   "cell_type": "code",
   "execution_count": null,
   "metadata": {},
   "outputs": [],
   "source": [
    "from sklearn.decomposition import PCA\n",
    "import matplotlib.pyplot as plt\n",
    "from sklearn.cluster import KMeans\n",
    "\n",
    "%matplotlib inline\n",
    "\n",
    "clusters = range(1, 10)\n",
    "\n",
    "for k in clusters:\n",
    "    modelk = KMeans(n_clusters=k)\n",
    "    modelk.fit(clus_train)\n",
    "\n",
    "    # plot clusters - note we use PCA to find the two most important\n",
    "    # variables to do the x-y plot. We do this because there are more\n",
    "    # than 2 variables in the data set (2 columns)\n",
    "    pca_2 = PCA(2)\n",
    "    plot_columns = pca_2.fit_transform(clus_train)\n",
    "    plt.scatter(x=plot_columns[:, 0], y=plot_columns[:, 1], c=modelk.labels_)\n",
    "    plt.xlabel('Canonical variable 1')\n",
    "    plt.ylabel('Canonical variable 2')\n",
    "    outstr = 'Canonical variables for ',str(k),' clusters'\n",
    "    plt.title('Canonical variables for '+str(k)+' clusters')\n",
    "    plt.show()\n",
    "#end if\n"
   ]
  },
  {
   "cell_type": "markdown",
   "metadata": {},
   "source": [
    "This series of plots can show you a great deal. For example, compare the plot for\n",
    "<tt>k=2</tt> to the plot for <tt>k=9</tt>. How easy is it to see the individual\n",
    "clusters for k=9? Personally, I think it's difficult. In fact, I think anything\n",
    "more than <tt>k=3</tt> makes it difficult to recognize the individual clusters\n",
    "when plotted against the first two PCA values. As an example, look the plot for\n",
    "<tt>k=3</tt> and <tt>k=2</tt>. I see some overlap in data points making it difficult\n",
    "to distinguish between clusters.\n"
   ]
  },
  {
   "cell_type": "code",
   "execution_count": null,
   "metadata": {},
   "outputs": [],
   "source": [
    "from sklearn.cluster import KMeans\n",
    "import matplotlib.pyplot as plt\n",
    "from sklearn.decomposition import PCA\n",
    "\n",
    "%matplotlib inline\n",
    "\n",
    "# Plot cluster for k=3\n",
    "\n",
    "model2 = KMeans(n_clusters=3)\n",
    "model2.fit(clus_train)\n",
    "# plot clusters\n",
    "pca_2 = PCA(2)\n",
    "plot_columns = pca_2.fit_transform(clus_train)\n",
    "plt.scatter(x=plot_columns[:, 0], y=plot_columns[:, 1], c=model2.labels_)\n",
    "plt.xlabel('Canonical variable 1')\n",
    "plt.ylabel('Canonical variable 2')\n",
    "plt.title('Canonical variables for 3 clusters')\n",
    "plt.show()"
   ]
  },
  {
   "cell_type": "code",
   "execution_count": null,
   "metadata": {},
   "outputs": [],
   "source": [
    "from sklearn.cluster import KMeans\n",
    "import matplotlib.pyplot as plt\n",
    "from sklearn.decomposition import PCA\n",
    "\n",
    "%matplotlib inline\n",
    "\n",
    "# Plot cluster for k=2\n",
    "\n",
    "model2 = KMeans(n_clusters=2)\n",
    "model2.fit(clus_train)\n",
    "# plot clusters\n",
    "pca_2 = PCA(2)\n",
    "plot_columns = pca_2.fit_transform(clus_train)\n",
    "plt.scatter(x=plot_columns[:, 0], y=plot_columns[:, 1], c=model2.labels_)\n",
    "plt.xlabel('Canonical variable 1')\n",
    "plt.ylabel('Canonical variable 2')\n",
    "plt.title('Canonical variables for 2 clusters')\n",
    "plt.show()"
   ]
  },
  {
   "cell_type": "markdown",
   "metadata": {},
   "source": [
    "<a id='PCA - Second'></a>\n",
    "## 2.10 PCA\n",
    "\n",
    "Data sets can have a large number of variables. You can examine the data set\n",
    "as we have done up to this point. But what happens if the data set has a large\n",
    "number of independent variables? The analysis time grows very quickly. Some\n",
    "of the tools have compute times that grow faster than n<sup>2</sup> where\n",
    "<tt>n</tt> is the number of variables.\n",
    "\n",
    "Moreover, creating any model from the data set grows in complexity and\n",
    "resources with the number of variables. \n",
    "\n",
    "The effect of both of these trends, is that reducing the data set to the fewest\n",
    "number of variables is greatly desired.\n",
    "\n",
    "<a href=\"https://en.wikipedia.org/wiki/Principal_component_analysis\">Principal \n",
    "Component Analysis</a> (PCA) allows us to examine the interrelationships amoung\n",
    "the set of variables to identify the underlying structure of those variables.\n",
    "Using PCA we can also find the features that don't greatly impact the model,\n",
    "reducing the number of variables. Therefore, we can reduce the time for analysis\n",
    "and model creation.\n",
    "\n",
    "PCA uses an orthogonal transformation to convert the data into a set of linearly\n",
    "uncorrelated variables called principal components. In doing this, the variables\n",
    "will likely lose their physical meaning. But this approach allows us to better\n",
    "understand the relationship amoung variables.\n",
    "\n",
    "The transformed variables are sorted so that the first principal component has\n",
    "the largest possible <strong>variance</strong> and the second principal component\n",
    "has the next largest variance, and so on. There is a constraint such that each \n",
    "the principal component is orthogonal to the proceeding component. \n",
    "\n",
    "Below is a simple plot that shows how to go from a data set that has two variables,\n",
    "to a PCA plot with two PCA coordinates.\n",
    "\n",
    "<strong>Plot Reference</strong>:\n",
    "\n",
    "1. <a href=\"https://ourcodingclub.github.io/2018/05/04/ordination.html\">https://ourcodingclub.github.io/2018/05/04/ordination.html</a>"
   ]
  },
  {
   "attachments": {
    "PCAexample.png": {
     "image/png": "[encoded data removed]"
    }
   },
   "cell_type": "markdown",
   "metadata": {},
   "source": [
    "![PCAexample.png](attachment:PCAexample.png)"
   ]
  },
  {
   "cell_type": "markdown",
   "metadata": {},
   "source": [
    "The left hand plot is a scatter plot of two variables in a data set that\n",
    "have physical meaning. Using PCA, we can find two PCA variables so that\n",
    "PCA1 has the largest variance and PCA2 has the next highest variance. The\n",
    "PCA axis are rotated with respect original variables and are orthogonal\n",
    "to each other. Note that PCA1 and PCA2 <strong>no longer</strong> correspond\n",
    "to physical variables."
   ]
  },
  {
   "cell_type": "raw",
   "metadata": {},
   "source": [
    "In general, PCA is sensitive to the relative scaling of the principal variables.\n",
    "The data can be normalized using the Z-score for each data point. As a reminder,\n",
    "the basic equation is,"
   ]
  },
  {
   "attachments": {
    "image.png": {
     "image/png": "[encoded data removed]"
    }
   },
   "cell_type": "markdown",
   "metadata": {},
   "source": [
    "![image.png](attachment:image.png)"
   ]
  },
  {
   "cell_type": "markdown",
   "metadata": {},
   "source": [
    "As a reminder:\n",
    "    \n",
    "<codeblock>\n",
    "    In this equation, X is the data point, \"mu\" is the mean, and \"sigma\"\n",
    "    is the standard deviation.\n",
    "\n",
    "    Another scaling approach would be to make the mean of the data 0, and the\n",
    "    variance 1.\n",
    "</codeblock>\n",
    "\n",
    "In case you are interested, the PCA is typically done using an eigenvalue\n",
    "decomposition of a data covariance matrix. More over, taking the Singular Value\n",
    "Decomposition (SVD) of a data matrix produces the same results. \n"
   ]
  },
  {
   "cell_type": "markdown",
   "metadata": {},
   "source": [
    "Principal Component Analysis (PCA) is a technique that can be used to find\n",
    "the list of principal components for a data set. A\n",
    "<a href=\"https://towardsdatascience.com/a-one-stop-shop-for-principal-component-analysis-5582fb7e0a9c\">Reference</a> talks about the reasons\n",
    "one might want to do a PCA analysis.\n",
    "\n",
    "1. Do you want to reduce the number of variables, but are not able to identify variables to completely remove from consideration?\n",
    "\n",
    "2. Do you want to ensure your variables are independent of one another?\n",
    "\n",
    "3. Are you comfortable making your independent variables less interpretable?\n",
    "\n",
    "I would add another reason,\n",
    "\n",
    "4. If you want to better understand your data.\n",
    "\n",
    "To compute the PCA of the data set, we can use a PCA method in SciKit-Learn.\n"
   ]
  },
  {
   "cell_type": "markdown",
   "metadata": {},
   "source": [
    "As an example of computing the PCA of our data set, let's compute the first four\n",
    "PCA values.\n",
    "\n",
    "PCA works in an unsupervised learning setup, therefore we will remove the dependent\n",
    "(i.e. response variable from our dataset). This is the x array below.\n",
    "\n",
    "PCA also needs to use scaled data when doing it's computations. This is necessary\n",
    "because PCA is trying to capture the total variance in the variables. Therefore the\n",
    "input variables have to have similar scales of measurement. It removes the\n",
    "mean from the data set and scales it to unit variance. To make sure the\n",
    "scaling is correct, the mean and variance are computed. All of this is done\n",
    "using a method from SciKit-Learn, <tt>StandardScaler</tt>. \n",
    "\n",
    "After the PCA is computed. The values of the first four PCA values are computed\n",
    "for each data point in the data set. Then a few elements from the table are\n",
    "printed."
   ]
  },
  {
   "cell_type": "code",
   "execution_count": null,
   "metadata": {},
   "outputs": [],
   "source": [
    "from sklearn.preprocessing import StandardScaler\n",
    "from sklearn.decomposition import PCA\n",
    "import matplotlib.pyplot as plt\n",
    "\n",
    "\n",
    "features = ['fixed acidity', 'volatile acidity', 'citric acid',\n",
    "            'residual sugar', 'chlorides', 'free sulfur dioxide',\n",
    "            'total sulfur dioxide', 'density', 'pH', 'sulphates',\n",
    "            'alcohol']\n",
    "x = wine_set.loc[:, features].values\n",
    "y = wine_set.loc[:, ['quality']].values\n",
    "\n",
    "x = StandardScaler().fit_transform(x)\n",
    "\n",
    "# Check scaling:\n",
    "print(\"Checking scaling:\")\n",
    "print(\"mean = \",np.mean(x))\n",
    "print(\"scale = \",np.std(x))\n",
    "\n",
    "# Do the PCA\n",
    "pca = PCA(n_components=11)\n",
    "principalComponents = pca.fit_transform(x)\n",
    "# Change array into a data frame\n",
    "principalDataframe = pd.DataFrame(data = principalComponents, columns = ['PC1', 'PC2','PC3', 'PC4', 'PCA5',\n",
    "                                                                         'PCA6', 'PCA7', 'PCA8', 'PCA9',\n",
    "                                                                         'PCA10', 'PCA11'])\n",
    "\n",
    "targetDataframe = wine_set[['quality']]\n",
    "newDataframe = pd.concat([principalDataframe, targetDataframe],axis = 1)\n",
    "\n",
    "newDataframe"
   ]
  },
  {
   "cell_type": "markdown",
   "metadata": {},
   "source": [
    "The columns tell you \"how much\" each principal component is included in\n",
    "the specific data point. A table of numbers is a bit difficult to read,\n",
    "but you can get an idea of what is happening. For example, let's look\n",
    "at the first data point. PC1 and PC3 are much larger in magnitude than\n",
    "PC2 (about 4x). PC1, PC2, PC3, are all <strong>MUCH</strong> larger\n",
    "in magnitude than PC4. PC4 has very little impact. \n",
    "\n",
    "This tells you that PC1, PC3, are very important to the first data point.\n",
    "Reducing the model below 3 principal components could really affect the\n",
    "behavior. That is, the reduced model doesn't represent the first data\n",
    "point very well (if the first data point is important to you). Even\n",
    "thought PC2 doesn't contribute that much, it should be included and\n",
    "you get that for \"free\" if you include PC1 to PC3.\n",
    "\n",
    "Remember that the PCA values contribute to the overall <strong>variance</strong>\n",
    "of the transformed model. Lets print out the PCA values for all the components."
   ]
  },
  {
   "cell_type": "code",
   "execution_count": null,
   "metadata": {},
   "outputs": [],
   "source": [
    "pca.explained_variance_ratio_"
   ]
  },
  {
   "cell_type": "markdown",
   "metadata": {},
   "source": [
    "The array is a list of the variances for the principal components. If we look\n",
    "at the first four principal components, we can see that PC1 explains 28.17%\n",
    "of the overall variance, PC2 explains 17.51% of the variance, PCA3 explains\n",
    "14.1%, and PCA4 explains 11.03%. The sum total variance using 4 PCAs, is 70.81%. \n",
    "\n",
    "Remember that we want a reduced model that has as much variance as the original\n",
    "model so that the reduced model is an accurate representation of the full model.\n",
    "Is 70.81% good or not? What is a good value? Why?\n",
    "\n",
    "The variance for the principal components is easily plotted as a bar chart\n",
    "below (plots are always a little easier to interpret). Sometimes this is\n",
    "referred to as a \"Scree\" plot."
   ]
  },
  {
   "cell_type": "code",
   "execution_count": null,
   "metadata": {},
   "outputs": [],
   "source": [
    "import numpy as np\n",
    "\n",
    "percent_variance = np.round(pca.explained_variance_ratio_* 100, decimals =2)\n",
    "print(percent_variance)\n",
    "columns = ['PC1', 'PC2', 'PC3', 'PC4', 'PCA5', 'PCA6', 'PCA7', 'PCA8', 'PCA9',\n",
    "           'PCA10', 'PCA11']\n",
    "plt.bar(x= range(1,12), height=percent_variance, tick_label=columns)\n",
    "plt.ylabel('Percentate of Variance Explained')\n",
    "plt.xlabel('Principal Component')\n",
    "plt.title('PCA Scree Plot n=11')\n",
    "plt.show()"
   ]
  },
  {
   "cell_type": "markdown",
   "metadata": {},
   "source": [
    "You can easily see that PCA1 has by far the largest variance (as expected).\n",
    "Then there is a fairly large drop off to PCA2, PCA3, PCA4,\n",
    "and so on. However, the PCA values for PCA2-PCA4 are still fairly\n",
    "substantial, especially compared to PCA1. This may indicate that\n",
    "a reduced model should at least keep the first 4 PCA's.\n",
    "\n",
    "You can create a table of the sum of the variances as a function of the\n",
    "number of components (see Lecture).\n",
    "\n",
    "To illustrate how you could repeat the PCA analysis but with a\n",
    "reduced number of PCA values, let's select 4 as the number of\n",
    "values to keep."
   ]
  },
  {
   "cell_type": "code",
   "execution_count": null,
   "metadata": {},
   "outputs": [],
   "source": [
    "from sklearn.preprocessing import StandardScaler\n",
    "from sklearn.decomposition import PCA\n",
    "import matplotlib.pyplot as plt\n",
    "\n",
    "\n",
    "features = ['fixed acidity', 'volatile acidity', 'citric acid',\n",
    "            'residual sugar', 'chlorides', 'free sulfur dioxide',\n",
    "            'total sulfur dioxide', 'density', 'pH', 'sulphates',\n",
    "            'alcohol']\n",
    "x = wine_set.loc[:, features].values\n",
    "y = wine_set.loc[:, ['quality']].values\n",
    "\n",
    "x = StandardScaler().fit_transform(x)\n",
    "\n",
    "# Check scaling:\n",
    "print(\"Checking scaling:\")\n",
    "print(\"mean = \",np.mean(x))\n",
    "print(\"scale = \",np.std(x))\n",
    "\n",
    "# Do the PCA\n",
    "pca = PCA(n_components=4)\n",
    "principalComponents = pca.fit_transform(x)\n",
    "principalDataframe = pd.DataFrame(data = principalComponents,\n",
    "                                  columns = ['PC1', 'PC2','PC3', 'PC4'])\n",
    "\n",
    "targetDataframe = wine_set[['quality']]\n",
    "newDataframe = pd.concat([principalDataframe, targetDataframe],axis = 1)\n",
    "\n",
    "pca.explained_variance_ratio_\n",
    "\n",
    "percent_variance = np.round(pca.explained_variance_ratio_* 100, decimals =2)\n",
    "print(percent_variance)\n",
    "columns = ['PC1', 'PC2','PC3', 'PC4']\n",
    "plt.bar(x= range(1,5), height=percent_variance, tick_label=columns)\n",
    "plt.ylabel('Percentate of Variance Explained')\n",
    "plt.xlabel('Principal Component')\n",
    "plt.title('PCA Scree Plot n=4')\n",
    "plt.show()"
   ]
  },
  {
   "cell_type": "markdown",
   "metadata": {},
   "source": [
    "Next, we can plot the first and second principal components against one another.\n",
    "The goal is to visualize the new dataset to see how PCA makes it easier to explain\n",
    "the original data.\n",
    "\n",
    "However, before we do that, let's recompute the PCA for 4 values."
   ]
  },
  {
   "cell_type": "code",
   "execution_count": null,
   "metadata": {},
   "outputs": [],
   "source": [
    "from sklearn.preprocessing import StandardScaler\n",
    "from sklearn.decomposition import PCA\n",
    "import matplotlib.pyplot as plt\n",
    "\n",
    "\n",
    "features = ['fixed acidity', 'volatile acidity', 'citric acid',\n",
    "            'residual sugar', 'chlorides', 'free sulfur dioxide',\n",
    "            'total sulfur dioxide', 'density', 'pH', 'sulphates',\n",
    "            'alcohol']\n",
    "x = wine_set.loc[:, features].values\n",
    "y = wine_set.loc[:, ['quality']].values\n",
    "\n",
    "x = StandardScaler().fit_transform(x)\n",
    "\n",
    "# Check scaling:\n",
    "print(\"Checking scaling:\")\n",
    "print(\"mean = \",np.mean(x))\n",
    "print(\"scale = \",np.std(x))\n",
    "\n",
    "# Do the PCA\n",
    "pca = PCA(n_components=4)\n",
    "principalComponents = pca.fit_transform(x)\n",
    "principalDataframe = pd.DataFrame(data = principalComponents, columns = ['PC1', 'PC2','PC3', 'PC4'])\n",
    "\n",
    "targetDataframe = wine_set[['quality']]\n",
    "newDataframe = pd.concat([principalDataframe, targetDataframe],axis = 1)"
   ]
  },
  {
   "cell_type": "markdown",
   "metadata": {},
   "source": [
    "The first plot a scatter plot of PC1 against PC2. All values of wine\n",
    "quality are used in the plot."
   ]
  },
  {
   "cell_type": "code",
   "execution_count": null,
   "metadata": {},
   "outputs": [],
   "source": [
    "plt.scatter(principalDataframe.PC1, principalDataframe.PC2)\n",
    "plt.title('PC1 against PC2')\n",
    "plt.xlabel('PC1')\n",
    "plt.ylabel('PC2')"
   ]
  },
  {
   "cell_type": "markdown",
   "metadata": {},
   "source": [
    "Alternatively, you could use Seaborn to create a scatter plot with the wine\n",
    "quality colored coded."
   ]
  },
  {
   "cell_type": "code",
   "execution_count": null,
   "metadata": {},
   "outputs": [],
   "source": [
    "sns.scatterplot(x=principalDataframe.PC1, y=principalDataframe.PC2, hue='quality', palette=\"deep\", data=wine_set)\n",
    "plt.title('PC1 against PC2')\n",
    "plt.show()"
   ]
  },
  {
   "cell_type": "markdown",
   "metadata": {},
   "source": [
    "From this chart it is difficult to understand if the two principal components\n",
    "are actually orthogonal. No distinct groups appear. This might indicate\n",
    "the both PCA's are necessary to model much of the original data.\n",
    "\n",
    "Let's plot PC2 against PC3."
   ]
  },
  {
   "cell_type": "code",
   "execution_count": null,
   "metadata": {},
   "outputs": [],
   "source": [
    "sns.scatterplot(x=principalDataframe.PC2, y=principalDataframe.PC3, hue='quality', palette=\"deep\", data=wine_set)\n",
    "plt.title('PC2 against PC3')\n",
    "plt.show()"
   ]
  },
  {
   "cell_type": "markdown",
   "metadata": {},
   "source": [
    "Let's plot PC3 against PC4."
   ]
  },
  {
   "cell_type": "code",
   "execution_count": null,
   "metadata": {},
   "outputs": [],
   "source": [
    "sns.scatterplot(x=principalDataframe.PC3, y=principalDataframe.PC4, hue='quality', palette=\"deep\", data=wine_set)\n",
    "plt.title('PC3 against PC4')\n",
    "plt.show()"
   ]
  },
  {
   "cell_type": "markdown",
   "metadata": {},
   "source": [
    "Let's plot PC1 against PC4."
   ]
  },
  {
   "cell_type": "code",
   "execution_count": null,
   "metadata": {},
   "outputs": [],
   "source": [
    "sns.scatterplot(x=principalDataframe.PC1, y=principalDataframe.PC4, hue='quality', palette=\"deep\", data=wine_set)\n",
    "plt.title('PC1 against PC4')\n",
    "plt.show()"
   ]
  },
  {
   "cell_type": "markdown",
   "metadata": {},
   "source": [
    "From these plots, it is difficult to say if these four PCA values are enough\n",
    "to represent the model. The next step would be to reduce the original data set,\n",
    "compute the statistics, and compare to the statistics of the original model."
   ]
  },
  {
   "cell_type": "markdown",
   "metadata": {},
   "source": [
    "<a id='PCA Summary - Second'></a>\n",
    "### 2.10.1 Summary of PCA\n",
    "\n",
    "Principal Component Analysis is a tool for helping understand out data because it\n",
    "helps us summarize the correlations across the variables with a smaller set of\n",
    "linear combinations. If you combine this with the correlation analysis that we\n",
    "previously did, you can start to see if some of the variables are not necessary\n",
    "to capture the behavior of the model.\n",
    "\n",
    "At first, this is a bit difficult to do, and this data set doesn't help too much,\n",
    "but over time, you can use these two sets of tools, Correlation Analysis, and\n",
    "PCA, to determine what variables are important and which ones are not.\n",
    "\n",
    "Of course, making this determination is done considering the purpose of modeling\n",
    "the data. Does a model create with a reduced data set, behave as a model created\n",
    "with the whole data set? Do you care if a reduced model behaves as a model for\n",
    "the entire data set?"
   ]
  },
  {
   "cell_type": "markdown",
   "metadata": {},
   "source": [
    "<a id='Data Science Summary'></a>\n",
    "# 3. Data Science Summary\n",
    "\n",
    "This notebook uses exploratory data analysis, and a few other tools, to help us\n",
    "better understand our data. However, as you may have noticed, data science is not\n",
    "\"push button\" where you can create some tables and plots, and call it\n",
    "a day. Rather it is very interactive where you have to keep your goals in mind\n",
    "(goals in using the data set) as you explore and understand your data set.  You\n",
    "also may have to \"back-track\" during your data analysis to try different things\n",
    "and different values in the tools, to get a data set you think matches your goals.\n",
    "In my opinion, this is the beginning and the essence of data science.\n",
    "\n",
    "One last observation. Many researchers will try to jump from having a data set\n",
    "to creating models. If they are not world experts, I will bet money that they will\n",
    "get into trouble. They will have models that make no sense and models that produce\n",
    "meaningless results. At that point, they will have to go back and examine their\n",
    "data to better understand it. Real experts will do a data analysis, such as the\n",
    "one we have done, to understand their data <em>before</em> they start making\n",
    "models.\n",
    "\n",
    "Above all:\n",
    "\n",
    "* Practice, practice, practice\n",
    "* Repeat the analysis several times to get a \"feel\" for the data\n",
    "* Document what you think the data is telling you\n",
    "* Have fun and learn something\n"
   ]
  },
  {
   "cell_type": "code",
   "execution_count": null,
   "metadata": {},
   "outputs": [],
   "source": []
  },
  {
   "cell_type": "code",
   "execution_count": null,
   "metadata": {},
   "outputs": [],
   "source": []
  },
  {
   "cell_type": "code",
   "execution_count": null,
   "metadata": {},
   "outputs": [],
   "source": []
  },
  {
   "cell_type": "code",
   "execution_count": null,
   "metadata": {},
   "outputs": [],
   "source": []
  },
  {
   "cell_type": "code",
   "execution_count": null,
   "metadata": {},
   "outputs": [],
   "source": []
  },
  {
   "cell_type": "code",
   "execution_count": null,
   "metadata": {},
   "outputs": [],
   "source": []
  }
 ],
 "metadata": {
  "kernelspec": {
   "display_name": "Python 3",
   "language": "python",
   "name": "python3"
  },
  "language_info": {
   "codemirror_mode": {
    "name": "ipython",
    "version": 3
   },
   "file_extension": ".py",
   "mimetype": "text/x-python",
   "name": "python",
   "nbconvert_exporter": "python",
   "pygments_lexer": "ipython3",
   "version": "3.7.6"
  }
 },
 "nbformat": 4,
 "nbformat_minor": 2
}
